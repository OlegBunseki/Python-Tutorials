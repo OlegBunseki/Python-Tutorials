{
 "cells": [
  {
   "cell_type": "markdown",
   "metadata": {},
   "source": [
    "## CLASSES"
   ]
  },
  {
   "cell_type": "markdown",
   "metadata": {},
   "source": [
    "#### Resources:\n",
    "- OOP (Object Oriented Programming): https://realpython.com/python3-object-oriented-programming/\n",
    "- super(): https://realpython.com/python-super/\n",
    "- Myteries about the word \"Self\": https://medium.com/better-programming/unlock-the-4-mysteries-of-self-in-python-d1913fbb8e16\n",
    "- (READ) Basics: https://levelup.gitconnected.com/all-the-basics-of-python-classes-8b07046d2a52\n"
   ]
  },
  {
   "cell_type": "markdown",
   "metadata": {},
   "source": [
    "#### Definition of OOP:\n",
    "- Object-oriented Programming, or OOP for short, is a programming paradigm which provides a means of structuring programs so that properties and behaviors are bundled into individual objects.\n",
    "\n",
    "- For instance, an object could represent a person with a name property, age, address, etc., with behaviors like walking, talking, breathing, and running. Or an email with properties like recipient list, subject, body, etc., and behaviors like adding attachments and sending.\n",
    "\n",
    "- Put another way, object-oriented programming is an approach for modeling concrete, real-world things like cars as well as relations between things like companies and employees, students and teachers, etc. OOP models real-world entities as software objects, which have some data associated with them and can perform certain functions.\n",
    "\n",
    "- Another common programming paradigm is procedural programming which structures a program like a recipe in that it provides a set of steps, in the form of functions and code blocks, which flow sequentially in order to complete a task.\n",
    "\n",
    "- The key takeaway is that objects are at the center of the object-oriented programming paradigm, not only representing the data, as in procedural programming, but in the overall structure of the program as well."
   ]
  },
  {
   "cell_type": "markdown",
   "metadata": {},
   "source": [
    "#### Definition of Classes:\n",
    "- Classes are used to create new user-defined data structures that contain arbitrary information about something. In the case of an animal, we could create an Animal() class to track properties about the Animal like the name and age.\n",
    "\n",
    "- It’s important to note that a class just provides structure—it’s a blueprint for how something should be defined, but it doesn’t actually provide any real content itself. The Animal() class may specify that the name and age are necessary for defining an animal, but it will not actually state what a specific animal’s name or age is.\n",
    "\n",
    "- It may help to think of a class as an idea for how something should be defined."
   ]
  },
  {
   "cell_type": "markdown",
   "metadata": {},
   "source": [
    "### Basic Class"
   ]
  },
  {
   "cell_type": "code",
   "execution_count": 23,
   "metadata": {},
   "outputs": [],
   "source": [
    "class Dog:\n",
    "    pass"
   ]
  },
  {
   "cell_type": "markdown",
   "metadata": {},
   "source": [
    "- All classes create objects, and all objects contain characteristics called attributes (referred to as properties in the opening paragraph). \n",
    "- Use the __init__() method to initialize (e.g., specify) an object’s initial attributes by giving them their default value (or state). \n",
    "- This method must have at least one argument as well as the self variable, which refers to the object itself (e.g., Dog).\n",
    "- !!!Remember: the class is just for defining the Dog, not actually creating instances of individual dogs with specific names and ages; we’ll get to that shortly."
   ]
  },
  {
   "cell_type": "code",
   "execution_count": 24,
   "metadata": {},
   "outputs": [],
   "source": [
    "class Dog:\n",
    "\n",
    "    # Initializer / Instance Attributes\n",
    "    def __init__(self, name, age):\n",
    "        self.name = name\n",
    "        self.age = age"
   ]
  },
  {
   "cell_type": "markdown",
   "metadata": {},
   "source": [
    "#### Class Attributes\n",
    "- While instance attributes are specific to each object, class attributes are the same for all instances—which in this case is all dogs."
   ]
  },
  {
   "cell_type": "code",
   "execution_count": 27,
   "metadata": {},
   "outputs": [],
   "source": [
    "class Dog:\n",
    "\n",
    "    # Class Attribute\n",
    "    species = 'mammal'\n",
    "\n",
    "    # Initializer / Instance Attributes\n",
    "    def __init__(self, name, age):\n",
    "        self.name = name\n",
    "        self.age = age"
   ]
  },
  {
   "cell_type": "code",
   "execution_count": 30,
   "metadata": {},
   "outputs": [
    {
     "data": {
      "text/plain": [
       "False"
      ]
     },
     "execution_count": 30,
     "metadata": {},
     "output_type": "execute_result"
    }
   ],
   "source": [
    "class Dog:\n",
    "    pass\n",
    "\n",
    "a = Dog()\n",
    "b = Dog()\n",
    "a == b\n",
    "\n",
    "# To demonstrate that each instance is actually different, we instantiated two more dogs, assigning each to a variable, \n",
    "# then tested if those variables are equal."
   ]
  },
  {
   "cell_type": "code",
   "execution_count": 31,
   "metadata": {},
   "outputs": [
    {
     "data": {
      "text/plain": [
       "__main__.Dog"
      ]
     },
     "execution_count": 31,
     "metadata": {},
     "output_type": "execute_result"
    }
   ],
   "source": [
    "type(a)"
   ]
  },
  {
   "cell_type": "code",
   "execution_count": 3,
   "metadata": {},
   "outputs": [
    {
     "name": "stdout",
     "output_type": "stream",
     "text": [
      "Philo is 5 and Mikey is 6.\n",
      "Philo is a mammal!\n"
     ]
    }
   ],
   "source": [
    "class Dog:\n",
    "\n",
    "    # Class Attribute\n",
    "    species = 'mammal'\n",
    "\n",
    "    # Initializer / Instance Attributes\n",
    "    def __init__(self, name, age):\n",
    "        self.name = name\n",
    "        self.age = age\n",
    "\n",
    "\n",
    "# Instantiate the Dog object\n",
    "philo = Dog(\"Philo\", 5)\n",
    "mikey = Dog(\"Mikey\", 6)\n",
    "\n",
    "# Access the instance attributes\n",
    "print(\"{} is {} and {} is {}.\".format(philo.name, philo.age, mikey.name, mikey.age))\n",
    "\n",
    "# Is Philo a mammal?\n",
    "if philo.species == \"mammal\":\n",
    "    print(\"{0} is a {1}!\".format(philo.name, philo.species))"
   ]
  },
  {
   "cell_type": "code",
   "execution_count": 11,
   "metadata": {},
   "outputs": [
    {
     "name": "stdout",
     "output_type": "stream",
     "text": [
      "2080609581384\n",
      "Mikey is 6 years old\n",
      "2080609581384\n",
      "Mikey says Gruff Gruff\n"
     ]
    }
   ],
   "source": [
    "class Dog:\n",
    "\n",
    "    # Class Attribute\n",
    "    species = 'mammal'\n",
    "\n",
    "    # Initializer / Instance Attributes\n",
    "    def __init__(self, name, age):\n",
    "        self.name = name\n",
    "        self.age = age\n",
    "\n",
    "    # instance method\n",
    "    def description(self):\n",
    "        print(id(self))\n",
    "        return \"{} is {} years old\".format(self.name, self.age)\n",
    "\n",
    "    # instance method\n",
    "    def speak(self, sound):\n",
    "        return \"{} says {}\".format(self.name, sound)\n",
    "\n",
    "# Instantiate the Dog object\n",
    "mikey = Dog(\"Mikey\", 6)\n",
    "\n",
    "# call our instance methods\n",
    "print(mikey.description())\n",
    "print(id(mikey)) # ! The self argument in the function declaration refers to the instance object that calls the function.\n",
    "print(mikey.speak(\"Gruff Gruff\"))"
   ]
  },
  {
   "cell_type": "markdown",
   "metadata": {},
   "source": [
    "#### Modifying Attributes"
   ]
  },
  {
   "cell_type": "code",
   "execution_count": 35,
   "metadata": {},
   "outputs": [
    {
     "name": "stdout",
     "output_type": "stream",
     "text": [
      "False\n",
      "True\n"
     ]
    }
   ],
   "source": [
    "class Email:\n",
    "    def __init__(self):\n",
    "        self.is_sent = False\n",
    "    def send_email(self):\n",
    "        self.is_sent = True\n",
    "\n",
    "my_email = Email()\n",
    "print(my_email.is_sent)\n",
    "\n",
    "my_email.send_email()\n",
    "print(my_email.is_sent)"
   ]
  },
  {
   "cell_type": "markdown",
   "metadata": {},
   "source": [
    "### Python Object Inheritance"
   ]
  },
  {
   "cell_type": "markdown",
   "metadata": {},
   "source": [
    "- Inheritance is the process by which one class takes on the attributes and methods of another. Newly formed classes are called child classes, and the classes that child classes are derived from are called parent classes.\n",
    "\n",
    "- It’s important to note that child classes override or extend the functionality (e.g., attributes and behaviors) of parent classes. In other words, child classes inherit all of the parent’s attributes and behaviors but can also specify different behavior to follow. The most basic type of class is an object, which generally all other classes inherit as their parent."
   ]
  },
  {
   "cell_type": "code",
   "execution_count": 1,
   "metadata": {},
   "outputs": [
    {
     "name": "stdout",
     "output_type": "stream",
     "text": [
      "Jim is 12 years old\n",
      "Jim runs slowly\n"
     ]
    }
   ],
   "source": [
    "# Parent class\n",
    "class Dog:\n",
    "\n",
    "    # Class attribute\n",
    "    species = 'mammal'\n",
    "\n",
    "    # Initializer / Instance attributes\n",
    "    def __init__(self, name, age):\n",
    "        self.name = name\n",
    "        self.age = age\n",
    "\n",
    "    # instance method\n",
    "    def description(self):\n",
    "        return \"{} is {} years old\".format(self.name, self.age)\n",
    "\n",
    "    # instance method\n",
    "    def speak(self, sound):\n",
    "        return \"{} says {}\".format(self.name, sound)\n",
    "\n",
    "\n",
    "# Child class (inherits from Dog class)\n",
    "class RussellTerrier(Dog):\n",
    "    \n",
    "    def run(self, speed):\n",
    "        return \"{} runs {}\".format(self.name, speed)\n",
    "\n",
    "\n",
    "# Child class (inherits from Dog class)\n",
    "class Bulldog(Dog):\n",
    "    \n",
    "    def run(self, speed):\n",
    "        return \"{} runs {}\".format(self.name, speed)\n",
    "\n",
    "\n",
    "# Child classes inherit attributes and\n",
    "# behaviors from the parent class\n",
    "jim = Bulldog(\"Jim\", 12)\n",
    "print(jim.description())\n",
    "\n",
    "# Child classes have specific attributes\n",
    "# and behaviors as well\n",
    "print(jim.run(\"slowly\"))"
   ]
  },
  {
   "cell_type": "code",
   "execution_count": 18,
   "metadata": {},
   "outputs": [
    {
     "name": "stdout",
     "output_type": "stream",
     "text": [
      "78.53981633974483\n",
      "31.41592653589793\n",
      "-----------------------------------\n",
      "Radius is equal to: 10\n",
      "-----------------------------------\n",
      "314.1592653589793\n",
      "62.83185307179586\n",
      "-----------------------------------\n",
      "Innere Variable pi: 3.141592653589793\n"
     ]
    }
   ],
   "source": [
    "import math\n",
    "\n",
    "class Kreis():\n",
    "    \n",
    "    pi = math.pi\n",
    "    \n",
    "    def __init__(self, radius):\n",
    "        self.r = radius\n",
    "        \n",
    "    def flaeche(self):\n",
    "        return Kreis.pi*self.r**2\n",
    "    \n",
    "    def umfang(self):\n",
    "        return 2*Kreis.pi*self.r\n",
    "    \n",
    "    def radius_change(self, radius):\n",
    "        self.r = radius\n",
    "        \n",
    "    def state(self):\n",
    "        print('Radius is equal to:', self.r)\n",
    "    \n",
    "kreis = Kreis(5)\n",
    "\n",
    "print(kreis.flaeche())\n",
    "print(kreis.umfang())\n",
    "print('-'*35)\n",
    "kreis.radius_change(10)\n",
    "kreis.state()\n",
    "print('-'*35)\n",
    "print(kreis.flaeche())\n",
    "print(kreis.umfang())\n",
    "print('-'*35)\n",
    "print('Innere Variable pi:', kreis.pi)"
   ]
  },
  {
   "cell_type": "code",
   "execution_count": 32,
   "metadata": {},
   "outputs": [
    {
     "name": "stdout",
     "output_type": "stream",
     "text": [
      "This is a circle with radius of 5\n",
      "2\n",
      "Deleted :(\n"
     ]
    }
   ],
   "source": [
    "### __functions__\n",
    "\n",
    "import math\n",
    "\n",
    "class Kreis():\n",
    "    \n",
    "    pi = math.pi\n",
    "    \n",
    "    def __init__(self, radius):\n",
    "        self.r = radius\n",
    "        \n",
    "    def flaeche(self):\n",
    "        return Kreis.pi*self.r**2\n",
    "    \n",
    "    def umfang(self):\n",
    "        return 2*Kreis.pi*self.r\n",
    "    \n",
    "    def radius_change(self, radius):\n",
    "        self.r = radius\n",
    "        \n",
    "    def state(self):\n",
    "        print('Radius is equal to:', self.r)\n",
    "        \n",
    "    def __str__(self):\n",
    "        return 'This is a circle with radius of {}'.format(self.r)\n",
    "    \n",
    "    def __len__(self):\n",
    "        return len([Kreis.pi, self.r])\n",
    "    \n",
    "    def __del__(self):\n",
    "        print('Deleted :(')\n",
    "\n",
    "    \n",
    "kreis = Kreis(5)\n",
    "\n",
    "print(kreis)        # <__main__.Kreis object at 0x0000025B39AD7AC8>    # CHANGE WITH __str__ functions\n",
    "print(len(kreis))   # TypeError: object of type 'Kreis' has no len()   # CHANGE WITH __len__ method\n",
    "del kreis"
   ]
  },
  {
   "cell_type": "code",
   "execution_count": null,
   "metadata": {},
   "outputs": [],
   "source": []
  },
  {
   "cell_type": "markdown",
   "metadata": {},
   "source": [
    "#### Parent vs. Child Classes\n",
    "- The isinstance() function is used to determine if an instance is also an instance of a certain parent class."
   ]
  },
  {
   "cell_type": "code",
   "execution_count": 2,
   "metadata": {},
   "outputs": [
    {
     "name": "stdout",
     "output_type": "stream",
     "text": [
      "True\n",
      "True\n",
      "False\n",
      "False\n"
     ]
    }
   ],
   "source": [
    "# Is jim an instance of Dog()?\n",
    "print(isinstance(jim, Dog))\n",
    "\n",
    "# Is jim an instance of Bulldog()?\n",
    "print(isinstance(jim, Bulldog))\n",
    "\n",
    "# Is Bulldog an instance of Dog()?\n",
    "print(isinstance(Bulldog, Dog))\n",
    "\n",
    "# Is Dog an instance of Bulldog()?\n",
    "print(isinstance(Dog, Bulldog))"
   ]
  },
  {
   "cell_type": "markdown",
   "metadata": {},
   "source": [
    "### Introduction to super()"
   ]
  },
  {
   "cell_type": "code",
   "execution_count": 3,
   "metadata": {},
   "outputs": [],
   "source": [
    "class Rectangle:\n",
    "    \n",
    "    \"\"\"Class of a Rectagle. Accepts two parameters: Length and width.\n",
    "    It can return:\n",
    "    - area -> call class.area()\n",
    "    - perimeter -> call class.perimeter\"\"\"\n",
    "    \n",
    "    def __init__(self, length, width):\n",
    "        self.length = length\n",
    "        self.width = width\n",
    "\n",
    "    def area(self):\n",
    "        return self.length * self.width\n",
    "\n",
    "    def perimeter(self):\n",
    "        return 2 * self.length + 2 * self.width\n",
    "    \n",
    "    \n",
    "class Square:\n",
    "    \n",
    "    def __init__(self, length):\n",
    "        self.length = length\n",
    "\n",
    "    def area(self):\n",
    "        return self.length * self.length\n",
    "\n",
    "    def perimeter(self):\n",
    "        return 4 * self.length"
   ]
  },
  {
   "cell_type": "code",
   "execution_count": 4,
   "metadata": {},
   "outputs": [
    {
     "name": "stdout",
     "output_type": "stream",
     "text": [
      "<__main__.Rectangle object at 0x0000022926DB8208> \n",
      "\n",
      "Length: 3\n",
      "Width: 4\n",
      "Area: 12\n",
      "Perimeter: 14\n",
      "\n",
      " <__main__.Square object at 0x0000022926DB8400> \n",
      "\n",
      "Length: 3\n",
      "Area: 9\n",
      "Perimeter: 12\n"
     ]
    }
   ],
   "source": [
    "rectangle = Rectangle(3, 4)\n",
    "\n",
    "print(rectangle, '\\n')\n",
    "print('Length:', rectangle.length)\n",
    "print('Width:', rectangle.width)\n",
    "print('Area:', rectangle.area())\n",
    "print('Perimeter:', rectangle.perimeter())\n",
    "\n",
    "square = Square(3)\n",
    "\n",
    "print('\\n', square, '\\n')\n",
    "print('Length:', square.length)\n",
    "print('Area:', square.area())\n",
    "print('Perimeter:', square.perimeter())"
   ]
  },
  {
   "cell_type": "markdown",
   "metadata": {},
   "source": [
    "In this example, you have two shapes that are related to each other: a square is a special kind of rectangle. The code, however, doesn’t reflect that relationship and thus has code that is essentially repeated.\n",
    "\n",
    "By using inheritance, you can reduce the amount of code you write while simultaneously reflecting the real-world relationship between rectangles and squares:"
   ]
  },
  {
   "cell_type": "code",
   "execution_count": 5,
   "metadata": {},
   "outputs": [],
   "source": [
    "class Rectangle:\n",
    "    \n",
    "    def __init__(self, length, width):\n",
    "        self.length = length\n",
    "        self.width = width\n",
    "\n",
    "    def area(self):\n",
    "        return self.length * self.width\n",
    "\n",
    "    def perimeter(self):\n",
    "        return 2 * self.length + 2 * self.width\n",
    "\n",
    "\n",
    "# Here we declare that the Square class inherits from the Rectangle class\n",
    "\n",
    "class Square(Rectangle):\n",
    "    \n",
    "    def __init__(self, length):\n",
    "        super().__init__(length, length)"
   ]
  },
  {
   "cell_type": "code",
   "execution_count": 6,
   "metadata": {},
   "outputs": [
    {
     "name": "stdout",
     "output_type": "stream",
     "text": [
      "\n",
      " <__main__.Square object at 0x0000022926DB8438> \n",
      "\n",
      "Length: 3\n",
      "Area: 9\n",
      "Perimeter: 12\n"
     ]
    }
   ],
   "source": [
    "square = Square(3)\n",
    "\n",
    "print('\\n', square, '\\n')\n",
    "print('Length:', square.length)\n",
    "print('Area:', square.area())\n",
    "print('Perimeter:', square.perimeter())"
   ]
  },
  {
   "cell_type": "code",
   "execution_count": 19,
   "metadata": {},
   "outputs": [],
   "source": [
    "class Rectangle:\n",
    "    \n",
    "    def __init__(self, length, width):\n",
    "        self.length = length\n",
    "        self.width = width\n",
    "\n",
    "    def area(self):\n",
    "        return self.length * self.width\n",
    "\n",
    "    def perimeter(self):\n",
    "        return 2 * self.length + 2 * self.width\n",
    "    \n",
    "    \n",
    "class Square(Rectangle):\n",
    "    \n",
    "    def __init__(self, length):\n",
    "        super().__init__(length, length)\n",
    "\n",
    "        \n",
    "class Cube(Square):\n",
    "    \n",
    "    def surface_area(self):\n",
    "        face_area = super().area()\n",
    "        return face_area * 6\n",
    "\n",
    "    def volume(self):\n",
    "        face_area = super().area()\n",
    "        return face_area * self.length"
   ]
  },
  {
   "cell_type": "markdown",
   "metadata": {},
   "source": [
    "- Here you have implemented two methods for the Cube class: .surface_area() and .volume(). Both of these calculations rely on calculating the area of a single face, so rather than reimplementing the area calculation, you use super() to extend the area calculation.\n",
    "\n",
    "- Also notice that the Cube class definition does not have an .__init__(). Because Cube inherits from Square and .__init__() doesn’t really do anything differently for Cube than it already does for Square, you can skip defining it, and the .__init__() of the superclass (Square) will be called automatically.\n",
    "\n",
    "- super() returns a delegate object to a parent class, so you call the method you want directly on it: super().area().\n",
    "\n",
    "- Not only does this save us from having to rewrite the area calculations, but it also allows us to change the internal .area() logic in a single location. This is especially in handy when you have a number of subclasses inheriting from one superclass."
   ]
  },
  {
   "cell_type": "code",
   "execution_count": 20,
   "metadata": {},
   "outputs": [
    {
     "name": "stdout",
     "output_type": "stream",
     "text": [
      "9\n",
      "54\n",
      "27\n"
     ]
    }
   ],
   "source": [
    "cube = Cube(3)\n",
    "\n",
    "print(cube.area())\n",
    "print(cube.surface_area())\n",
    "print(cube.volume())"
   ]
  },
  {
   "cell_type": "markdown",
   "metadata": {},
   "source": [
    "### A super() Deep Dive"
   ]
  },
  {
   "cell_type": "markdown",
   "metadata": {},
   "source": [
    "- While the examples above (and below) call super() without any parameters, super() can also take two parameters: the first is the subclass, and the second parameter is an object that is an instance of that subclass."
   ]
  },
  {
   "cell_type": "code",
   "execution_count": 15,
   "metadata": {},
   "outputs": [],
   "source": [
    "class Rectangle:\n",
    "    \n",
    "    def __init__(self, length, width):\n",
    "        self.length = length\n",
    "        self.width = width\n",
    "\n",
    "    def area(self):\n",
    "        return self.length * self.width * 100\n",
    "\n",
    "    def perimeter(self):\n",
    "        return 2 * self.length + 2 * self.width\n",
    "\n",
    "    \n",
    "class Square(Rectangle):\n",
    "    def __init__(self, length):\n",
    "        super(Square, self).__init__(length, length)\n",
    "        \n",
    "    def area(self):\n",
    "        return self.length * self.width * 0"
   ]
  },
  {
   "cell_type": "markdown",
   "metadata": {},
   "source": [
    "- In Python 3, the super(Square, self) call is equivalent to the parameterless super() call. The first parameter refers to the subclass Square, while the second parameter refers to a Square object which, in this case, is self. "
   ]
  },
  {
   "cell_type": "code",
   "execution_count": 39,
   "metadata": {},
   "outputs": [],
   "source": [
    "class Cube(Square):\n",
    "    def surface_area(self):\n",
    "        face_area = super(Square, self).area()\n",
    "        return face_area * 6\n",
    "\n",
    "    def volume(self):\n",
    "        face_area = super(Square, self).area()\n",
    "        return face_area * self.length"
   ]
  },
  {
   "cell_type": "markdown",
   "metadata": {},
   "source": [
    "- In this example, you are setting Square as the subclass argument to super(), instead of Cube. This causes super() to start searching for a matching method (in this case, .area()) at one level above Square in the instance hierarchy, in this case Rectangle.\n",
    "\n",
    "- In this specific example, the behavior doesn’t change. But imagine that Square also implemented an .area() function that you wanted to make sure Cube did not use. Calling super() in this way allows you to do that.\n",
    "\n",
    "- Caution: While we are doing a lot of fiddling with the parameters to super() in order to explore how it works under the hood, I’d caution against doing this regularly.\n",
    "\n",
    "- The parameterless call to super() is recommended and sufficient for most use cases, and needing to change the search hierarchy regularly could be indicative of a larger design issue."
   ]
  },
  {
   "cell_type": "code",
   "execution_count": 40,
   "metadata": {},
   "outputs": [
    {
     "data": {
      "text/plain": [
       "5400"
      ]
     },
     "execution_count": 40,
     "metadata": {},
     "output_type": "execute_result"
    }
   ],
   "source": [
    "Cube(3).surface_area()"
   ]
  },
  {
   "cell_type": "code",
   "execution_count": null,
   "metadata": {},
   "outputs": [],
   "source": []
  },
  {
   "cell_type": "code",
   "execution_count": null,
   "metadata": {},
   "outputs": [],
   "source": []
  },
  {
   "cell_type": "code",
   "execution_count": null,
   "metadata": {},
   "outputs": [],
   "source": []
  }
 ],
 "metadata": {
  "kernelspec": {
   "display_name": "Python 3",
   "language": "python",
   "name": "python3"
  },
  "language_info": {
   "codemirror_mode": {
    "name": "ipython",
    "version": 3
   },
   "file_extension": ".py",
   "mimetype": "text/x-python",
   "name": "python",
   "nbconvert_exporter": "python",
   "pygments_lexer": "ipython3",
   "version": "3.7.4"
  }
 },
 "nbformat": 4,
 "nbformat_minor": 2
}
