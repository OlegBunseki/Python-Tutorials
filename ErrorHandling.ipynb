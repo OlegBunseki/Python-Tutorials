{
 "cells": [
  {
   "cell_type": "markdown",
   "metadata": {},
   "source": [
    "## Error Handling"
   ]
  },
  {
   "cell_type": "markdown",
   "metadata": {},
   "source": [
    "- Python Documention on Built-In Methods: https://docs.python.org/3/library/exceptions.html"
   ]
  },
  {
   "cell_type": "markdown",
   "metadata": {},
   "source": [
    "Hintergrund\n",
    "Die Fehlersuche ist beim Coden von Programmen und Skripten einer der umfangreichsten Schritte. Manche Studien gehen von bis zu 50% aus. Deshalb ist es extrem wichtig, effektive Methoden zur Suche von Fehlern im Code zu kennen.\n",
    "\n",
    "Im Allgemeinen gibt es zwei wichtige unterschiedliche Arten von Fehlern.\n",
    "\n",
    "Syntaxfehler: Das sind beispielsweise Tippfehler wie ein vergessener : nach einem if. Das kann natürlich jedem mal passieren. Solche Fehler sind eher \"kleine\" Probleme. Meistens lassen sie sich schnell finden und beheben.\n",
    "Semantische Fehler: Das sind Fehler in der Logik des Programmes. Sie treten dann auf, wenn das Programm nicht das erledigt, was es soll. Das kann auch passieren, wenn syntaktisch alles korrekt ist. Um diese Fehler finden zu können ist es eine Voraussetzung, die Intention hinter dem Code zu kennen.\n",
    "Innerhalb der Semantischen Fehler unterscheiden wir folgende zwei Kategorien:\n",
    "\n",
    "Fehler, die aus dem falschen Verständnis der Sprache herrühren. Zum Beispiel die falsche Verwendung der range Funktion.\n",
    "Fehler, die daher kommen, dass der Programmierer die Intention des Programms nicht verstanden hat bzw. diese nicht richtig umgesetzt hat"
   ]
  },
  {
   "cell_type": "markdown",
   "metadata": {},
   "source": [
    "### try und except\n",
    "\n",
    "Die grundsätzliche Terminologie und Syntax, die in Python zum Umgang mit Errors verwendet wird, ist die <b>try</b> und <b>except</b> (versuchen und ausnahmen definieren) Anweisung. Der Code, der eine Ausnahme verursachen könnte, wird in den <i>try</i> Block geschrieben. Wie mit den Ausnahmen umgegangen werden soll wird in den <i>except</i> Blocks definiert. Die Syntax sieht folgendermaßen aus:\n",
    "\n",
    "    try:\n",
    "       Hier werden die Operationen ausgeführt...\n",
    "       ...\n",
    "    except AusnahmeI:\n",
    "       Kommt es zu AusnahmeI, dann führe diesen Block aus.\n",
    "    except AusnahmeII:\n",
    "       Kommt es zu AusnahmeII, dann führe diesen Block aus.\n",
    "       ...\n",
    "    else:\n",
    "       Gibt es keine Ausnahme, dann führe diesen Block aus.\n",
    "       \n",
    "Wir können außerdem auch auf alle Ausnahmen überprüfen, indem wir einfach nur `except` eingeben. Um das alles besser zu verstehen schauen wir uns jetzt ein Beispiel an:"
   ]
  },
  {
   "cell_type": "code",
   "execution_count": 2,
   "metadata": {},
   "outputs": [
    {
     "ename": "TypeError",
     "evalue": "unsupported operand type(s) for +: 'int' and 'str'",
     "output_type": "error",
     "traceback": [
      "\u001b[1;31m---------------------------------------------------------------------------\u001b[0m",
      "\u001b[1;31mTypeError\u001b[0m                                 Traceback (most recent call last)",
      "\u001b[1;32m<ipython-input-2-7e26a3d627ec>\u001b[0m in \u001b[0;36m<module>\u001b[1;34m\u001b[0m\n\u001b[0;32m      2\u001b[0m     \u001b[1;32mreturn\u001b[0m \u001b[0mx\u001b[0m\u001b[1;33m+\u001b[0m\u001b[0my\u001b[0m\u001b[1;33m\u001b[0m\u001b[1;33m\u001b[0m\u001b[0m\n\u001b[0;32m      3\u001b[0m \u001b[1;33m\u001b[0m\u001b[0m\n\u001b[1;32m----> 4\u001b[1;33m \u001b[0madd_simple\u001b[0m\u001b[1;33m(\u001b[0m\u001b[1;36m2\u001b[0m\u001b[1;33m+\u001b[0m\u001b[1;34m's'\u001b[0m\u001b[1;33m)\u001b[0m\u001b[1;33m\u001b[0m\u001b[1;33m\u001b[0m\u001b[0m\n\u001b[0m",
      "\u001b[1;31mTypeError\u001b[0m: unsupported operand type(s) for +: 'int' and 'str'"
     ]
    }
   ],
   "source": [
    "def add_simple(x, y):\n",
    "    return x+y\n",
    "\n",
    "add_simple(2+'s')"
   ]
  },
  {
   "cell_type": "code",
   "execution_count": 5,
   "metadata": {},
   "outputs": [
    {
     "name": "stdout",
     "output_type": "stream",
     "text": [
      "ERROR: Both x and y must be of same type\n",
      "I am done :)\n"
     ]
    }
   ],
   "source": [
    "def add_complex(x, y):\n",
    "    try:\n",
    "        2+'s'\n",
    "    \n",
    "    except TypeError:\n",
    "        print('ERROR: Both x and y must be of same type')\n",
    "    \n",
    "    else:\n",
    "        pass\n",
    "    \n",
    "    finally:\n",
    "        print('I am done :)')\n",
    "    \n",
    "add_complex(2, 's')"
   ]
  },
  {
   "cell_type": "code",
   "execution_count": null,
   "metadata": {},
   "outputs": [],
   "source": []
  },
  {
   "cell_type": "code",
   "execution_count": null,
   "metadata": {},
   "outputs": [],
   "source": []
  },
  {
   "cell_type": "code",
   "execution_count": null,
   "metadata": {},
   "outputs": [],
   "source": []
  },
  {
   "cell_type": "code",
   "execution_count": null,
   "metadata": {},
   "outputs": [],
   "source": []
  },
  {
   "cell_type": "code",
   "execution_count": null,
   "metadata": {},
   "outputs": [],
   "source": []
  }
 ],
 "metadata": {
  "kernelspec": {
   "display_name": "Python 3",
   "language": "python",
   "name": "python3"
  },
  "language_info": {
   "codemirror_mode": {
    "name": "ipython",
    "version": 3
   },
   "file_extension": ".py",
   "mimetype": "text/x-python",
   "name": "python",
   "nbconvert_exporter": "python",
   "pygments_lexer": "ipython3",
   "version": "3.7.4"
  }
 },
 "nbformat": 4,
 "nbformat_minor": 2
}
