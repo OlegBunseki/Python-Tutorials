{
 "cells": [
  {
   "cell_type": "code",
   "execution_count": null,
   "metadata": {},
   "outputs": [],
   "source": []
  },
  {
   "cell_type": "code",
   "execution_count": null,
   "metadata": {},
   "outputs": [],
   "source": []
  },
  {
   "cell_type": "code",
   "execution_count": null,
   "metadata": {},
   "outputs": [],
   "source": []
  },
  {
   "cell_type": "code",
   "execution_count": 97,
   "metadata": {},
   "outputs": [],
   "source": [
    "### STRUCTURE\n",
    "\n",
    "# Airthmetics\n",
    "# Strings\n",
    "# Printing Options\n",
    "# Lists (incl. List Comprehension)\n",
    "# Dictionaries (incl. Dictionary Comprehension)\n",
    "# Tuples\n",
    "# Writing and reading Files\n",
    "# Sets\n",
    "# Booleans\n",
    "# If Else Statements\n",
    "# Loops\n",
    "# Functions\n",
    "# Lambda functions\n",
    "# Python Built-In Functions\n",
    "# Iterators and Generators"
   ]
  },
  {
   "cell_type": "code",
   "execution_count": 1,
   "metadata": {},
   "outputs": [
    {
     "data": {
      "text/plain": [
       "'C:\\\\Users\\\\smolanko\\\\Google Drive\\\\Data_Science\\\\MyCodes\\\\MyPythonTutorials'"
      ]
     },
     "execution_count": 1,
     "metadata": {},
     "output_type": "execute_result"
    }
   ],
   "source": [
    "pwd"
   ]
  },
  {
   "cell_type": "code",
   "execution_count": null,
   "metadata": {},
   "outputs": [],
   "source": [
    "# Arithmetics\n",
    "\n",
    "# Strings\n",
    "# - Indexing\n",
    "# - Methods\n",
    "\n",
    "\n",
    "# Printing Methods\n",
    "# https://pyformat.info/\n",
    "\n",
    "\n",
    "# for\n",
    "# if else\n",
    "# while\n",
    "\n",
    "# yield - https://medium.com/better-programming/what-does-the-yield-keyword-do-6b9304149462\n",
    "\n",
    "# functions\n",
    "# lambda\n",
    "\n",
    "# iterations vs generation\n",
    "# generators\n",
    "\n",
    "# lists\n",
    "# tuples\n",
    "# dictionaries (also default)\n",
    "\n",
    "#################\n",
    "# .map()\n",
    "# .reduce()\n",
    "# .filter()\n",
    "# https://medium.com/better-programming/how-to-start-using-map-filter-and-reduce-e01edba0d81\n",
    "#################  \n",
    "    \n",
    "# .zip()\n",
    "# enumerate()\n",
    "# .all() / .any()\n",
    "# complex()\n",
    "\n",
    "# Error Handling\n",
    "\n",
    "\n",
    "# Positional, Keyword, Both - https://medium.com/better-programming/how-to-define-function-parameters-as-positional-keyword-or-both-in-python-8753ca2ac5ca\n"
   ]
  },
  {
   "cell_type": "markdown",
   "metadata": {},
   "source": [
    "### Aithmetik"
   ]
  },
  {
   "cell_type": "code",
   "execution_count": 114,
   "metadata": {},
   "outputs": [
    {
     "name": "stdout",
     "output_type": "stream",
     "text": [
      "Add: 8\n",
      "Minus: 2\n",
      "Multiply 15\n",
      "Devision: 1.6666666666666667\n",
      "Floor Devision: 1\n",
      "Power: 125\n",
      "Modulo: 2\n"
     ]
    }
   ],
   "source": [
    "a = 5\n",
    "b = 3\n",
    "print('Add:', a+b)\n",
    "print('Minus:', a-b)\n",
    "print('Multiply', a*b)\n",
    "print('Devision:', a/b)\n",
    "print('Floor Devision:', a//b)\n",
    "print('Power:', a**b)\n",
    "print('Modulo:', a%b)"
   ]
  },
  {
   "cell_type": "markdown",
   "metadata": {},
   "source": [
    "### Strings"
   ]
  },
  {
   "cell_type": "markdown",
   "metadata": {},
   "source": [
    "- Strings are itrable"
   ]
  },
  {
   "cell_type": "code",
   "execution_count": 20,
   "metadata": {},
   "outputs": [
    {
     "name": "stdout",
     "output_type": "stream",
     "text": [
      "Hallo Welt\n",
      "Hallo  \n",
      " Welt\n",
      "HloW\n",
      "tleW ollaH\n",
      "Hallo Welt ich habe dich vermisst\n",
      "-----------------------------------\n",
      "HALLO WELT\n",
      "hallo welt\n",
      "['Hallo', 'Welt']\n"
     ]
    }
   ],
   "source": [
    "s = 'Hallo Welt'\n",
    "\n",
    "print(s)\n",
    "print(s[0:6],'\\n',s[6:])\n",
    "print(s[0:8:2])\n",
    "print(s[::-1])\n",
    "print(s+' ich habe dich vermisst')\n",
    "print('-'*35)\n",
    "print(s.upper())\n",
    "print(s.lower())\n",
    "print(s.split())"
   ]
  },
  {
   "cell_type": "code",
   "execution_count": 21,
   "metadata": {},
   "outputs": [
    {
     "name": "stdout",
     "output_type": "stream",
     "text": [
      "H - a - l - l - o -   - W - e - l - t - "
     ]
    }
   ],
   "source": [
    "for chr_ in s:\n",
    "    print(chr_, end=' - ')"
   ]
  },
  {
   "cell_type": "code",
   "execution_count": 22,
   "metadata": {},
   "outputs": [
    {
     "name": "stdout",
     "output_type": "stream",
     "text": [
      "capitalize\n",
      "casefold\n",
      "center\n",
      "count\n",
      "encode\n",
      "endswith\n",
      "expandtabs\n",
      "find\n",
      "format\n",
      "format_map\n",
      "index\n",
      "isalnum\n",
      "isalpha\n",
      "isascii\n",
      "isdecimal\n",
      "isdigit\n",
      "isidentifier\n",
      "islower\n",
      "isnumeric\n",
      "isprintable\n",
      "isspace\n",
      "istitle\n",
      "isupper\n",
      "join\n",
      "ljust\n",
      "lower\n",
      "lstrip\n",
      "maketrans\n",
      "partition\n",
      "replace\n",
      "rfind\n",
      "rindex\n",
      "rjust\n",
      "rpartition\n",
      "rsplit\n",
      "rstrip\n",
      "split\n",
      "splitlines\n",
      "startswith\n",
      "strip\n",
      "swapcase\n",
      "title\n",
      "translate\n",
      "upper\n",
      "zfill\n"
     ]
    }
   ],
   "source": [
    "for method in dir(s):\n",
    "    if method[0] != '_':\n",
    "        print(method)"
   ]
  },
  {
   "cell_type": "code",
   "execution_count": 17,
   "metadata": {},
   "outputs": [
    {
     "name": "stdout",
     "output_type": "stream",
     "text": [
      "abcdefghijklmnopqrstuvwxyz\n",
      "0123456789\n",
      "0123456789abcdefghijklmnopqrstuvwxyzABCDEFGHIJKLMNOPQRSTUVWXYZ!\"#$%&'()*+,-./:;<=>?@[\\]^_`{|}~ \t\n",
      "\r",
      "\u000b",
      "\f",
      "\n"
     ]
    }
   ],
   "source": [
    "import string\n",
    "\n",
    "print(string.ascii_lowercase)\n",
    "print(string.digits)\n",
    "print(string.printable)"
   ]
  },
  {
   "cell_type": "code",
   "execution_count": null,
   "metadata": {},
   "outputs": [],
   "source": []
  },
  {
   "cell_type": "code",
   "execution_count": null,
   "metadata": {},
   "outputs": [],
   "source": []
  },
  {
   "cell_type": "code",
   "execution_count": null,
   "metadata": {},
   "outputs": [],
   "source": []
  },
  {
   "cell_type": "markdown",
   "metadata": {},
   "source": [
    "### Printing Options"
   ]
  },
  {
   "cell_type": "code",
   "execution_count": 8,
   "metadata": {},
   "outputs": [
    {
     "name": "stdout",
     "output_type": "stream",
     "text": [
      "Hallo Bobo, wie geht es Dir\n",
      "Hallo Bobo, wie geht es Euch\n",
      "Hallo Euch, wie geht es Bobo\n",
      "Hallo Bobo, wie geht es Euch\n",
      "-----------------------------------\n",
      "Hallo Bobo, wie geht es Euch\n",
      "Hallo Bobo, wie geht es Euch\n",
      "-----------------------------------\n",
      "{:.3f}:5.342\n",
      "{:015.3f}:00000000005.342\n",
      "-----------------------------------\n",
      "{:d}:5\n",
      "{: d}: 5\n",
      "{:+d}:+5\n",
      "{:+4d}:  +5\n",
      "{:15d}:              5\n",
      "{:015d}:000000000000005\n",
      "-----------------------------------\n",
      "{:=+10d}:+        5\n",
      "{:+=10d}:+++++++++5\n",
      "-----------------------------------\n",
      "{:_<10}:test______\n",
      "{:_>10}:______test\n",
      "{:_^10}:___test___\n",
      "{:X^10}:XXXtestXXX\n",
      "{:^10}:   test   \n",
      "-----------------------------------\n",
      "{:_^9.5}___xylop___\n",
      "{:_>9.5}____xylop\n",
      "{:_<9.5}xylop____\n",
      "-----------------------------------\n",
      "_____+2.72\n"
     ]
    }
   ],
   "source": [
    "# Ressources:\n",
    "# - https://pyformat.info/\n",
    "\n",
    "\n",
    "### Format Printing\n",
    "\n",
    "print('Hallo {}, wie geht es Dir'.format('Bobo'))\n",
    "print('Hallo {}, wie geht es {}'.format('Bobo', 'Euch'))\n",
    "print('Hallo {1}, wie geht es {0}'.format('Bobo', 'Euch'))\n",
    "print('Hallo {name}, wie geht es {gruss}'.format(name='Bobo', gruss='Euch'))\n",
    "print('-'*35)\n",
    "\n",
    "l = ['Bobo', 'Euch']\n",
    "d = {'name': 'Bobo', 'gruss': 'Euch'}\n",
    "print('Hallo {l[0]}, wie geht es {l[1]}'.format(l=l))\n",
    "print('Hallo {name}, wie geht es {gruss}'.format(**d))\n",
    "\n",
    "# {} # : select all # 0 padding # padding frequency, default white space # .2f for float and d for digit #\n",
    "print('-'*35)\n",
    "print('{:.3f}:', '{:.3f}'.format(5.34234), sep='')\n",
    "# For floating points the padding value represents the length of the complete output. \n",
    "print('{:015.3f}:', '{:015.3f}'.format(5.34234), sep='') \n",
    "\n",
    "print('-'*35)\n",
    "print('{:d}:', '{:d}'.format(5), sep='')\n",
    "print('{: d}:', '{: d}'.format(5), sep='') # Only one padding works\n",
    "\n",
    "# By default only negative numbers are prefixed with a sign. This can be changed of course.\n",
    "print('{:+d}:', '{:+d}'.format(5), sep='')\n",
    "print('{:+4d}:', '{:+4d}'.format(5), sep='')\n",
    "print('{:15d}:', '{:15d}'.format(5), sep='')\n",
    "print('{:015d}:', '{:015d}'.format(5), sep='')\n",
    "\n",
    "print('-'*35)\n",
    "print('{:=+10d}:', '{:=+10d}'.format(5), sep='')\n",
    "print('{:+=10d}:', '{:+=10d}'.format(5), sep='')\n",
    "\n",
    "print('-'*35)\n",
    "print('{:_<10}:', '{:_<10}'.format('test'), sep='')\n",
    "print('{:_>10}:', '{:_>10}'.format('test'), sep='')\n",
    "print('{:_^10}:', '{:_^10}'.format('test'), sep='')\n",
    "print('{:X^10}:', '{:X^10}'.format('test'), sep='')\n",
    "print('{:^10}:', '{:^10}'.format('test'), sep='')\n",
    "\n",
    "print('-'*35)\n",
    "print('{:_^9.5}', '{:_^11.5}'.format('xylophone'), sep='')  # _ -> middle alligned -> 11 chr -> with 5 from the specified word\n",
    "print('{:_>9.5}', '{:_>9.5}'.format('xylophone'), sep='')\n",
    "print('{:_<9.5}', '{:_<9.5}'.format('xylophone'), sep='')\n",
    "\n",
    "print('-'*35)\n",
    "print('{:{}{}{sign}{}.{}}'.format(2.7182818284, '_', '>', 10, 3, sign='+'))"
   ]
  },
  {
   "cell_type": "markdown",
   "metadata": {},
   "source": [
    "### LISTS"
   ]
  },
  {
   "cell_type": "markdown",
   "metadata": {},
   "source": [
    "#### General:\n",
    "- Lists are mutable\n",
    "- Lists can contain different type of objects"
   ]
  },
  {
   "cell_type": "code",
   "execution_count": 26,
   "metadata": {},
   "outputs": [
    {
     "name": "stdout",
     "output_type": "stream",
     "text": [
      "l1: [1, 5, 4, 2, 3]\n",
      "l2: ['a', 1, 2]\n",
      "l3: [[1, 2], ['a', 2]]\n"
     ]
    }
   ],
   "source": [
    "### BASICS\n",
    "\n",
    "l1 = [1, 5, 4, 2, 3]\n",
    "l2 = ['a', 1, 2]\n",
    "l3 = [[1, 2], ['a', 2]]\n",
    "\n",
    "print('l1:', l1)\n",
    "print('l2:', l2)\n",
    "print('l3:', l3)"
   ]
  },
  {
   "cell_type": "code",
   "execution_count": 27,
   "metadata": {},
   "outputs": [
    {
     "name": "stdout",
     "output_type": "stream",
     "text": [
      "[5, 4, 2, 3]\n",
      "[1]\n",
      "[4, 2]\n",
      "[1, 4, 3]\n",
      "[3, 2, 4, 5, 1]\n",
      "-----------------------------------\n",
      "a\n"
     ]
    }
   ],
   "source": [
    "### INDEXING\n",
    "\n",
    "print(l1[1:])\n",
    "print(l1[:1])\n",
    "print(l1[2:4])\n",
    "print(l1[::2])\n",
    "print(l1[::-1])\n",
    "\n",
    "# Multilevel\n",
    "print('-'*35)\n",
    "print(l3[1][0])"
   ]
  },
  {
   "cell_type": "code",
   "execution_count": 28,
   "metadata": {},
   "outputs": [
    {
     "name": "stdout",
     "output_type": "stream",
     "text": [
      "[1, 5, 4, 2, 3, 'a', 1, 2]\n",
      "[1, 5, 4, 2, 3, ['a', 1, 2]]\n",
      "[1, 5, 4, 2, 3, 1, 5, 4, 2, 3]\n"
     ]
    }
   ],
   "source": [
    "### CONCAT / MULTIPLY\n",
    "\n",
    "print(l1+l2)\n",
    "print(l1+[l2])\n",
    "print(l1*2)"
   ]
  },
  {
   "cell_type": "code",
   "execution_count": 29,
   "metadata": {},
   "outputs": [
    {
     "name": "stdout",
     "output_type": "stream",
     "text": [
      "append\n",
      "clear\n",
      "copy\n",
      "count\n",
      "extend\n",
      "index\n",
      "insert\n",
      "pop\n",
      "remove\n",
      "reverse\n",
      "sort\n"
     ]
    }
   ],
   "source": [
    "for method in dir(l1):\n",
    "    if method[0] != '_':\n",
    "        print(method)"
   ]
  },
  {
   "cell_type": "code",
   "execution_count": 77,
   "metadata": {},
   "outputs": [
    {
     "name": "stdout",
     "output_type": "stream",
     "text": [
      "[2, 4, 1, 0, 5]\n",
      "[2, 4, 1, 0, 5, 'appended item']\n",
      "-----------------------------------\n",
      "I removed: appended item\n",
      "[2, 4, 1, 0, 5]\n",
      "-----------------------------------\n",
      "[2, 4, 1, 0, 5] length is: 5\n",
      "-----------------------------------\n",
      "Reverse is: [5, 0, 1, 4, 2]\n",
      "Back Reverse is: [2, 4, 1, 0, 5]\n",
      "-----------------------------------\n",
      "Sorted list: [0, 1, 2, 4, 5]\n",
      "Not sorted list: [2, 4, 1, 0, 5]\n",
      "Sorted list: [0, 1, 2, 4, 5]\n",
      "-----------------------------------\n",
      "Count of 2: 1\n"
     ]
    }
   ],
   "source": [
    "### METHODS:\n",
    "\n",
    "# l.append()   # value\n",
    "# l.pop()      # index\n",
    "# len(l)\n",
    "# l.reverse()\n",
    "# l.sort()     # works on digits and alphabetical characters\n",
    "# sorted(l)\n",
    "# l.count()    # provide what to count\n",
    "\n",
    "print(l1)\n",
    "l1.append('appended item') # directly affects the list / cannot print directly -> will return None object\n",
    "print(l1)\n",
    "print('-'*35)\n",
    "\n",
    "removed_item = l1.pop(-1) # directly affects the list / prints in console the poped items\n",
    "print('I removed:', removed_item)\n",
    "print(l1)\n",
    "print('-'*35)\n",
    "\n",
    "print(l1, 'length is:', len(l1))\n",
    "print('-'*35)\n",
    "\n",
    "l1.reverse()      # cannot print directly -> will return None object\n",
    "print('Reverse is:', l1)\n",
    "l1.reverse()\n",
    "print('Back Reverse is:', l1)\n",
    "print('-'*35)\n",
    "\n",
    "l1.sort()\n",
    "print('Sorted list:', l1)\n",
    "\n",
    "l1 = [2, 4, 1, 0, 5]\n",
    "x = sorted(l1)           # Does not apply directly to the list! Needs to be saved!\n",
    "print('Not sorted list:', l1)\n",
    "print('Sorted list:', x)\n",
    "print('-'*35)\n",
    "\n",
    "print('Count of 2:', l1.count(2))"
   ]
  },
  {
   "cell_type": "code",
   "execution_count": 55,
   "metadata": {},
   "outputs": [
    {
     "name": "stdout",
     "output_type": "stream",
     "text": [
      "[0, 1, 4, 9]\n",
      "-----------------------------------\n",
      "[0, 4, 16, 36, 64]\n",
      "-----------------------------------\n",
      "[0, 'X', 4, 'X', 16, 'X', 36, 'X', 64]\n"
     ]
    }
   ],
   "source": [
    "### LIST COMPREHENSION\n",
    "\n",
    "# [do for ... in ...]\n",
    "# [do for ... in ... if ...]\n",
    "# [do if ... else ... for ... in ...]\n",
    "\n",
    "# simple\n",
    "x = [a**2 for a in range(4)]\n",
    "print(x)\n",
    "print('-'*35)\n",
    "\n",
    "# if\n",
    "x = [a**2 for a in range(9) if a % 2 == 0]\n",
    "print(x)\n",
    "print('-'*35)\n",
    "\n",
    "# if else\n",
    "x = [a**2 if a % 2 == 0 else 'X' for a in range(9)]\n",
    "print(x)"
   ]
  },
  {
   "cell_type": "code",
   "execution_count": 57,
   "metadata": {},
   "outputs": [
    {
     "name": "stdout",
     "output_type": "stream",
     "text": [
      "[0, 1, 16, 81]\n",
      "[0, 1, 16, 81]\n"
     ]
    }
   ],
   "source": [
    "### NESTED\n",
    "\n",
    "x = [a**2 for a in [b**2 for b in range(4)]]\n",
    "print(x)\n",
    "print([y**4 for y in range(4)])"
   ]
  },
  {
   "cell_type": "code",
   "execution_count": null,
   "metadata": {},
   "outputs": [],
   "source": []
  },
  {
   "cell_type": "code",
   "execution_count": null,
   "metadata": {},
   "outputs": [],
   "source": []
  },
  {
   "cell_type": "code",
   "execution_count": null,
   "metadata": {},
   "outputs": [],
   "source": []
  },
  {
   "cell_type": "code",
   "execution_count": null,
   "metadata": {},
   "outputs": [],
   "source": []
  },
  {
   "cell_type": "markdown",
   "metadata": {},
   "source": [
    "### DICTIONARIES"
   ]
  },
  {
   "cell_type": "markdown",
   "metadata": {},
   "source": [
    "Ein Python Dictonary besteht aus einem Key und einem zugehörigen Wert. Sie beinhalten also Key-Value (dt.: Schlüssel-Wert) Paare. Deren Werte können nahezu jedes Python Objekt sein.\n",
    "\n",
    "Dicitonaries gehören zu den wichtigsten Datentypen in Python; kaum ein Programm kommt ohne sie aus. Sie teilen folgende Eigenschaften mit Listen:\n",
    "\n",
    "- Dictionaries können leicht verändert werden\n",
    "- Dictionaries können beliebig wachsen und schrumpfen\n",
    "- Keys sind immutable\n",
    "- Standard Dictionary ist nicht sortiert"
   ]
  },
  {
   "cell_type": "code",
   "execution_count": 79,
   "metadata": {},
   "outputs": [
    {
     "name": "stdout",
     "output_type": "stream",
     "text": [
      "{}\n"
     ]
    }
   ],
   "source": [
    "### EMPTY DICTIONARY\n",
    "\n",
    "d = {}\n",
    "print(d)"
   ]
  },
  {
   "cell_type": "code",
   "execution_count": 87,
   "metadata": {},
   "outputs": [
    {
     "name": "stdout",
     "output_type": "stream",
     "text": [
      "{'key1': 2, 'key2': [1, 2, 3], 'key3': 'a', 'key4': {'k': 1}}\n"
     ]
    }
   ],
   "source": [
    "d = {'key1': 2, 'key2': [1, 2, 3], 'key3': 'a', 'key4': {'k': 1}}\n",
    "print(d)"
   ]
  },
  {
   "cell_type": "code",
   "execution_count": 101,
   "metadata": {},
   "outputs": [
    {
     "name": "stdout",
     "output_type": "stream",
     "text": [
      "get\n",
      "setdefault\n",
      "pop\n",
      "popitem\n",
      "keys\n",
      "items\n",
      "values\n",
      "update\n",
      "fromkeys\n",
      "clear\n",
      "copy\n"
     ]
    }
   ],
   "source": [
    "### SEE WHAT METHODS ARE ALLOWED\n",
    "\n",
    "for method in d.__dir__():\n",
    "    if method[0] != '_':\n",
    "        print(method)"
   ]
  },
  {
   "cell_type": "code",
   "execution_count": 88,
   "metadata": {},
   "outputs": [
    {
     "name": "stdout",
     "output_type": "stream",
     "text": [
      "2\n",
      "[1, 2, 3]\n",
      "3\n",
      "1\n"
     ]
    }
   ],
   "source": [
    "### ACCESS DICTIONARY VIA KEYS\n",
    "\n",
    "print(d['key1'])\n",
    "print(d['key2'])\n",
    "print(d['key2'][2])\n",
    "print(d['key4']['k'])"
   ]
  },
  {
   "cell_type": "code",
   "execution_count": 89,
   "metadata": {},
   "outputs": [
    {
     "name": "stdout",
     "output_type": "stream",
     "text": [
      "2\n",
      "3\n"
     ]
    }
   ],
   "source": [
    "print(d['key1'])\n",
    "d['key1'] += 1\n",
    "print(d['key1'])"
   ]
  },
  {
   "cell_type": "code",
   "execution_count": 113,
   "metadata": {},
   "outputs": [
    {
     "name": "stdout",
     "output_type": "stream",
     "text": [
      "Keys: dict_keys(['key1', 'key2', 'key3', 'key4'])\n",
      "Values: dict_values([3, [1, 2, 3], 'a', {'k': 1}])\n",
      "Items: dict_items([('key1', 3), ('key2', [1, 2, 3]), ('key3', 'a'), ('key4', {'k': 1})])\n"
     ]
    }
   ],
   "source": [
    "print('Keys:', d.keys())\n",
    "print('Values:', d.values())\n",
    "print('Items:',d.items())"
   ]
  },
  {
   "cell_type": "code",
   "execution_count": 122,
   "metadata": {},
   "outputs": [
    {
     "name": "stdout",
     "output_type": "stream",
     "text": [
      "3\n",
      "-----------------------------------\n",
      "3\n",
      "None\n"
     ]
    }
   ],
   "source": [
    "### DIFFERENCE BETWEEN GET AND ACCESS VIA KEY\n",
    "\n",
    "print(d['key1'])\n",
    "# print(d['key7']) # KEY ERROR!!!\n",
    "print('-'*35)\n",
    "print(d.get('key1'))\n",
    "print(d.get('key7')) # NO ERROR -> RETURN NONE IF NOT AVAILABLE"
   ]
  },
  {
   "cell_type": "code",
   "execution_count": 128,
   "metadata": {},
   "outputs": [
    {
     "name": "stdout",
     "output_type": "stream",
     "text": [
      "key1\n",
      "key2\n",
      "key3\n",
      "key4\n",
      "-----------------------------------\n",
      "key1  -  3\n",
      "key2  -  [1, 2, 3]\n",
      "key3  -  a\n",
      "key4  -  {'k': 1}\n"
     ]
    }
   ],
   "source": [
    "### LOOP OVER DICTIONARY\n",
    "for key in d:\n",
    "    print(key)\n",
    "    \n",
    "print('-'*35)\n",
    "\n",
    "for k, v in d.items():\n",
    "    print(k, ' - ', v)"
   ]
  },
  {
   "cell_type": "code",
   "execution_count": 5,
   "metadata": {},
   "outputs": [
    {
     "name": "stdout",
     "output_type": "stream",
     "text": [
      "{'Mama': 4, 'Papa': 4, 'Grandmama': 9, 'Son': 3}\n",
      "{'Mama': 4, 'Papa': 4, 'Grandmama': 9, 'Son': 3}\n"
     ]
    }
   ],
   "source": [
    "### DICTIONARY COMPREHENSION\n",
    "\n",
    "w = ['Mama', 'Papa', 'Grandmama', 'Son']\n",
    "\n",
    "print({word: len(word) for word in w})\n",
    "\n",
    "# Bonus: another useful trick for creating dictionaries is to zip two lists together.\n",
    "\n",
    "len_w = [len(word) for word in w]\n",
    "\n",
    "print(dict(zip(w, len_w)))"
   ]
  },
  {
   "cell_type": "code",
   "execution_count": 24,
   "metadata": {},
   "outputs": [
    {
     "name": "stdout",
     "output_type": "stream",
     "text": [
      "{'a': 4, 'b': 2}\n",
      "{'a': 4, 'b': 2}\n"
     ]
    }
   ],
   "source": [
    "### Create Dictionary from Tuples\n",
    "print( dict( [ ('a', 4), ('b', 2) ] ) )\n",
    "print( dict( ( ('a', 4), ('b', 2) ) ) )"
   ]
  },
  {
   "cell_type": "code",
   "execution_count": null,
   "metadata": {},
   "outputs": [],
   "source": []
  },
  {
   "cell_type": "code",
   "execution_count": null,
   "metadata": {},
   "outputs": [],
   "source": [
    "### ORDERED DICTIONARY\n",
    "# import collections\n",
    "#"
   ]
  },
  {
   "cell_type": "code",
   "execution_count": 80,
   "metadata": {},
   "outputs": [],
   "source": [
    "### DEFAULT DICTIONARY\n",
    "# import collections\n",
    "# "
   ]
  },
  {
   "cell_type": "code",
   "execution_count": null,
   "metadata": {},
   "outputs": [],
   "source": []
  },
  {
   "cell_type": "code",
   "execution_count": null,
   "metadata": {},
   "outputs": [],
   "source": []
  },
  {
   "cell_type": "markdown",
   "metadata": {},
   "source": [
    "### TUPLES"
   ]
  },
  {
   "cell_type": "markdown",
   "metadata": {},
   "source": [
    "In Python sind Tupel sehr ähnlich zu Listen. Im Gegensatz zu Listen sind sie aber nicht änderbar. Das bedeutet, dass weder Werte hinzugefügt, noch gelöscht werden können. Deshalb verwendet man Tupel immer dann, wenn etwas nicht geändert werden soll. Beispiele sind Wochentage oder das Datum eines Kalenders.\n",
    "\n",
    "Die Vorteile von Tupeln gegenüber Listen zusammengefasst:\n",
    "\n",
    "- Tupel sind performanter als Listen.\n",
    "- Wenn bekannt ist, dass Daten nicht geändert werden müssen, sollten Tupel verwendet werden, um ungewollte Änderungen zu vermeiden.\n",
    "- Tupel können als Schlüssel in Dictionaries verwendet werden können, da Schlüssel nur Objekte von unveränderlichen Datentypen sein können. Listen können also nicht verwendet werden."
   ]
  },
  {
   "cell_type": "code",
   "execution_count": 74,
   "metadata": {},
   "outputs": [
    {
     "name": "stdout",
     "output_type": "stream",
     "text": [
      "(1, 2, 3, 1)\n",
      "('a', 5, 6)\n",
      "-----------------------------------\n",
      "4\n",
      "-----------------------------------\n",
      "2\n"
     ]
    }
   ],
   "source": [
    "t1 = (1, 2, 3, 1)\n",
    "t2 = ('a', 5, 6)\n",
    "\n",
    "print(t1)\n",
    "print(t2)\n",
    "print('-'*35)\n",
    "print(len(t1))\n",
    "print('-'*35)\n",
    "print(t1[1])"
   ]
  },
  {
   "cell_type": "code",
   "execution_count": 75,
   "metadata": {},
   "outputs": [
    {
     "name": "stdout",
     "output_type": "stream",
     "text": [
      "index\n",
      "count\n"
     ]
    }
   ],
   "source": [
    "### SEE WHAT METHODS ARE ALLOWED\n",
    "\n",
    "for method in t1.__dir__():\n",
    "    if method[0] != '_':\n",
    "        print(method)"
   ]
  },
  {
   "cell_type": "code",
   "execution_count": 140,
   "metadata": {},
   "outputs": [
    {
     "name": "stdout",
     "output_type": "stream",
     "text": [
      "2\n",
      "1\n",
      "-----------------------------------\n",
      "0\n",
      "-----------------------------------\n",
      "3\n"
     ]
    }
   ],
   "source": [
    "### METHODS\n",
    "\n",
    "# .count()\n",
    "# .index()\n",
    "\n",
    "print(t1.count(1))\n",
    "print(t1.count(2))\n",
    "print('-'*35)\n",
    "print(t1.index(1))     # value\n",
    "print('-'*35)\n",
    "print(t1.index(1, 1))  # value, start\n",
    "# print(t1.index(1, 4))  # ERROR: tuple.index(x): x not in tuple"
   ]
  },
  {
   "cell_type": "markdown",
   "metadata": {},
   "source": [
    "### WRITING AND READING FILES"
   ]
  },
  {
   "cell_type": "code",
   "execution_count": 142,
   "metadata": {},
   "outputs": [
    {
     "data": {
      "text/plain": [
       "'C:\\\\Users\\\\smolanko\\\\Google Drive\\\\Data_Science\\\\MyCodes\\\\MyPythonTutorials'"
      ]
     },
     "execution_count": 142,
     "metadata": {},
     "output_type": "execute_result"
    }
   ],
   "source": [
    "pwd"
   ]
  },
  {
   "cell_type": "code",
   "execution_count": 144,
   "metadata": {},
   "outputs": [
    {
     "name": "stdout",
     "output_type": "stream",
     "text": [
      "Writing C:\\\\Users\\\\smolanko\\\\Desktop\\\\test.txt\n"
     ]
    }
   ],
   "source": [
    "%%writefile C:\\\\Users\\\\smolanko\\\\Desktop\\\\test.txt\n",
    "Erste zeile: Hallo, das ist eine kurze Testdatei"
   ]
  },
  {
   "cell_type": "code",
   "execution_count": null,
   "metadata": {},
   "outputs": [],
   "source": [
    "# open()\n",
    "# read()\n",
    "# readlines()\n",
    "# seek()\n",
    "\n",
    "# write()"
   ]
  },
  {
   "cell_type": "code",
   "execution_count": 162,
   "metadata": {},
   "outputs": [
    {
     "name": "stdout",
     "output_type": "stream",
     "text": [
      "X: Erste zeile: Hallo, das ist eine kurze Testdatei\n",
      "\n",
      "Y: \n",
      "Y: ['Erste zeile: Hallo, das ist eine kurze Testdatei\\n']\n"
     ]
    }
   ],
   "source": [
    "file = open('C:\\\\Users\\\\smolanko\\\\Desktop\\\\test.txt')   # OPEN CONNECTION\n",
    "\n",
    "x = file.read()                                         # EINLESEN / FILE IST JETZT LEER\n",
    "print('X:', x)                                      \n",
    "\n",
    "y = file.read()               \n",
    "print('Y:', y)\n",
    "\n",
    "file.seek(0)                                            # ZURÜCKSETZEN DES CURSORS\n",
    "y = file.readlines()\n",
    "print('Y:', y)\n",
    "\n",
    "file.close()                                            # CLOSE CONNECTION!"
   ]
  },
  {
   "cell_type": "code",
   "execution_count": 165,
   "metadata": {},
   "outputs": [
    {
     "name": "stdout",
     "output_type": "stream",
     "text": [
      "['Das ist mein erster Eintrag']\n",
      "['Das ist mein erster EintragDas ist mein zweiter Eintrag']\n"
     ]
    }
   ],
   "source": [
    "# MODUS:\n",
    "\n",
    "# ========= ===============================================================\n",
    "# Character Meaning\n",
    "# --------- ---------------------------------------------------------------\n",
    "# 'r'       open for reading (default)\n",
    "# 'w'       open for writing, truncating the file first\n",
    "# 'x'       create a new file and open it for writing\n",
    "# 'a'       open for writing, appending to the end of the file if it exists\n",
    "# 'b'       binary mode\n",
    "# 't'       text mode (default)\n",
    "# '+'       open a disk file for updating (reading and writing)\n",
    "# 'U'       universal newline mode (deprecated)\n",
    "\n",
    "# IN DATEI SCHREIBEN\n",
    "log = 'Das ist mein erster Eintrag'\n",
    "\n",
    "file_write = open('C:\\\\Users\\\\smolanko\\\\Desktop\\\\write_test.txt', 'w')\n",
    "file_write.write(log) # NUR STRINGS!\n",
    "file_write.close()\n",
    "\n",
    "# DATEI WIEDER AUSLESEN\n",
    "file_write = open('C:\\\\Users\\\\smolanko\\\\Desktop\\\\write_test.txt', 'r')\n",
    "print(file_write.readlines())\n",
    "file_write.close()\n",
    "\n",
    "\n",
    "# IN DATEI ANHEFTEN\n",
    "log2 = 'Das ist mein zweiter Eintrag'\n",
    "\n",
    "file_write = open('C:\\\\Users\\\\smolanko\\\\Desktop\\\\write_test.txt', 'a')\n",
    "file_write.write(log2) # NUR STRINGS!\n",
    "file_write.close()\n",
    "\n",
    "# DATEI WIEDER AUSLESEN\n",
    "file_write = open('C:\\\\Users\\\\smolanko\\\\Desktop\\\\write_test.txt', 'r')\n",
    "print(file_write.readlines())\n",
    "file_write.close()"
   ]
  },
  {
   "cell_type": "code",
   "execution_count": 166,
   "metadata": {},
   "outputs": [
    {
     "name": "stdout",
     "output_type": "stream",
     "text": [
      "Overwriting C:\\\\Users\\\\smolanko\\\\Desktop\\\\test.txt\n"
     ]
    }
   ],
   "source": [
    "%%writefile C:\\\\Users\\\\smolanko\\\\Desktop\\\\test.txt\n",
    "Erste Zeile: Hallo, das ist eine kurze Testdatei\n",
    "Zweite Zeile: Was geht"
   ]
  },
  {
   "cell_type": "code",
   "execution_count": 169,
   "metadata": {},
   "outputs": [
    {
     "name": "stdout",
     "output_type": "stream",
     "text": [
      "X:\n",
      " Erste Zeile: Hallo, das ist eine kurze Testdatei\n",
      "Zweite Zeile: Was geht\n",
      "\n",
      "Y:\n",
      " ['Erste Zeile: Hallo, das ist eine kurze Testdatei\\n', 'Zweite Zeile: Was geht\\n']\n"
     ]
    }
   ],
   "source": [
    "file = open('C:\\\\Users\\\\smolanko\\\\Desktop\\\\test.txt')   # OPEN CONNECTION\n",
    "\n",
    "x = file.read()                                         # EINLESEN / FILE IST JETZT LEER\n",
    "print('X:\\n', x)                                      \n",
    "\n",
    "file.seek(0)                                            # ZURÜCKSETZEN DES CURSORS\n",
    "y = file.readlines()\n",
    "print('Y:\\n', y)\n",
    "\n",
    "file.close()   "
   ]
  },
  {
   "cell_type": "code",
   "execution_count": 170,
   "metadata": {},
   "outputs": [],
   "source": [
    "### WITH METHOD\n",
    "\n",
    "# "
   ]
  },
  {
   "cell_type": "code",
   "execution_count": 171,
   "metadata": {},
   "outputs": [],
   "source": [
    "### WRITING CSVs\n",
    "\n",
    "# "
   ]
  },
  {
   "cell_type": "code",
   "execution_count": null,
   "metadata": {},
   "outputs": [],
   "source": []
  },
  {
   "cell_type": "markdown",
   "metadata": {},
   "source": [
    "### SETS"
   ]
  },
  {
   "cell_type": "code",
   "execution_count": 221,
   "metadata": {},
   "outputs": [
    {
     "name": "stdout",
     "output_type": "stream",
     "text": [
      "{1, 2, 3}\n",
      "{1, 2, 3, 5, 6}\n",
      "{'a', 'c', 'b'}\n"
     ]
    }
   ],
   "source": [
    "a = [1, 2, 3, 3, 3, 1]\n",
    "print(set(a))\n",
    "\n",
    "b = (1, 2, 3, 3, 3, 1, 5, 6)\n",
    "print(set(b))\n",
    "\n",
    "c = {'a': 5, 'b': 4, 'c': 3, 'a': 4}\n",
    "print(set(c))"
   ]
  },
  {
   "cell_type": "code",
   "execution_count": 222,
   "metadata": {},
   "outputs": [
    {
     "name": "stdout",
     "output_type": "stream",
     "text": [
      "add\n",
      "clear\n",
      "copy\n",
      "discard\n",
      "difference\n",
      "difference_update\n",
      "intersection\n",
      "intersection_update\n",
      "isdisjoint\n",
      "issubset\n",
      "issuperset\n",
      "pop\n",
      "remove\n",
      "symmetric_difference\n",
      "symmetric_difference_update\n",
      "union\n",
      "update\n"
     ]
    }
   ],
   "source": [
    "myset = set(a)\n",
    "\n",
    "for method in myset.__dir__():\n",
    "    if method[0] != '_':\n",
    "        print(method)"
   ]
  },
  {
   "cell_type": "code",
   "execution_count": 223,
   "metadata": {},
   "outputs": [
    {
     "name": "stdout",
     "output_type": "stream",
     "text": [
      "{1, 2, 3}\n",
      "{1, 2, 3}\n",
      "{1, 2, 3, 4}\n"
     ]
    }
   ],
   "source": [
    "print(myset)\n",
    "myset.add(3)  # Passiert nichts wenn das Element schon da ist\n",
    "print(myset)\n",
    "myset.add(4)  # Wird hinzugefügt\n",
    "print(myset)"
   ]
  },
  {
   "cell_type": "code",
   "execution_count": 225,
   "metadata": {},
   "outputs": [
    {
     "name": "stdout",
     "output_type": "stream",
     "text": [
      "{1, 2, 3}\n",
      "{1, 2, 3, 5, 6}\n",
      "-----------------------------------\n",
      "1 Intersection 2: {1, 2, 3}\n",
      "1 IsSubset 2: True\n",
      "1 IsSuperset 2: False\n",
      "2 IsSuperset 1: True\n",
      "1 union 2: {1, 2, 3, 5, 6}\n"
     ]
    }
   ],
   "source": [
    "set1 = set(a)\n",
    "set2 = set(b)\n",
    "print(set1)\n",
    "print(set2)\n",
    "print('-'*35)\n",
    "print('1 Intersection 2:', set1.intersection(set2))\n",
    "print('1 IsSubset 2:', set1.issubset(set2))\n",
    "print('1 IsSuperset 2:', set1.issuperset(set2))\n",
    "print('2 IsSuperset 1:', set2.issuperset(set1))\n",
    "print('1 union 2:', set1.union(set2))"
   ]
  },
  {
   "cell_type": "markdown",
   "metadata": {},
   "source": [
    "### BOOLEANS"
   ]
  },
  {
   "cell_type": "code",
   "execution_count": 59,
   "metadata": {},
   "outputs": [
    {
     "name": "stdout",
     "output_type": "stream",
     "text": [
      "a == b: False\n",
      "a | b: True\n",
      "a == 1: True\n",
      "a > 0: True\n",
      "a < 0: False\n",
      "b == 0: True\n"
     ]
    }
   ],
   "source": [
    "a = True\n",
    "b = False\n",
    "c = None\n",
    "\n",
    "print('a == b:', a == b)\n",
    "print('a | b:', a | b)\n",
    "print('a == 1:', a == 1)\n",
    "print('a > 0:', a > 0)\n",
    "print('a < 0:', a < 0)\n",
    "print('b == 0:', b == 0)"
   ]
  },
  {
   "cell_type": "code",
   "execution_count": 60,
   "metadata": {},
   "outputs": [
    {
     "name": "stdout",
     "output_type": "stream",
     "text": [
      "True\n",
      "True\n",
      "True\n",
      "False\n",
      "True\n"
     ]
    }
   ],
   "source": [
    "### NESTED\n",
    "\n",
    "print(a == a == a)\n",
    "print(a == a | b)\n",
    "print(a | b and a == a)\n",
    "print(a | b and a == b)\n",
    "print(a | b or a == b)"
   ]
  },
  {
   "cell_type": "code",
   "execution_count": 64,
   "metadata": {},
   "outputs": [
    {
     "name": "stdout",
     "output_type": "stream",
     "text": [
      "True\n",
      "False\n",
      "False\n"
     ]
    }
   ],
   "source": [
    "print(a & a)\n",
    "print(a & b)\n",
    "print(b & b)  # False and False can not be True!!!"
   ]
  },
  {
   "cell_type": "markdown",
   "metadata": {},
   "source": [
    "### IF ELSE STATEMENTS"
   ]
  },
  {
   "cell_type": "code",
   "execution_count": 6,
   "metadata": {},
   "outputs": [
    {
     "name": "stdout",
     "output_type": "stream",
     "text": [
      "a equals to 5\n",
      "2\n"
     ]
    }
   ],
   "source": [
    "### IF ELSE STATEMENT\n",
    "\n",
    "# basic\n",
    "\n",
    "a = 5\n",
    "\n",
    "if a == 5:\n",
    "    print('a equals to 5')\n",
    "else:\n",
    "    print('a does not equal to 5')\n",
    "\n",
    "\n",
    "# one liner\n",
    "status = True\n",
    "x = 2 if status else -1\n",
    "print(x)"
   ]
  },
  {
   "cell_type": "code",
   "execution_count": 7,
   "metadata": {},
   "outputs": [
    {
     "name": "stdout",
     "output_type": "stream",
     "text": [
      "a > 0 and 0 < 100\n"
     ]
    }
   ],
   "source": [
    "# NESTED IF STATEMENT\n",
    "\n",
    "a = 5\n",
    "\n",
    "if a < 0:\n",
    "    print('a < 0')\n",
    "elif a > 100:\n",
    "    print('a > 100')\n",
    "else:\n",
    "    print('a > 0 and 0 < 100')"
   ]
  },
  {
   "cell_type": "code",
   "execution_count": 12,
   "metadata": {},
   "outputs": [
    {
     "name": "stdout",
     "output_type": "stream",
     "text": [
      "x is currently equals to 2 so I will print -> a\n",
      "y is currently equals to 3 so I will print -> b\n"
     ]
    }
   ],
   "source": [
    "### IF ELSE IN PRINT STATEMENT\n",
    "\n",
    "x = 2\n",
    "y = 3\n",
    "\n",
    "print('x is currently equals to', x, 'so I will print ->', 'a' if x==2 else 'b')\n",
    "print('y is currently equals to', y, 'so I will print ->', 'a' if y==2 else 'b')"
   ]
  },
  {
   "cell_type": "markdown",
   "metadata": {},
   "source": [
    "### LOOPS"
   ]
  },
  {
   "cell_type": "markdown",
   "metadata": {},
   "source": [
    "FOR / WHILE\n",
    "\n",
    "Wir können `break`, `continue` und `pass` Anweisungen in unseren Loops verwenden, um zusätzliche Funktionalität für verschiedenste Fälle einzubauen. Die drei Statements definieren sich folgendermaßen:\n",
    "    \n",
    "    break: Bricht aus dem aktuell nähesten umfassenden Loop aus.\n",
    "    continue: Geht an den Anfang des nähesten umfassenden Loops.\n",
    "    pass: Tut gar nichts.\n",
    "    \n",
    "Wenn wir über break und continue Anweisung nachdenken, sieht die allgemeine Form für while Loops wie folgt aus:\n",
    "\n",
    "    while test:\n",
    "        code statement\n",
    "        if test:\n",
    "            break\n",
    "        if test:\n",
    "            continue\n",
    "    else:\n",
    "    \n",
    "break und continue Statements können überall innerhalb des Schleifen Bodys eigesetzt werden, wir nutzen sie aber üblicherweise in tieferen Ebenen in Kombination mit if Statements. "
   ]
  },
  {
   "cell_type": "code",
   "execution_count": 9,
   "metadata": {},
   "outputs": [],
   "source": [
    "l = [1, 2, 3, 4, 5, 6]"
   ]
  },
  {
   "cell_type": "code",
   "execution_count": 19,
   "metadata": {},
   "outputs": [
    {
     "name": "stdout",
     "output_type": "stream",
     "text": [
      "1 | 2 | 3 | 4 | 5 | 6 | \n",
      " 21\n"
     ]
    }
   ],
   "source": [
    "total_sum = 0\n",
    "for i in l:\n",
    "    print(i, end=' | ')\n",
    "    total_sum += i\n",
    "print('\\n', total_sum)"
   ]
  },
  {
   "cell_type": "code",
   "execution_count": 12,
   "metadata": {},
   "outputs": [
    {
     "name": "stdout",
     "output_type": "stream",
     "text": [
      "X | 2 | X | 4 | X | 6 | "
     ]
    }
   ],
   "source": [
    "for i in l:\n",
    "    if i % 2 == 0:\n",
    "        print(i, end=' | ')\n",
    "    else:\n",
    "        print('X', end=' | ')"
   ]
  },
  {
   "cell_type": "code",
   "execution_count": 20,
   "metadata": {},
   "outputs": [
    {
     "name": "stdout",
     "output_type": "stream",
     "text": [
      "H | a | l | l | o | ! | "
     ]
    }
   ],
   "source": [
    "s = 'Hallo!'\n",
    "\n",
    "for i in s:\n",
    "    print(i, end=' | ')"
   ]
  },
  {
   "cell_type": "code",
   "execution_count": 21,
   "metadata": {},
   "outputs": [
    {
     "name": "stdout",
     "output_type": "stream",
     "text": [
      "1 | 2 | 3 | 4 | "
     ]
    }
   ],
   "source": [
    "t = (1, 2, 3, 4)\n",
    "\n",
    "for i in t:\n",
    "    print(i, end=' | ')"
   ]
  },
  {
   "cell_type": "code",
   "execution_count": 25,
   "metadata": {},
   "outputs": [
    {
     "name": "stdout",
     "output_type": "stream",
     "text": [
      "1  |  2\n",
      "3  |  4\n",
      "5  |  6\n"
     ]
    }
   ],
   "source": [
    "l_t = [(1, 2), (3, 4), (5, 6)]\n",
    "\n",
    "for i, j in l_t:\n",
    "    print(i, ' | ', j)"
   ]
  },
  {
   "cell_type": "code",
   "execution_count": 27,
   "metadata": {},
   "outputs": [
    {
     "name": "stdout",
     "output_type": "stream",
     "text": [
      "0 | 1 | 2 | 3 | 4 | "
     ]
    }
   ],
   "source": [
    "x = 0\n",
    "while x < 5:\n",
    "    print(x, end=' | ')\n",
    "    x += 1"
   ]
  },
  {
   "cell_type": "code",
   "execution_count": 66,
   "metadata": {},
   "outputs": [
    {
     "name": "stdout",
     "output_type": "stream",
     "text": [
      "1 | 2 | 3 | 4 | 5 | 6 | ENDE\n"
     ]
    }
   ],
   "source": [
    "### Else statement in while loop!\n",
    "\n",
    "i = 0\n",
    "while i < len(l):\n",
    "    print(l[i], end=' | ')\n",
    "    i += 1\n",
    "else:\n",
    "    print('ENDE')"
   ]
  },
  {
   "cell_type": "code",
   "execution_count": 33,
   "metadata": {},
   "outputs": [
    {
     "name": "stdout",
     "output_type": "stream",
     "text": [
      "x is equal to 1\n",
      "looking further\n",
      "x is equal to 2\n",
      "looking further\n",
      "x is equal to 3\n",
      "x devisible by 3\n"
     ]
    }
   ],
   "source": [
    "x = 1\n",
    "\n",
    "while x < 10:\n",
    "    print('x is equal to', x)\n",
    "    \n",
    "    if x % 3 == 0:\n",
    "        print('x devisible by 3')\n",
    "        break\n",
    "    else:\n",
    "        print('looking further')\n",
    "        # continue # -> will never end! as it jumps to the start of the loop\n",
    "    x += 1"
   ]
  },
  {
   "cell_type": "code",
   "execution_count": 44,
   "metadata": {},
   "outputs": [
    {
     "name": "stdout",
     "output_type": "stream",
     "text": [
      "0 0\n",
      "0 0 equal\n",
      "haha, not jumped\n",
      "1 0\n",
      "jump\n",
      "1 1\n",
      "1 1 equal\n",
      "haha, not jumped\n",
      "2 0\n",
      "jump\n",
      "2 1\n",
      "Breaking\n"
     ]
    }
   ],
   "source": [
    "for i in range(3):\n",
    "    for j in range(i+1):\n",
    "        print(i, j)\n",
    "        \n",
    "        if i == 2 and j == 1:\n",
    "            print('Breaking')\n",
    "            break\n",
    "            \n",
    "        if i == j:\n",
    "            print(i, j, 'equal')\n",
    "        else:\n",
    "            print('jump')\n",
    "            continue\n",
    "        print('haha, not jumped')\n",
    "        \n"
   ]
  },
  {
   "cell_type": "code",
   "execution_count": null,
   "metadata": {},
   "outputs": [],
   "source": []
  },
  {
   "cell_type": "markdown",
   "metadata": {},
   "source": [
    "### Functions"
   ]
  },
  {
   "cell_type": "markdown",
   "metadata": {},
   "source": [
    "#### LEGB Regel\n",
    "\n",
    "L: Lokal - Namen die in irgendeiner Form innerhalb einer Funktion (def oder lambda) zugewiesen werden und nicht global in dieser Funktion definiert sind.\n",
    "\n",
    "E: Einschließende Funktionen - Namen im lokalen Geltungsbereich aller einschließenden Funktionen (def oder lambda) von innen nach außen.\n",
    "\n",
    "G: Globale (Module) - Namen die auf der höchsten Ebene einer Datei zugewiesen werden oder innerhalb einer Funktion als global ausgewiesen werden.\n",
    "\n",
    "B: Bereits (in Python) eingebaute - Namen die bereits in die vorinstallierten Module wie range, open, usw. eingebaut sind.\n"
   ]
  },
  {
   "cell_type": "code",
   "execution_count": 95,
   "metadata": {},
   "outputs": [],
   "source": [
    "### Basic\n",
    "\n",
    "def square(x):\n",
    "    '''This function squares a number.\n",
    "    --------------------------------\n",
    "    Input:\n",
    "    x = integer'''\n",
    "    \n",
    "    return x**2\n",
    "\n",
    "### One liner\n",
    "\n",
    "# def square(x): return x**2"
   ]
  },
  {
   "cell_type": "code",
   "execution_count": 96,
   "metadata": {},
   "outputs": [
    {
     "name": "stdout",
     "output_type": "stream",
     "text": [
      "Help on function square in module __main__:\n",
      "\n",
      "square(x)\n",
      "    This function squares a number.\n",
      "    --------------------------------\n",
      "    Input:\n",
      "    x = integer\n",
      "\n"
     ]
    }
   ],
   "source": [
    "help(square)"
   ]
  },
  {
   "cell_type": "code",
   "execution_count": 97,
   "metadata": {},
   "outputs": [
    {
     "data": {
      "text/plain": [
       "4"
      ]
     },
     "execution_count": 97,
     "metadata": {},
     "output_type": "execute_result"
    }
   ],
   "source": [
    "square(2)"
   ]
  },
  {
   "cell_type": "code",
   "execution_count": 7,
   "metadata": {},
   "outputs": [
    {
     "name": "stdout",
     "output_type": "stream",
     "text": [
      "Global: 10\n",
      "Local: 2\n"
     ]
    }
   ],
   "source": [
    "### Global vs. Local\n",
    "\n",
    "x = 10\n",
    "\n",
    "def f():\n",
    "    global x\n",
    "    print('Global:', x)\n",
    "    \n",
    "    x = 2\n",
    "    print('Local:', x)\n",
    "    \n",
    "f()"
   ]
  },
  {
   "cell_type": "code",
   "execution_count": null,
   "metadata": {},
   "outputs": [],
   "source": []
  },
  {
   "cell_type": "code",
   "execution_count": null,
   "metadata": {},
   "outputs": [],
   "source": []
  },
  {
   "cell_type": "code",
   "execution_count": null,
   "metadata": {},
   "outputs": [],
   "source": []
  },
  {
   "cell_type": "code",
   "execution_count": null,
   "metadata": {},
   "outputs": [],
   "source": []
  },
  {
   "cell_type": "markdown",
   "metadata": {},
   "source": [
    "### Lambda Functions"
   ]
  },
  {
   "cell_type": "code",
   "execution_count": 92,
   "metadata": {},
   "outputs": [
    {
     "name": "stdout",
     "output_type": "stream",
     "text": [
      "4\n",
      "5\n"
     ]
    }
   ],
   "source": [
    "square = lambda x: x**2\n",
    "\n",
    "print(square(2))\n",
    "\n",
    "add = lambda x, y: x+y\n",
    "\n",
    "print(add(2, 3))"
   ]
  },
  {
   "cell_type": "code",
   "execution_count": null,
   "metadata": {},
   "outputs": [],
   "source": []
  },
  {
   "cell_type": "code",
   "execution_count": null,
   "metadata": {},
   "outputs": [],
   "source": []
  },
  {
   "cell_type": "markdown",
   "metadata": {},
   "source": [
    "### Python Built-In Functions"
   ]
  },
  {
   "cell_type": "markdown",
   "metadata": {},
   "source": [
    "- map\n",
    "- reduce\n",
    "- filter\n",
    "- zip\n",
    "- enumerate\n",
    "- all / any"
   ]
  },
  {
   "cell_type": "markdown",
   "metadata": {},
   "source": [
    "# map()\n",
    "\n",
    "map() ist eine Funktion, die zwei Parameter aufnimmt: eine Funktion und eine iterierbare Sequenz. In folgender Form:\n",
    "\n",
    "    map(funktion,sequenz)\n",
    "\n",
    "Das erste Argument ist der Name einer Funktion und das zweite der einer Sequenz (z.B. eine Liste). map() wendet die Funktion auf alle Elemente der Sequenz an. Es gibt eine neue Liste mit den Elementen, die durch die Funktion geändert wurden, zurück."
   ]
  },
  {
   "cell_type": "code",
   "execution_count": 11,
   "metadata": {},
   "outputs": [
    {
     "name": "stdout",
     "output_type": "stream",
     "text": [
      "Map Oject (iterable): <map object at 0x000001AE6679D748>\n",
      "1\n",
      "4\n",
      "9\n",
      "16\n",
      "\n",
      "As List: [1, 4, 9, 16]\n",
      "With lambda: [1, 4, 9, 16]\n",
      "Map on map: [1, 16, 81, 256]\n"
     ]
    }
   ],
   "source": [
    "### MAP\n",
    "\n",
    "def square(x):\n",
    "    return x**2\n",
    "\n",
    "t = [1, 2, 3, 4]\n",
    "\n",
    "print('Map Oject (iterable):', map(square, t))\n",
    "for i in map(square, t): print(i)\n",
    "print()\n",
    "print('As List:', list(map(square, t)))\n",
    "print('With lambda:', list(map(lambda x: x**2, t)))\n",
    "\n",
    "# even map on map works\n",
    "print('Map on map:', list(map(square, map(square, t))))"
   ]
  },
  {
   "cell_type": "code",
   "execution_count": 12,
   "metadata": {},
   "outputs": [
    {
     "data": {
      "text/plain": [
       "[15, 9, 12, 15]"
      ]
     },
     "execution_count": 12,
     "metadata": {},
     "output_type": "execute_result"
    }
   ],
   "source": [
    "l1 = [1, 2, 3, 4]\n",
    "l2 = [5, 6, 7, 8]\n",
    "l3 = [9, 1, 2, 3]\n",
    "\n",
    "list(map(lambda x, y, z: x+y+z, l1, l2, l3))"
   ]
  },
  {
   "cell_type": "code",
   "execution_count": 51,
   "metadata": {},
   "outputs": [
    {
     "data": {
      "text/plain": [
       "10"
      ]
     },
     "execution_count": 51,
     "metadata": {},
     "output_type": "execute_result"
    }
   ],
   "source": [
    "### REDUCE\n",
    "\n",
    "from functools import reduce\n",
    "\n",
    "def my_sum(x, y):\n",
    "    return x + y\n",
    "\n",
    "t = [1, 2, 3, 4]\n",
    "\n",
    "reduce(my_sum, t)"
   ]
  },
  {
   "cell_type": "code",
   "execution_count": 13,
   "metadata": {},
   "outputs": [
    {
     "name": "stdout",
     "output_type": "stream",
     "text": [
      "Filter Oject: <filter object at 0x000001AE667EA288>\n",
      "As List: [2, 4, 6]\n",
      "\n",
      "With function: [3, 6]\n"
     ]
    }
   ],
   "source": [
    "### FILTER\n",
    "\n",
    "t = [1, 2, 3, 4, 5, 6]\n",
    "\n",
    "def s(x):\n",
    "    if x%3==0: return True\n",
    "    return False\n",
    "\n",
    "print('Filter Oject:', filter(lambda x: x%2==0, t))\n",
    "print('As List:', list(filter(lambda x: x%2==0, t)))\n",
    "print()\n",
    "print('With function:', list(filter(s, t)))"
   ]
  },
  {
   "cell_type": "markdown",
   "metadata": {},
   "source": [
    "#### ZIP\n",
    "\n",
    "zip() erstellt einen Iterator, der Elemente aus allen iterierbaren Objekten zusammenfasst.\n",
    "\n",
    "Sie gibt einen Iterator aus Tupeln zurück, in dem das i-te Tupel die i-ten Elemente der (per Parameter) eingegebenen Sequenzen enthält. Dieser Iterator hält an, sobald das letzte Element des kürzesten Input erreicht ist. \n",
    "\n",
    "zip() ist gleich zu folgender Funktion:\n",
    "\n",
    "    def zip(*iterables):\n",
    "        # zip('ABCD', 'xy') --> Ax By\n",
    "        sentinel = object()\n",
    "        iterators = [iter(it) for it in iterables]\n",
    "        while iterators:\n",
    "            result = []\n",
    "            for it in iterators:\n",
    "                elem = next(it, sentinel)\n",
    "                if elem is sentinel:\n",
    "                    return\n",
    "                result.append(elem)\n",
    "            yield tuple(result)\n",
    "            \n",
    "zip() sollte nur mit Inputs ungleicher Länge ausgeführt werden, wenn das Abschneiden des überstehenden Endes egal ist."
   ]
  },
  {
   "cell_type": "code",
   "execution_count": 25,
   "metadata": {},
   "outputs": [
    {
     "name": "stdout",
     "output_type": "stream",
     "text": [
      "<zip object at 0x000001AE667F3EC8>\n",
      "[(1, 4), (2, 5), (3, 6)]\n",
      "1 4\n",
      "2 5\n",
      "3 6\n"
     ]
    }
   ],
   "source": [
    "x = [1, 2, 3]\n",
    "y = [4, 5, 6]\n",
    "\n",
    "print(zip(x, y))\n",
    "print(list(zip(x, y)))\n",
    "for i, j in zip(x, y):\n",
    "    print(i, j)"
   ]
  },
  {
   "cell_type": "code",
   "execution_count": 29,
   "metadata": {},
   "outputs": [
    {
     "data": {
      "text/plain": [
       "[4, 5, 6]"
      ]
     },
     "execution_count": 29,
     "metadata": {},
     "output_type": "execute_result"
    }
   ],
   "source": [
    "list(map(lambda x: max(x), zip(x, y)))"
   ]
  },
  {
   "cell_type": "code",
   "execution_count": 18,
   "metadata": {},
   "outputs": [
    {
     "name": "stdout",
     "output_type": "stream",
     "text": [
      "[('k1', 'k3'), ('k2', 'k4')]\n",
      "[(('k1', 1), ('k3', 3)), (('k2', 2), ('k4', 4))]\n",
      "-----------------------------------\n",
      "[('k1', 3), ('k2', 4)]\n",
      "-----------------------------------\n",
      "{'k1': 3, 'k2': 4} {'k3': 1, 'k4': 2}\n"
     ]
    }
   ],
   "source": [
    "d1 = {'k1': 1, 'k2': 2}\n",
    "d2 = {'k3': 3, 'k4': 4}\n",
    "\n",
    "print(list(zip(d1, d2)))\n",
    "print(list(zip(d1.items(), d2.items())))\n",
    "print('-'*35)\n",
    "print(list(zip(d1, d2.values())))\n",
    "\n",
    "d1 = {'k1': 1, 'k2': 2}\n",
    "d2 = {'k3': 3, 'k4': 4}\n",
    "def switch_dict(d1, d2):\n",
    "    d1, d2 = dict(zip(d1, d2.values())), dict(zip(d2, d1.values()))\n",
    "    return d1, d2\n",
    "\n",
    "d1, d2 = switch_dict(d1, d2)\n",
    "print('-'*35)\n",
    "print(d1, d2)"
   ]
  },
  {
   "cell_type": "code",
   "execution_count": 23,
   "metadata": {},
   "outputs": [
    {
     "name": "stdout",
     "output_type": "stream",
     "text": [
      "{'a': 4, 'b': 2}\n",
      "{'a': 4, 'b': 2}\n"
     ]
    }
   ],
   "source": [
    "print( dict( [ ('a', 4), ('b', 2) ] ) )\n",
    "print( dict( ( ('a', 4), ('b', 2) ) ) )"
   ]
  },
  {
   "cell_type": "code",
   "execution_count": 90,
   "metadata": {},
   "outputs": [
    {
     "name": "stdout",
     "output_type": "stream",
     "text": [
      "(0, 'a')\n",
      "(1, 'b')\n",
      "(2, 'c')\n",
      "0  -  a\n",
      "1  -  b\n",
      "2  -  c\n",
      "0:a\n",
      "1:b\n",
      "2:c\n"
     ]
    }
   ],
   "source": [
    "### ENUMERATE\n",
    "\n",
    "l = ['a', 'b', 'c']\n",
    "\n",
    "e = enumerate(l)  # YIELD OBJECT\n",
    "\n",
    "for i in e:\n",
    "    print(i)\n",
    "\n",
    "e = enumerate(l)  # YIELD OBJECT\n",
    "\n",
    "for i, value in e:\n",
    "    print(i, ' - ', value)\n",
    "    \n",
    "for i, j in enumerate(l):\n",
    "    print(str(i)+':'+j)"
   ]
  },
  {
   "cell_type": "markdown",
   "metadata": {},
   "source": [
    "#### all() und any()\n",
    "\n",
    "all() und any() sind vorinstallierte Funktionen in Python, die es uns erlauben, schnell Boolean Werte für iterierbare Elemente abzufragen. all() wird True zurück geben, sofern alle Werte innerhalb der Iteration True sind. Es ist das selbe wie diese Funktion:\n",
    "\n",
    "    def all(iterierbar):\n",
    "        for element in itierbar:\n",
    "            if not element:\n",
    "                return False\n",
    "        return True\n",
    "        \n",
    "any() wird True zurück geben, sofern irgendein Werte innerhalb der Iteration True ist. Es ist dasselbe wie diese Funktion:\n",
    "\n",
    "    def any(iterierbar):\n",
    "        for element in iterierbar:\n",
    "            if element:\n",
    "                return True\n",
    "        return False"
   ]
  },
  {
   "cell_type": "code",
   "execution_count": 94,
   "metadata": {},
   "outputs": [
    {
     "name": "stdout",
     "output_type": "stream",
     "text": [
      "False\n",
      "True\n",
      "True\n",
      "True\n"
     ]
    }
   ],
   "source": [
    "print(all([True, True, False]))\n",
    "print(all([True, True, True]))\n",
    "print(any([True, True, False]))\n",
    "print(any([True, True, True]))"
   ]
  },
  {
   "cell_type": "code",
   "execution_count": null,
   "metadata": {},
   "outputs": [],
   "source": []
  },
  {
   "cell_type": "markdown",
   "metadata": {},
   "source": [
    "### Iterators and Generators"
   ]
  },
  {
   "cell_type": "code",
   "execution_count": 33,
   "metadata": {},
   "outputs": [
    {
     "name": "stdout",
     "output_type": "stream",
     "text": [
      "<generator object gen at 0x000001AE66794EC8>\n",
      "-----------------------------------\n",
      "0\n",
      "1\n",
      "4\n",
      "9\n",
      "16\n",
      "-----------------------------------\n",
      "0\n",
      "1\n",
      "4\n",
      "9\n",
      "16\n"
     ]
    }
   ],
   "source": [
    "def gen(n):\n",
    "    for i in range(n):\n",
    "        yield i**2\n",
    "        \n",
    "print(gen(5))\n",
    "\n",
    "print('-'*35)\n",
    "for i in gen(5):\n",
    "    print(i)\n",
    "\n",
    "print('-'*35)\n",
    "generator = gen(5)\n",
    "\n",
    "print(next(generator))\n",
    "print(next(generator))\n",
    "print(next(generator))\n",
    "print(next(generator))\n",
    "print(next(generator))\n",
    "# print(next(generator)) # StopIteration Error"
   ]
  },
  {
   "cell_type": "code",
   "execution_count": 157,
   "metadata": {},
   "outputs": [],
   "source": [
    "def slice_range(r, steps):\n",
    "    s = len(r)//(steps-1)\n",
    "    \n",
    "    start=0\n",
    "    end=s\n",
    "    \n",
    "    for i in range(steps):\n",
    "        yield r[start:end]\n",
    "        start += s\n",
    "        end += s"
   ]
  },
  {
   "cell_type": "code",
   "execution_count": 160,
   "metadata": {},
   "outputs": [
    {
     "name": "stdout",
     "output_type": "stream",
     "text": [
      "[0, 1, 2, 3, 4, 5, 6, 7, 8, 9, 10, 11, 12, 13]\n",
      "[14, 15, 16, 17, 18, 19, 20, 21, 22, 23, 24, 25, 26, 27]\n",
      "[28, 29, 30, 31, 32, 33, 34, 35, 36, 37, 38, 39, 40, 41]\n",
      "[42, 43, 44, 45, 46, 47, 48, 49, 50, 51, 52, 53, 54, 55]\n",
      "[56, 57, 58, 59, 60, 61, 62, 63, 64, 65, 66, 67, 68, 69]\n",
      "[70, 71, 72, 73, 74, 75, 76, 77, 78, 79, 80, 81, 82, 83]\n",
      "[84, 85, 86, 87, 88, 89, 90, 91, 92, 93, 94, 95, 96, 97]\n",
      "[98, 99]\n"
     ]
    }
   ],
   "source": [
    "slic = slice_range(list(range(100)), 8)\n",
    "print(next(slic)) #1\n",
    "print(next(slic)) #2\n",
    "print(next(slic)) #3\n",
    "print(next(slic)) #4\n",
    "print(next(slic)) #5\n",
    "print(next(slic)) #6\n",
    "print(next(slic)) #7\n",
    "print(next(slic)) #8"
   ]
  },
  {
   "cell_type": "code",
   "execution_count": 193,
   "metadata": {},
   "outputs": [
    {
     "name": "stdout",
     "output_type": "stream",
     "text": [
      "0\n",
      "1\n",
      "1\n",
      "2\n",
      "3\n",
      "5\n",
      "8\n",
      "13\n",
      "21\n",
      "34\n"
     ]
    }
   ],
   "source": [
    "def fibonachi(n):\n",
    "    a, b = 0, 1\n",
    "    for i in range(n):\n",
    "        yield a\n",
    "        a, b = b, a+b\n",
    "        \n",
    "fib = fibonachi(10)\n",
    "\n",
    "for i in range(10):\n",
    "    print(next(fib))"
   ]
  },
  {
   "cell_type": "code",
   "execution_count": 196,
   "metadata": {},
   "outputs": [
    {
     "name": "stdout",
     "output_type": "stream",
     "text": [
      "H\n",
      "a\n",
      "l\n",
      "l\n",
      "o\n"
     ]
    }
   ],
   "source": [
    "### ITER\n",
    "\n",
    "s = 'Hallo'\n",
    "iter_string = iter(s)\n",
    "\n",
    "print(next(iter_string))\n",
    "print(next(iter_string))\n",
    "print(next(iter_string))\n",
    "print(next(iter_string))\n",
    "print(next(iter_string))"
   ]
  },
  {
   "cell_type": "code",
   "execution_count": 203,
   "metadata": {},
   "outputs": [
    {
     "name": "stdout",
     "output_type": "stream",
     "text": [
      "<generator object <genexpr> at 0x000001DB8C2A28C8>\n",
      "-----------------------------------\n",
      "4\n",
      "5\n"
     ]
    }
   ],
   "source": [
    "### GENERATOR COMPREHENSION\n",
    "\n",
    "l = [1, 2, 3, 4, 5]\n",
    "\n",
    "gencomp = (item for item in l if item > 3)\n",
    "print(gencomp)\n",
    "print('-'*35)\n",
    "\n",
    "for item in gencomp:\n",
    "    print(item)"
   ]
  },
  {
   "cell_type": "code",
   "execution_count": null,
   "metadata": {},
   "outputs": [],
   "source": []
  },
  {
   "cell_type": "code",
   "execution_count": null,
   "metadata": {},
   "outputs": [],
   "source": []
  },
  {
   "cell_type": "code",
   "execution_count": null,
   "metadata": {},
   "outputs": [],
   "source": []
  },
  {
   "cell_type": "markdown",
   "metadata": {},
   "source": [
    "### Python Specials"
   ]
  },
  {
   "cell_type": "code",
   "execution_count": 18,
   "metadata": {},
   "outputs": [
    {
     "name": "stdout",
     "output_type": "stream",
     "text": [
      "<class 'range'>\n",
      "range(0, 5)\n",
      "-----------------------------------\n",
      "As list: [0, 1, 2, 3, 4]\n",
      "-----------------------------------\n",
      "True\n"
     ]
    }
   ],
   "source": [
    "x = range(5)\n",
    "print(type(x))\n",
    "print(x)\n",
    "print('-'*35)\n",
    "print('As list:', list(x))\n",
    "print('-'*35)\n",
    "print(3 in x)"
   ]
  },
  {
   "cell_type": "code",
   "execution_count": null,
   "metadata": {},
   "outputs": [],
   "source": []
  },
  {
   "cell_type": "code",
   "execution_count": null,
   "metadata": {},
   "outputs": [],
   "source": []
  },
  {
   "cell_type": "code",
   "execution_count": null,
   "metadata": {},
   "outputs": [],
   "source": []
  },
  {
   "cell_type": "code",
   "execution_count": null,
   "metadata": {},
   "outputs": [],
   "source": []
  },
  {
   "cell_type": "code",
   "execution_count": null,
   "metadata": {},
   "outputs": [],
   "source": []
  },
  {
   "cell_type": "code",
   "execution_count": 11,
   "metadata": {},
   "outputs": [
    {
     "name": "stdout",
     "output_type": "stream",
     "text": [
      "a = 5 b = 7\n",
      "\n",
      "--Switching--\n",
      "\n",
      "a = 7 b = 5\n"
     ]
    }
   ],
   "source": [
    "### SWITCH VARIABLES\n",
    "\n",
    "a, b = 5, 7\n",
    "\n",
    "print('a =', a, 'b =', b)\n",
    "\n",
    "a, b = b, a\n",
    "\n",
    "print('\\n--Switching--\\n')\n",
    "\n",
    "print('a =', a, 'b =', b)"
   ]
  },
  {
   "cell_type": "code",
   "execution_count": null,
   "metadata": {},
   "outputs": [],
   "source": []
  },
  {
   "cell_type": "code",
   "execution_count": null,
   "metadata": {},
   "outputs": [],
   "source": []
  },
  {
   "cell_type": "code",
   "execution_count": 1,
   "metadata": {},
   "outputs": [
    {
     "name": "stdout",
     "output_type": "stream",
     "text": [
      "1 2 3\n",
      "-----------------------------------\n",
      "1 2 3\n",
      "-----------------------------------\n",
      "1 2 3\n",
      "-----------------------------------\n",
      "1 2\n",
      "1 2 3\n",
      "-----------------------------------\n",
      "1\n",
      "1 [2, 3]\n",
      "-----------------------------------\n"
     ]
    }
   ],
   "source": [
    "### UNPACKING\n",
    "\n",
    "x, y, z = (1, 2, 3)\n",
    "print(x, y, z)\n",
    "print('-'*35)\n",
    "\n",
    "x, y, z = [1, 2, 3]\n",
    "print(x, y, z)\n",
    "print('-'*35)\n",
    "\n",
    "t = (1, 2, 3)\n",
    "print(*t)\n",
    "print('-'*35)\n",
    "\n",
    "a, b, _ = (1, 2, 3)\n",
    "print(a, b)\n",
    "print(a, b, _)\n",
    "print('-'*35)\n",
    "\n",
    "a, *_ = (1, 2, 3)\n",
    "print(a)\n",
    "print(a, _)\n",
    "print('-'*35)"
   ]
  },
  {
   "cell_type": "code",
   "execution_count": null,
   "metadata": {},
   "outputs": [],
   "source": []
  },
  {
   "cell_type": "code",
   "execution_count": null,
   "metadata": {},
   "outputs": [],
   "source": []
  },
  {
   "cell_type": "code",
   "execution_count": null,
   "metadata": {},
   "outputs": [],
   "source": []
  },
  {
   "cell_type": "code",
   "execution_count": null,
   "metadata": {},
   "outputs": [],
   "source": []
  },
  {
   "cell_type": "code",
   "execution_count": null,
   "metadata": {},
   "outputs": [],
   "source": []
  }
 ],
 "metadata": {
  "kernelspec": {
   "display_name": "Python 3",
   "language": "python",
   "name": "python3"
  },
  "language_info": {
   "codemirror_mode": {
    "name": "ipython",
    "version": 3
   },
   "file_extension": ".py",
   "mimetype": "text/x-python",
   "name": "python",
   "nbconvert_exporter": "python",
   "pygments_lexer": "ipython3",
   "version": "3.7.4"
  }
 },
 "nbformat": 4,
 "nbformat_minor": 2
}
