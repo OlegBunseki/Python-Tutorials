{
 "cells": [
  {
   "cell_type": "code",
   "execution_count": 3,
   "metadata": {},
   "outputs": [],
   "source": [
    "import numpy as np\n",
    "\n",
    "#----------------------------\n",
    "\n",
    "import matplotlib.pyplot as plt"
   ]
  },
  {
   "cell_type": "markdown",
   "metadata": {},
   "source": [
    "### Introduction to Numpy\n",
    "\n",
    "#### What is Numpy?\n",
    "\n",
    "- Numpy is the most basic and a powerful package for working with data in python.\n",
    "\n",
    "- If you are going to work on data analysis or machine learning projects, then having a solid understanding of numpy is nearly mandatory.\n",
    "\n",
    "- Because other packages for data analysis (like pandas) is built on top of numpy and the scikit-learn package which is used to build machine learning applications works heavily with numpy as well.\n",
    "\n",
    "#### So what does numpy provide?\n",
    "\n",
    "- At the core, numpy provides the excellent ndarray objects, short for n-dimensional arrays.\n",
    "\n",
    "- In a ‘ndarray’ object, aka ‘array’, you can store multiple items of the same data type. It is the facilities around the array object that makes numpy so convenient for performing math and data manipulations.\n",
    "\n",
    "- You might wonder, ‘I can store numbers and other objects in a python list itself and do all sorts of computations and manipulations through list comprehensions, for-loops etc. What do I need a numpy array for?’\n",
    "\n",
    "- Well, there are very significant advantages of using numpy arrays overs lists.\n",
    "\n",
    "#### Links:\n",
    "- Documentation: https://docs.scipy.org/doc/numpy/reference/ufuncs.html"
   ]
  },
  {
   "cell_type": "code",
   "execution_count": 243,
   "metadata": {},
   "outputs": [],
   "source": [
    "\n",
    "# np.set_printoptions() # default = 8\n",
    "\n",
    "# np.arange()\n",
    "# - start, step, stop\n",
    "# - control the type of data stored in the array\n",
    "# np.linspace()\n",
    "# np.logspace()\n",
    "\n",
    "# array.reshape()\n",
    "# array.tolist()\n",
    "\n",
    "# Repeating sequence\n",
    "# np.tile()\n",
    "# np.repeat()\n",
    "\n",
    "# np.zeros()\n",
    "# np.ones()\n",
    "\n",
    "# np.round()\n",
    "\n",
    "# np.max()          # Parameter: (array, axis = 0/1)\n",
    "# np.min()          # Parameter: (array, axis = 0/1)\n",
    "# np.sum()          # Parameter: (array, axis = 0/1)\n",
    "# np.amin()         # compute the minimum values row wise or column wise - Parameter: (array, axis = 0/1)\n",
    "# np.amax()         # compute the maximum values row wise or column wise - Parameter: (array, axis = 0/1)\n",
    "# np.sqrt()\n",
    "# np.exp()\n",
    "# np.sin()\n",
    "# np.log()\n",
    "\n",
    "\n",
    "### Random ###\n",
    "# np.random.seed()\n",
    "# np.random.random()   # Random number between 0 and 1 - uniform distribution\n",
    "# np.random.rand()     # Random number between 0 and 1 - uniform distribution - Specify shape\n",
    "# np.random.randn()    # Random from normal distribtion mean=0 and var=1\n",
    "# np.random.randint()  # Random integer from uniform distribtion \n",
    "# np.random.choice()   # Pick random number from list/array\n",
    "\n",
    "### Array inspection ###\n",
    "# array.shape       # How many items are present in each dimension \n",
    "# array.dtpye       # What is its datatype\n",
    "# array.size        # What is the total number of items in it \n",
    "# array.ndim        # Samples of first few items in the array\n",
    "\n",
    "# array.mean()\n",
    "# array.max()\n",
    "# array.argmax()\n",
    "# array.min()\n",
    "# array.argmin()\n",
    "# array.std()\n",
    "# array.round()\n",
    "\n",
    "### Matrix ###\n",
    "# np.eye()          # Einheismatrix\n",
    "# np.matmul()       # Matrix Kalkulation\n",
    "\n",
    "\n",
    "\n",
    "\n",
    "# broadcasting - https://docs.scipy.org/doc/numpy/user/basics.broadcasting.html\n",
    "\n",
    "\n",
    "# Linear Algebra with numpy\n",
    "# (READ) 1. Numpy: https://towardsdatascience.com/linear-algebra-essentials-with-numpy-part-1-af4a867ac5ca\n",
    "# (READ) 2. Numpy: https://towardsdatascience.com/top-4-numpy-functions-you-dont-know-about-probably-28fcd5d7174f\n",
    "# (READ) 3. Numpy: https://towardsdatascience.com/5-smart-python-numpy-functions-dfd1072d2cb4\n"
   ]
  },
  {
   "cell_type": "markdown",
   "metadata": {},
   "source": [
    "### Basics"
   ]
  },
  {
   "cell_type": "code",
   "execution_count": 31,
   "metadata": {},
   "outputs": [
    {
     "name": "stdout",
     "output_type": "stream",
     "text": [
      "<class 'list'>\n",
      "<class 'numpy.ndarray'>\n",
      "[1 2 3 4]\n",
      "-----------------------------------\n",
      "<class 'numpy.ndarray'>\n",
      "[[1 2 3]\n",
      " [4 5 6]]\n"
     ]
    }
   ],
   "source": [
    "# From List to Array\n",
    "l = [1, 2, 3, 4]\n",
    "print(type(l))\n",
    "array = np.array(l)\n",
    "print(type(array))\n",
    "print(array)\n",
    "print('-'*35)\n",
    "l = [[1, 2, 3], [4, 5, 6]]\n",
    "array = np.array(l)\n",
    "print(type(array))\n",
    "print(array)"
   ]
  },
  {
   "cell_type": "code",
   "execution_count": 30,
   "metadata": {},
   "outputs": [
    {
     "data": {
      "text/plain": [
       "['T',\n",
       " 'all',\n",
       " 'any',\n",
       " 'argmax',\n",
       " 'argmin',\n",
       " 'argpartition',\n",
       " 'argsort',\n",
       " 'astype',\n",
       " 'base',\n",
       " 'byteswap',\n",
       " 'choose',\n",
       " 'clip',\n",
       " 'compress',\n",
       " 'conj',\n",
       " 'conjugate',\n",
       " 'copy',\n",
       " 'ctypes',\n",
       " 'cumprod',\n",
       " 'cumsum',\n",
       " 'data',\n",
       " 'diagonal',\n",
       " 'dot',\n",
       " 'dtype',\n",
       " 'dump',\n",
       " 'dumps',\n",
       " 'fill',\n",
       " 'flags',\n",
       " 'flat',\n",
       " 'flatten',\n",
       " 'getfield',\n",
       " 'imag',\n",
       " 'item',\n",
       " 'itemset',\n",
       " 'itemsize',\n",
       " 'max',\n",
       " 'mean',\n",
       " 'min',\n",
       " 'nbytes',\n",
       " 'ndim',\n",
       " 'newbyteorder',\n",
       " 'nonzero',\n",
       " 'partition',\n",
       " 'prod',\n",
       " 'ptp',\n",
       " 'put',\n",
       " 'ravel',\n",
       " 'real',\n",
       " 'repeat',\n",
       " 'reshape',\n",
       " 'resize',\n",
       " 'round',\n",
       " 'searchsorted',\n",
       " 'setfield',\n",
       " 'setflags',\n",
       " 'shape',\n",
       " 'size',\n",
       " 'sort',\n",
       " 'squeeze',\n",
       " 'std',\n",
       " 'strides',\n",
       " 'sum',\n",
       " 'swapaxes',\n",
       " 'take',\n",
       " 'tobytes',\n",
       " 'tofile',\n",
       " 'tolist',\n",
       " 'tostring',\n",
       " 'trace',\n",
       " 'transpose',\n",
       " 'var',\n",
       " 'view']"
      ]
     },
     "execution_count": 30,
     "metadata": {},
     "output_type": "execute_result"
    }
   ],
   "source": [
    "[c for c in dir(array) if c[0] != \"_\"]"
   ]
  },
  {
   "cell_type": "code",
   "execution_count": 35,
   "metadata": {},
   "outputs": [
    {
     "name": "stdout",
     "output_type": "stream",
     "text": [
      "<class 'numpy.ndarray'>\n"
     ]
    },
    {
     "data": {
      "text/plain": [
       "array([0, 1, 2, 3, 4, 5, 6, 7, 8, 9])"
      ]
     },
     "execution_count": 35,
     "metadata": {},
     "output_type": "execute_result"
    }
   ],
   "source": [
    "array = np.arange(10)\n",
    "print(type(array))\n",
    "array"
   ]
  },
  {
   "cell_type": "code",
   "execution_count": 33,
   "metadata": {},
   "outputs": [
    {
     "name": "stdout",
     "output_type": "stream",
     "text": [
      "Shape:  (10,)\n",
      "Datatype:  int32\n",
      "Size:  10\n",
      "Num Dimensions:  1\n"
     ]
    }
   ],
   "source": [
    "print('Shape: ', array.shape)\n",
    "print('Datatype: ', array.dtype)\n",
    "print('Size: ', array.size)\n",
    "print('Num Dimensions: ', array.ndim)"
   ]
  },
  {
   "cell_type": "code",
   "execution_count": 34,
   "metadata": {},
   "outputs": [
    {
     "name": "stdout",
     "output_type": "stream",
     "text": [
      "[0 1 2 3 4 5 6 7 8 9]\n",
      "[0 2 4 6 8]\n"
     ]
    }
   ],
   "source": [
    "print(np.arange(10))\n",
    "print(np.arange(0, 10, 2))   # start, stop, step"
   ]
  },
  {
   "cell_type": "markdown",
   "metadata": {},
   "source": [
    "You can set the starting and end positions using np.arange. But if you are focussed on the number of items in the array you will have to manually calculate the appropriate step value."
   ]
  },
  {
   "cell_type": "code",
   "execution_count": 39,
   "metadata": {},
   "outputs": [
    {
     "name": "stdout",
     "output_type": "stream",
     "text": [
      "[ 1.    6.44 11.89 17.33 22.78 28.22 33.67 39.11 44.56 50.  ]\n",
      "[ 1  6 11 17 22 28 33 39 44 50]\n",
      "-----------------------------------\n",
      "[1.00e+01 2.78e+06 7.74e+11 2.15e+17 5.99e+22 1.67e+28 4.64e+33 1.29e+39\n",
      " 3.59e+44 1.00e+50]\n"
     ]
    }
   ],
   "source": [
    "np.set_printoptions(precision=2)\n",
    "\n",
    "print(np.linspace(start=1, stop=50, num=10))\n",
    "print(np.linspace(start=1, stop=50, num=10, dtype=int)) # exactly 10 numbers\n",
    "print('-'*35)\n",
    "print(np.logspace(start=1, stop=50, num=10, base=10))\n",
    "\n",
    "np.set_printoptions(precision=8) # set to default"
   ]
  },
  {
   "cell_type": "markdown",
   "metadata": {},
   "source": [
    "### Arithmetics"
   ]
  },
  {
   "cell_type": "code",
   "execution_count": 19,
   "metadata": {},
   "outputs": [
    {
     "name": "stdout",
     "output_type": "stream",
     "text": [
      "[ 0  2  4  6  8 10 12 14 16 18]\n",
      "[0 0 0 0 0 0 0 0 0 0]\n",
      "[ 0  1  4  9 16 25 36 49 64 81]\n",
      "[nan  1.  1.  1.  1.  1.  1.  1.  1.  1.]\n",
      "[ inf 1.   0.5  0.33 0.25 0.2  0.17 0.14 0.12 0.11]\n",
      "[ 0  1  4  9 16 25 36 49 64 81]\n",
      "[0.   1.   1.41 1.73 2.   2.24 2.45 2.65 2.83 3.  ]\n"
     ]
    },
    {
     "name": "stderr",
     "output_type": "stream",
     "text": [
      "c:\\users\\smolanko\\appdata\\local\\continuum\\anaconda3\\envs\\udemy_bootcamp\\lib\\site-packages\\ipykernel_launcher.py:7: RuntimeWarning: invalid value encountered in true_divide\n",
      "  import sys\n",
      "c:\\users\\smolanko\\appdata\\local\\continuum\\anaconda3\\envs\\udemy_bootcamp\\lib\\site-packages\\ipykernel_launcher.py:8: RuntimeWarning: divide by zero encountered in true_divide\n",
      "  \n"
     ]
    }
   ],
   "source": [
    "np.set_printoptions(precision=2)\n",
    "x = np.arange(10)\n",
    "\n",
    "print(x+x)\n",
    "print(x-x)\n",
    "print(x*x)\n",
    "print(x/x) # Error by 0\n",
    "print(1/x) # Error by 0\n",
    "print(x**2)\n",
    "print(x**(1/2))"
   ]
  },
  {
   "cell_type": "code",
   "execution_count": 48,
   "metadata": {},
   "outputs": [
    {
     "name": "stdout",
     "output_type": "stream",
     "text": [
      "SQRT [0.   1.   1.41 1.73 2.   2.24 2.45 2.65 2.83 3.  ]\n",
      "EXP [1.00e+00 2.72e+00 7.39e+00 2.01e+01 5.46e+01 1.48e+02 4.03e+02 1.10e+03\n",
      " 2.98e+03 8.10e+03]\n",
      "MAX 9\n",
      "MIN 0\n",
      "AMAX - 1 [1 3 5 7 9]\n",
      "AMIN - 0 [0 1]\n",
      "SIN [ 0.    0.84  0.91  0.14 -0.76 -0.96 -0.28  0.66  0.99  0.41]\n",
      "LOG [-inf 0.   0.69 1.1  1.39 1.61 1.79 1.95 2.08 2.2 ]\n"
     ]
    },
    {
     "name": "stderr",
     "output_type": "stream",
     "text": [
      "c:\\users\\smolanko\\appdata\\local\\continuum\\anaconda3\\envs\\udemy_bootcamp\\lib\\site-packages\\ipykernel_launcher.py:8: RuntimeWarning: divide by zero encountered in log\n",
      "  \n"
     ]
    }
   ],
   "source": [
    "print('SQRT', np.sqrt(x))\n",
    "print('EXP', np.exp(x))\n",
    "print('MAX', np.max(x))\n",
    "print('MIN', np.min(x))\n",
    "print('AMAX - 1',np.amax(x.reshape(5, 2), 1))\n",
    "print('AMIN - 0',np.amin(x.reshape(5, 2), 0))\n",
    "print('SIN', np.sin(x))\n",
    "print('LOG', np.log(x))"
   ]
  },
  {
   "cell_type": "code",
   "execution_count": null,
   "metadata": {},
   "outputs": [],
   "source": []
  },
  {
   "cell_type": "markdown",
   "metadata": {},
   "source": [
    "#### Repeating sequence"
   ]
  },
  {
   "cell_type": "code",
   "execution_count": 174,
   "metadata": {},
   "outputs": [
    {
     "name": "stdout",
     "output_type": "stream",
     "text": [
      "Tile array:    [1 2 3 1 2 3]\n",
      "Tile list :    [1 2 3 1 2 3]\n",
      "Repeat array:  [1 1 2 2 3 3]\n",
      "Repeat list :  [1 1 2 2 3 3]\n"
     ]
    }
   ],
   "source": [
    "a = np.array([1, 2, 3])\n",
    "b = [1, 2, 3]\n",
    "\n",
    "# Repeat whole of 'a' two times\n",
    "print('Tile array:   ', np.tile(a, 2))\n",
    "print('Tile list :   ', np.tile(b, 2))\n",
    "\n",
    "# Repeat each element of 'a' two times\n",
    "print('Repeat array: ', np.repeat(a, 2))\n",
    "print('Repeat list : ', np.repeat(b, 2))"
   ]
  },
  {
   "cell_type": "markdown",
   "metadata": {},
   "source": [
    "#### Random numbers"
   ]
  },
  {
   "cell_type": "code",
   "execution_count": 231,
   "metadata": {},
   "outputs": [
    {
     "data": {
      "image/png": "[encoded data removed]",
      "text/plain": [
       "<Figure size 432x288 with 1 Axes>"
      ]
     },
     "metadata": {
      "needs_background": "light"
     },
     "output_type": "display_data"
    },
    {
     "name": "stdout",
     "output_type": "stream",
     "text": [
      "[[0.34 0.82]\n",
      " [0.48 0.87]]\n"
     ]
    }
   ],
   "source": [
    "# One random number between [0,1) # Continuous Uniform Distribution\n",
    "x = [np.random.random() for i in range(100000)]\n",
    "plt.hist(x, bins=20)\n",
    "plt.title('np.random.random()')\n",
    "plt.show()\n",
    "\n",
    "# Determine size:\n",
    "print(np.random.random(size=(2, 2)))  # Parameter: size=None"
   ]
  },
  {
   "cell_type": "code",
   "execution_count": 234,
   "metadata": {},
   "outputs": [
    {
     "data": {
      "image/png": "[encoded data removed]",
      "text/plain": [
       "<Figure size 432x288 with 1 Axes>"
      ]
     },
     "metadata": {
      "needs_background": "light"
     },
     "output_type": "display_data"
    },
    {
     "name": "stdout",
     "output_type": "stream",
     "text": [
      "[[0.65 0.26]\n",
      " [0.57 0.43]]\n"
     ]
    }
   ],
   "source": [
    "# One random number between [0,1) # Uniform Distribution\n",
    "x = [np.random.rand() for i in range(100000)]\n",
    "plt.hist(x, bins=20)\n",
    "plt.title('np.random.rand()')\n",
    "plt.show()\n",
    "\n",
    "# Determine size:\n",
    "print(np.random.rand(2, 2))  # Parameter: rand(d0, d1, ..., dn) "
   ]
  },
  {
   "cell_type": "code",
   "execution_count": 235,
   "metadata": {},
   "outputs": [
    {
     "data": {
      "image/png": "[encoded data removed]",
      "text/plain": [
       "<Figure size 432x288 with 1 Axes>"
      ]
     },
     "metadata": {
      "needs_background": "light"
     },
     "output_type": "display_data"
    },
    {
     "name": "stdout",
     "output_type": "stream",
     "text": [
      "[[0.1  1.28]\n",
      " [0.43 0.78]]\n"
     ]
    }
   ],
   "source": [
    "# Normal distribution with mean=0 and variance=1 # Normal Distribution\n",
    "x = [np.random.randn() for i in range(100000)]\n",
    "plt.hist(x, bins=20)\n",
    "plt.title('np.random.randn()')\n",
    "plt.show()\n",
    "\n",
    "# Determine size:\n",
    "print(np.random.randn(2, 2))  # Parameter: rand(d0, d1, ..., dn) "
   ]
  },
  {
   "cell_type": "code",
   "execution_count": 69,
   "metadata": {},
   "outputs": [
    {
     "data": {
      "image/png": "[encoded data removed]",
      "text/plain": [
       "<Figure size 432x288 with 1 Axes>"
      ]
     },
     "metadata": {
      "needs_background": "light"
     },
     "output_type": "display_data"
    },
    {
     "name": "stdout",
     "output_type": "stream",
     "text": [
      "-----------------------------------\n",
      "[3 5 5 3]\n",
      "-----------------------------------\n",
      "[[1 0]\n",
      " [6 0]]\n"
     ]
    }
   ],
   "source": [
    "# Normal distribution with mean=0 and variance=1 # Discrete Uniform Distribution\n",
    "x = [np.random.randint(0, 10) for i in range(100000)]\n",
    "plt.hist(x, bins=10)\n",
    "plt.title('np.random.randint()')\n",
    "plt.show()\n",
    "\n",
    "# Determine size:\n",
    "print('-'*35)\n",
    "print(np.random.randint(0, 10, 4))           # Paramter: low, high=None, size=None, dtype='l'\n",
    "print('-'*35)\n",
    "print(np.random.randint(0, 10, size=[2,2]))  # Paramter: low, high=None, size=None, dtype='l'"
   ]
  },
  {
   "cell_type": "code",
   "execution_count": 240,
   "metadata": {},
   "outputs": [
    {
     "name": "stdout",
     "output_type": "stream",
     "text": [
      "['u' 'e' 'u' 'i' 'o' 'a' 'e' 'e' 'u' 'a']\n",
      "-----------------------------------\n",
      "['o' 'a' 'i' 'a' 'i' 'a' 'i' 'a' 'o' 'i']\n",
      "-----------------------------------\n"
     ]
    }
   ],
   "source": [
    "# Pick 10 items from a given list, with equal probability\n",
    "print(np.random.choice(['a', 'e', 'i', 'o', 'u'], size=10))  \n",
    "print('-'*35)\n",
    "# Pick 10 items from a given list with a predefined probability 'p'\n",
    "print(np.random.choice(['a', 'e', 'i', 'o', 'u'], size=10, p=[0.3, .1, 0.1, 0.4, 0.1]))\n",
    "print('-'*35)"
   ]
  },
  {
   "cell_type": "markdown",
   "metadata": {},
   "source": [
    "#### Count unique values"
   ]
  },
  {
   "cell_type": "code",
   "execution_count": 89,
   "metadata": {},
   "outputs": [
    {
     "name": "stdout",
     "output_type": "stream",
     "text": [
      "[0 1 2 4 5 6 8 9]\n",
      "-----------------------------------\n",
      "(array([0, 1, 2, 4, 5, 6, 8, 9]), array([1, 2, 3, 7, 2, 3, 1, 1], dtype=int64))\n",
      "-----------------------------------\n",
      "[0 1 2 4 5 6 8 9]\n",
      "[1 2 3 7 2 3 1 1]\n"
     ]
    }
   ],
   "source": [
    "x = np.random.randint(0, 10, size=20)\n",
    "print(np.unique(x))\n",
    "print('-'*35)\n",
    "print(np.unique(x, return_counts=True))\n",
    "print('-'*35)\n",
    "u, c = np.unique(x, return_counts=True)\n",
    "print(u)\n",
    "print(c)"
   ]
  },
  {
   "cell_type": "code",
   "execution_count": null,
   "metadata": {},
   "outputs": [],
   "source": []
  },
  {
   "cell_type": "markdown",
   "metadata": {},
   "source": [
    "#### To control the memory allocations you may choose what to use"
   ]
  },
  {
   "cell_type": "code",
   "execution_count": 57,
   "metadata": {},
   "outputs": [
    {
     "name": "stdout",
     "output_type": "stream",
     "text": [
      "[0. 1. 2. 3. 4. 5. 6. 7. 8. 9.]\n",
      "-----------------------------------\n",
      "[0. 1. 2. 3. 4. 5. 6. 7. 8. 9.]\n",
      "-----------------------------------\n",
      "[0 1 2 3 4 5 6 7 8 9]\n",
      "-----------------------------------\n",
      "[0 1 2 3 4 5 6 7 8 9]\n",
      "-----------------------------------\n",
      "[0 1 2 3 4 5 6 7 8 9]\n",
      "-----------------------------------\n",
      "['A' 'B']\n",
      "-----------------------------------\n",
      "['A' 'B' 1 2 3 4 5.2]\n",
      "Calcualtion still possible: 7.2\n",
      "-----------------------------------\n",
      "['A' 'B' '1' '2' '3' '4']\n",
      "-----------------------------------\n",
      "['0' '1' '2' '3' '4' '5' '6' '7' '8' '9']\n",
      "-----------------------------------\n",
      "[False  True  True  True  True  True  True  True  True  True]\n",
      "-----------------------------------\n",
      "[False, True, True, True, True, True, True, True, True, True]\n"
     ]
    }
   ],
   "source": [
    "array = np.array(np.arange(10), dtype='float32')\n",
    "print(array)\n",
    "print('-'*35)\n",
    "array = np.array(np.arange(10), dtype='float64')\n",
    "print(array)\n",
    "print('-'*35)\n",
    "array = np.array(np.arange(10), dtype='int8')\n",
    "print(array)\n",
    "print('-'*35)\n",
    "array = np.array(np.arange(10), dtype='int16')\n",
    "print(array)\n",
    "print('-'*35)\n",
    "array = np.array(np.arange(10), dtype='int32')\n",
    "print(array)\n",
    "print('-'*35)\n",
    "array = np.array(['A', 'B'], dtype='object')\n",
    "print(array)\n",
    "print('-'*35)\n",
    "array = np.array(['A', 'B', 1, 2, 3, 4, 5.2], dtype='object') # Stores strings and integers\n",
    "print(array)\n",
    "print('Calcualtion still possible:', array[3]+array[-1])\n",
    "print('-'*35)\n",
    "array = np.array(['A', 'B', 1, 2, 3, 4]) # Everything will be converted to a string\n",
    "print(array)\n",
    "print('-'*35)\n",
    "array = np.array(np.arange(10), dtype='int32').astype('str')  # Convert from int to str\n",
    "print(array)\n",
    "print('-'*35)\n",
    "array = np.array(np.arange(10), dtype='bool') # Also boolean is possible\n",
    "print(array)"
   ]
  },
  {
   "cell_type": "code",
   "execution_count": 14,
   "metadata": {},
   "outputs": [
    {
     "name": "stdout",
     "output_type": "stream",
     "text": [
      "[254 255 256 257 258]\n",
      "[254 255 256 257 258]\n",
      "-----------------------------------\n",
      "[254 255   0   1   2]\n",
      "[4 5 6 7 8]\n"
     ]
    }
   ],
   "source": [
    "# Save Numpy Array in dedicated format to save space\n",
    "\n",
    "array = np.array([1, 2, 3, 4, 5])\n",
    "array_8bit = np.array([1, 2, 3, 4, 5], dtype='int8')     \n",
    "array_u8bit = np.array([1, 2, 3, 4, 5], dtype='uint8') \n",
    "\n",
    "# uint8 -> 8bits -> 00000000 goes all the way up to 11111111 -> from 0 to 255\n",
    "# minimum -> 00000000 = 0   (2^7*0 + 2^6*0 + 2^5*0 + 2^4*0+ 2^3*0 + 2^2*0 + 2^1*0 + 2^0*0 = 0) \n",
    "# maximum -> 11111111 = 255 (2^7*1 + 2^6*1 + 2^5*1 + 2^4*1+ 2^3*1 + 2^2*1 + 2^1*1 + 2^0*1 = 255) \n",
    "\n",
    "add = 253\n",
    "\n",
    "print(array + add)\n",
    "print(array_8bit + add)\n",
    "print('-'*35)\n",
    "print(array_u8bit + add)\n",
    "print(array_u8bit - add)"
   ]
  },
  {
   "cell_type": "markdown",
   "metadata": {},
   "source": [
    "#### New array or just a reference"
   ]
  },
  {
   "cell_type": "code",
   "execution_count": 131,
   "metadata": {},
   "outputs": [
    {
     "name": "stdout",
     "output_type": "stream",
     "text": [
      "[1 2 3 4 5]\n",
      "[1 2 3]\n",
      "-----------------------------------\n",
      "[ 1  2 10  4  5]\n",
      "[ 1  2 10]\n"
     ]
    }
   ],
   "source": [
    "# REFERENCE\n",
    "array = np.array([1, 2, 3, 4, 5])\n",
    "array_2 = array[:3]               # ATTENTION, NOT A COPY!!!\n",
    "print(array)\n",
    "print(array_2)\n",
    "print('-'*35)\n",
    "array[2] = 10\n",
    "print(array)\n",
    "print(array_2)"
   ]
  },
  {
   "cell_type": "code",
   "execution_count": 132,
   "metadata": {},
   "outputs": [
    {
     "name": "stdout",
     "output_type": "stream",
     "text": [
      "[1 2 3 4 5]\n",
      "[1 2 3]\n",
      "-----------------------------------\n",
      "[ 1  2 10  4  5]\n",
      "[1 2 3]\n"
     ]
    }
   ],
   "source": [
    "# NEW ARRAY\n",
    "array = np.array([1, 2, 3, 4, 5])\n",
    "array_2 = array[:3].copy()          # NEED TO MAKE A COPY!!!\n",
    "print(array)\n",
    "print(array_2)\n",
    "print('-'*35)\n",
    "array[2] = 10\n",
    "print(array)\n",
    "print(array_2)"
   ]
  },
  {
   "cell_type": "markdown",
   "metadata": {},
   "source": [
    "### Flatten"
   ]
  },
  {
   "cell_type": "markdown",
   "metadata": {},
   "source": [
    "There are 2 popular ways to implement flattening. That is using the flatten() method and the other using the ravel() method.\n",
    "\n",
    "The difference between ravel and flatten is, the new array created using ravel is actually a reference to the parent array. So, any changes to the new array will affect the parent as well. But is memory efficient since it does not create a copy."
   ]
  },
  {
   "cell_type": "code",
   "execution_count": 148,
   "metadata": {},
   "outputs": [
    {
     "name": "stdout",
     "output_type": "stream",
     "text": [
      "[[0 1 2]\n",
      " [3 4 5]\n",
      " [6 7 8]]\n",
      "-----------------------------------\n",
      "[[0 1 2]\n",
      " [3 4 5]\n",
      " [6 7 8]]\n"
     ]
    }
   ],
   "source": [
    "array_1 = np.arange(9).reshape(3, 3)\n",
    "array_2 = np.arange(9).reshape(3, 3)\n",
    "print(array_1)\n",
    "print('-'*35)\n",
    "print(array_2)"
   ]
  },
  {
   "cell_type": "code",
   "execution_count": 150,
   "metadata": {},
   "outputs": [
    {
     "name": "stdout",
     "output_type": "stream",
     "text": [
      "[0 1 2 3 4 5 6 7 8]\n",
      "[100   1   2   3   4   5   6   7   8]\n",
      "-----------------------------------\n",
      "[[0 1 2]\n",
      " [3 4 5]\n",
      " [6 7 8]]\n",
      "[[100   1   2]\n",
      " [  3   4   5]\n",
      " [  6   7   8]]\n"
     ]
    }
   ],
   "source": [
    "array_flatten = array_1.flatten()\n",
    "array_ravel = array_2.ravel()     #! reference to the parent array\n",
    "\n",
    "print(array_flatten)\n",
    "print(array_ravel)\n",
    "print('-'*35)\n",
    "\n",
    "array_flatten[0] = 100 \n",
    "array_ravel[0] = 100 \n",
    "\n",
    "print(array_1)\n",
    "print(array_2)"
   ]
  },
  {
   "cell_type": "code",
   "execution_count": null,
   "metadata": {},
   "outputs": [],
   "source": []
  },
  {
   "cell_type": "code",
   "execution_count": null,
   "metadata": {},
   "outputs": [],
   "source": []
  },
  {
   "cell_type": "markdown",
   "metadata": {},
   "source": [
    "### Mehrdimensionale Arrays"
   ]
  },
  {
   "cell_type": "code",
   "execution_count": 126,
   "metadata": {},
   "outputs": [
    {
     "data": {
      "text/plain": [
       "array([[0, 1, 2],\n",
       "       [3, 4, 5],\n",
       "       [6, 7, 8]])"
      ]
     },
     "execution_count": 126,
     "metadata": {},
     "output_type": "execute_result"
    }
   ],
   "source": [
    "array = np.arange(9)\n",
    "array.reshape(3, 3)  # rows, columns"
   ]
  },
  {
   "cell_type": "code",
   "execution_count": 127,
   "metadata": {},
   "outputs": [
    {
     "name": "stdout",
     "output_type": "stream",
     "text": [
      "Shape:  (3, 3)\n",
      "Datatype:  int32\n",
      "Size:  9\n",
      "Num Dimensions:  2\n"
     ]
    }
   ],
   "source": [
    "print('Shape: ', array.reshape(3, 3).shape)\n",
    "print('Datatype: ', array.reshape(3, 3).dtype)\n",
    "print('Size: ', array.reshape(3, 3).size)\n",
    "print('Num Dimensions: ', array.reshape(3, 3).ndim)"
   ]
  },
  {
   "cell_type": "code",
   "execution_count": 128,
   "metadata": {},
   "outputs": [
    {
     "name": "stdout",
     "output_type": "stream",
     "text": [
      "[[0 1 2]\n",
      " [3 4 5]\n",
      " [6 7 8]]\n",
      "(3, 3)\n",
      "-----------------------------------\n",
      "[[0 1 2]\n",
      " [3 4 5]\n",
      " [6 7 8]]\n",
      "(3, 3)\n",
      "-----------------------------------\n",
      "[[0 1 2 3 4 5 6 7 8]]\n",
      "(1, 9)\n",
      "-----------------------------------\n",
      "[[0]\n",
      " [1]\n",
      " [2]\n",
      " [3]\n",
      " [4]\n",
      " [5]\n",
      " [6]\n",
      " [7]\n",
      " [8]]\n",
      "(9, 1)\n",
      "-----------------------------------\n",
      "[0 1 2 3 4 5 6 7 8]\n",
      "(9,)\n",
      "-----------------------------------\n"
     ]
    }
   ],
   "source": [
    "# Wenn man nicht weiß wieviele Zeilen man haben kann (bei fester Anzahl an Spalten)\n",
    "print(array.reshape(-1, 3))\n",
    "print(array.reshape(-1, 3).shape)\n",
    "print('-'*35)\n",
    "\n",
    "# Wenn man nicht weiß wieviele Spalten man haben kann (bei fester Anzahl an Zeilen)\n",
    "print(array.reshape(3, -1))\n",
    "print(array.reshape(3, -1).shape)\n",
    "print('-'*35)\n",
    "\n",
    "# Eindimensional \"reshapen\" -> Spalten -> Ich weiß, dass es 9 Einträge gibt / bzw. durch 9 teilbar\n",
    "print(array.reshape(-1, 9))\n",
    "print(array.reshape(-1, 9).shape)\n",
    "print('-'*35)\n",
    "\n",
    "# Eindimensional \"reshapen\" -> Zeilen -> Ich weiß, dass es 9 Einträge gibt / bzw. durch 9 teilbar\n",
    "print(array.reshape(9, -1))\n",
    "print(array.reshape(9, -1).shape)\n",
    "print('-'*35)\n",
    "\n",
    "# Eindimensional \"reshapen\" -> Einfaches Array -> Es sind alle Elemente in ZEILEN und KEINE Spalte mehr \n",
    "print(array.reshape(-1))\n",
    "print(array.reshape(-1).shape)\n",
    "print('-'*35)"
   ]
  },
  {
   "cell_type": "markdown",
   "metadata": {},
   "source": [
    "### Calcualtions"
   ]
  },
  {
   "cell_type": "code",
   "execution_count": 86,
   "metadata": {},
   "outputs": [
    {
     "name": "stdout",
     "output_type": "stream",
     "text": [
      "Simple: [0 1 2 3 4 5 6 7 8 9]\n",
      "add. with 2: [ 2  3  4  5  6  7  8  9 10 11]\n",
      "min. with 2: [-2 -1  0  1  2  3  4  5  6  7]\n",
      "mul. with 2: [ 0  2  4  6  8 10 12 14 16 18]\n",
      "div. with 2: [0.  0.5 1.  1.5 2.  2.5 3.  3.5 4.  4.5]\n"
     ]
    }
   ],
   "source": [
    "# Eindimensional\n",
    "array = np.arange(10)\n",
    "print('Simple:', array)\n",
    "print('add. with 2:', array + 2)\n",
    "print('min. with 2:', array - 2)\n",
    "print('mul. with 2:', array * 2)\n",
    "print('div. with 2:', array / 2)"
   ]
  },
  {
   "cell_type": "code",
   "execution_count": 87,
   "metadata": {},
   "outputs": [],
   "source": [
    "# Mehrdimensional\n",
    "#\n",
    "#\n",
    "#"
   ]
  },
  {
   "cell_type": "markdown",
   "metadata": {},
   "source": [
    "### Broadcasting"
   ]
  },
  {
   "cell_type": "code",
   "execution_count": 118,
   "metadata": {},
   "outputs": [
    {
     "name": "stdout",
     "output_type": "stream",
     "text": [
      "[100 100 100 100 100   5   6   7   8   9]\n",
      "[3 4 5]\n"
     ]
    }
   ],
   "source": [
    "array = np.arange(10)\n",
    "array[0:5] = 100\n",
    "\n",
    "print(array)\n",
    "print(np.array(2) + np.array([1, 2, 3]))"
   ]
  },
  {
   "cell_type": "code",
   "execution_count": 95,
   "metadata": {},
   "outputs": [],
   "source": [
    "x = np.arange(4)\n",
    "xx = x.reshape(4,1)\n",
    "y = np.ones(5)\n",
    "z = np.ones((3,4))"
   ]
  },
  {
   "cell_type": "code",
   "execution_count": 96,
   "metadata": {},
   "outputs": [
    {
     "name": "stdout",
     "output_type": "stream",
     "text": [
      "(4,)\n",
      "(4, 1)\n",
      "(5,)\n",
      "(3, 4)\n"
     ]
    }
   ],
   "source": [
    "print(x.shape)\n",
    "print(xx.shape)\n",
    "print(y.shape)\n",
    "print(z.shape)"
   ]
  },
  {
   "cell_type": "code",
   "execution_count": 98,
   "metadata": {},
   "outputs": [
    {
     "ename": "ValueError",
     "evalue": "operands could not be broadcast together with shapes (4,) (5,) ",
     "output_type": "error",
     "traceback": [
      "\u001b[1;31m---------------------------------------------------------------------------\u001b[0m",
      "\u001b[1;31mValueError\u001b[0m                                Traceback (most recent call last)",
      "\u001b[1;32m<ipython-input-98-2e5898c22a84>\u001b[0m in \u001b[0;36m<module>\u001b[1;34m\u001b[0m\n\u001b[1;32m----> 1\u001b[1;33m \u001b[0mx\u001b[0m \u001b[1;33m+\u001b[0m \u001b[0my\u001b[0m \u001b[1;31m# ERROR!\u001b[0m\u001b[1;33m\u001b[0m\u001b[1;33m\u001b[0m\u001b[0m\n\u001b[0m",
      "\u001b[1;31mValueError\u001b[0m: operands could not be broadcast together with shapes (4,) (5,) "
     ]
    }
   ],
   "source": [
    "x + y # ERROR!"
   ]
  },
  {
   "cell_type": "code",
   "execution_count": 115,
   "metadata": {},
   "outputs": [
    {
     "name": "stdout",
     "output_type": "stream",
     "text": [
      "[0 1 2 3] \n",
      "\n",
      "[[0]\n",
      " [1]\n",
      " [2]\n",
      " [3]] \n",
      "\n",
      "[1. 1. 1. 1. 1.] \n",
      "\n",
      "[[1. 1. 1. 1. 1.]\n",
      " [2. 2. 2. 2. 2.]\n",
      " [3. 3. 3. 3. 3.]\n",
      " [4. 4. 4. 4. 4.]]\n",
      "-----------------------------------\n",
      "[0 1 2 3] \n",
      "\n",
      "[[1. 1. 1. 1.]\n",
      " [1. 1. 1. 1.]\n",
      " [1. 1. 1. 1.]] \n",
      "\n",
      "[[1. 2. 3. 4.]\n",
      " [1. 2. 3. 4.]\n",
      " [1. 2. 3. 4.]]\n"
     ]
    }
   ],
   "source": [
    "print(x, '\\n')\n",
    "print(x.reshape(-1, 1), '\\n')\n",
    "print(y, '\\n')\n",
    "print(x.reshape(-1, 1) + y)\n",
    "print('-'*35)\n",
    "print(x, '\\n')\n",
    "print(z, '\\n')\n",
    "print(x + z)"
   ]
  },
  {
   "cell_type": "code",
   "execution_count": null,
   "metadata": {},
   "outputs": [],
   "source": []
  },
  {
   "cell_type": "code",
   "execution_count": null,
   "metadata": {},
   "outputs": [],
   "source": []
  },
  {
   "cell_type": "code",
   "execution_count": null,
   "metadata": {},
   "outputs": [],
   "source": []
  },
  {
   "cell_type": "markdown",
   "metadata": {},
   "source": [
    "### Apply mathematical functions"
   ]
  },
  {
   "cell_type": "code",
   "execution_count": 72,
   "metadata": {},
   "outputs": [
    {
     "name": "stdout",
     "output_type": "stream",
     "text": [
      "[0 1 2 3 4 5 6 7 8 9]\n",
      "Mean: 4.5\n",
      "Max: 9\n",
      "Max_index: 9\n",
      "Min: 0\n",
      "Max_index: 0\n",
      "Std: 2.87\n"
     ]
    }
   ],
   "source": [
    "# Eindimensional\n",
    "array = np.arange(10)\n",
    "print(array)\n",
    "print('Mean:', array.mean())\n",
    "\n",
    "print('Max:', array.max())\n",
    "print('Max_index:', array.argmax())\n",
    "\n",
    "print('Min:', array.min())\n",
    "print('Max_index:', array.argmin())\n",
    "\n",
    "print('Std:', np.round(array.std(), 2))"
   ]
  },
  {
   "cell_type": "code",
   "execution_count": 41,
   "metadata": {},
   "outputs": [
    {
     "name": "stdout",
     "output_type": "stream",
     "text": [
      "[[0 1 2]\n",
      " [3 4 5]\n",
      " [6 7 8]]\n",
      "-----------------------------------\n",
      "Min per column: [0 1 2]\n",
      "Min per row: [0 3 6]\n",
      "Max per column: [6 7 8]\n",
      "Max per row: [2 5 8]\n"
     ]
    }
   ],
   "source": [
    "# Mehrdimensional\n",
    "array = np.arange(9).reshape(3, 3)\n",
    "print(array)\n",
    "print('-'*35)\n",
    "print('Min per column:', np.amin(array, axis=0)) \n",
    "print('Min per row:', np.amin(array, axis=1))\n",
    "print('Max per column:', np.amax(array, axis=0))\n",
    "print('Max per row:', np.amax(array, axis=1))"
   ]
  },
  {
   "cell_type": "markdown",
   "metadata": {},
   "source": [
    "### Selections / Filtern"
   ]
  },
  {
   "cell_type": "code",
   "execution_count": 79,
   "metadata": {},
   "outputs": [
    {
     "name": "stdout",
     "output_type": "stream",
     "text": [
      "0\n",
      "[0 1 2 3 4]\n",
      "[5 6 7 8 9]\n",
      "[3]\n"
     ]
    }
   ],
   "source": [
    "# Eindimensional\n",
    "array = np.arange(10)\n",
    "print(array[0])\n",
    "print(array[:5])\n",
    "print(array[5:])\n",
    "print(array[3:4])"
   ]
  },
  {
   "cell_type": "code",
   "execution_count": 131,
   "metadata": {},
   "outputs": [
    {
     "name": "stdout",
     "output_type": "stream",
     "text": [
      "[[0 1 2]\n",
      " [3 4 5]\n",
      " [6 7 8]]\n",
      "-----------------------------------\n",
      "[[0 1]\n",
      " [3 4]]\n",
      "-----------------------------------\n",
      "[0 1 2]\n",
      "-----------------------------------\n",
      "[1 4 7]\n",
      "-----------------------------------\n",
      "[[3]\n",
      " [6]]\n",
      "(2, 1)\n",
      "-----------------------------------\n",
      "[[8 7 6]\n",
      " [5 4 3]\n",
      " [2 1 0]]\n"
     ]
    }
   ],
   "source": [
    "# Mehrdimensional\n",
    "# Das Format ist array[row][col] oder array[row,col]\n",
    "\n",
    "array = np.arange(9).reshape(3, 3)\n",
    "print(array)\n",
    "print('-'*35)\n",
    "print(array[:2, :2])\n",
    "print('-'*35)\n",
    "print(array[0,:])\n",
    "print('-'*35)\n",
    "print(array[:,1])\n",
    "print('-'*35)\n",
    "print(array[1:,:1])\n",
    "print(array[1:,:1].shape)\n",
    "print('-'*35)\n",
    "print(array[::-1, ::-1]) # reverse"
   ]
  },
  {
   "cell_type": "code",
   "execution_count": 77,
   "metadata": {},
   "outputs": [
    {
     "name": "stdout",
     "output_type": "stream",
     "text": [
      "[False False False False False False  True  True  True  True]\n"
     ]
    },
    {
     "data": {
      "text/plain": [
       "array([6, 7, 8, 9])"
      ]
     },
     "execution_count": 77,
     "metadata": {},
     "output_type": "execute_result"
    }
   ],
   "source": [
    "array = np.arange(10)\n",
    "sel = array>5\n",
    "print(sel)\n",
    "array[sel]"
   ]
  },
  {
   "cell_type": "markdown",
   "metadata": {},
   "source": [
    "### Missing values and infinite"
   ]
  },
  {
   "cell_type": "code",
   "execution_count": 113,
   "metadata": {},
   "outputs": [
    {
     "name": "stdout",
     "output_type": "stream",
     "text": [
      "[[0 1 2]\n",
      " [3 4 5]\n",
      " [6 7 8]]\n",
      "-----------------------------------\n",
      "[[0. 1. 2.]\n",
      " [3. 4. 5.]\n",
      " [6. 7. 8.]]\n",
      "-----------------------------------\n",
      "[[ 0.  1.  2.]\n",
      " [ 3. nan inf]\n",
      " [ 6.  7.  8.]]\n"
     ]
    }
   ],
   "source": [
    "array = np.arange(9).reshape(3, 3)\n",
    "print(array)\n",
    "print('-'*35)\n",
    "array = array.astype(float)\n",
    "print(array)\n",
    "print('-'*35)\n",
    "array[1, 1] = np.NaN\n",
    "array[1, 2] = np.inf\n",
    "print(array)"
   ]
  },
  {
   "cell_type": "code",
   "execution_count": 114,
   "metadata": {},
   "outputs": [
    {
     "name": "stdout",
     "output_type": "stream",
     "text": [
      "[[False False False]\n",
      " [False False False]\n",
      " [False False False]]\n",
      "-----------------------------------\n",
      "[[False False False]\n",
      " [False False False]\n",
      " [False False False]]\n",
      "-----------------------------------\n",
      "[[False False False]\n",
      " [False False  True]\n",
      " [False False False]]\n"
     ]
    }
   ],
   "source": [
    "print(array == np.nan) # DOES NOT WORK!\n",
    "print('-'*35)\n",
    "print(array == np.NaN) # DOES NOT WORK!\n",
    "print('-'*35)\n",
    "print(array == np.inf) # WORKS!"
   ]
  },
  {
   "cell_type": "code",
   "execution_count": 115,
   "metadata": {},
   "outputs": [
    {
     "name": "stdout",
     "output_type": "stream",
     "text": [
      "[[False False False]\n",
      " [False  True False]\n",
      " [False False False]]\n",
      "-----------------------------------\n",
      "[[False False False]\n",
      " [False False  True]\n",
      " [False False False]]\n"
     ]
    }
   ],
   "source": [
    "print(np.isnan(array)) # WORKS! USE THIS SYNTAX!\n",
    "print('-'*35)\n",
    "print(np.isinf(array)) # WORKS! USE THIS SYNTAX!"
   ]
  },
  {
   "cell_type": "code",
   "execution_count": 119,
   "metadata": {},
   "outputs": [
    {
     "name": "stdout",
     "output_type": "stream",
     "text": [
      "[[ 0.  1.  2.]\n",
      " [ 3. -1. -2.]\n",
      " [ 6.  7.  8.]]\n",
      "-----------------------------------\n",
      "[[ 0  1  2]\n",
      " [ 3 -1 -2]\n",
      " [ 6  7  8]]\n"
     ]
    }
   ],
   "source": [
    "array[np.isnan(array)] = -1\n",
    "array[np.isinf(array)] = -2\n",
    "print(array)\n",
    "print('-'*35)\n",
    "print(array.astype(int))"
   ]
  },
  {
   "cell_type": "code",
   "execution_count": null,
   "metadata": {},
   "outputs": [],
   "source": []
  },
  {
   "cell_type": "markdown",
   "metadata": {},
   "source": [
    "### Feste Array erzeugen"
   ]
  },
  {
   "cell_type": "markdown",
   "metadata": {},
   "source": [
    "- np.zeros(x, (y, z, ...)) | np.zeros(x, [y, z, ...])\n",
    "- np.ones(x, (y, z, ...))\n",
    "- np.array(x)*factor.reshape([x, (y, z, ...])"
   ]
  },
  {
   "cell_type": "code",
   "execution_count": 53,
   "metadata": {},
   "outputs": [
    {
     "name": "stdout",
     "output_type": "stream",
     "text": [
      "(10,)\n",
      "[0. 0. 0. 0. 0. 0. 0. 0. 0. 0.]\n",
      "-----------------------------------\n",
      "(2, 3)\n",
      "[[0. 0. 0.]\n",
      " [0. 0. 0.]]\n",
      "-----------------------------------\n",
      "(2, 4, 3)\n",
      "[[[0. 0. 0.]\n",
      "  [0. 0. 0.]\n",
      "  [0. 0. 0.]\n",
      "  [0. 0. 0.]]\n",
      "\n",
      " [[0. 0. 0.]\n",
      "  [0. 0. 0.]\n",
      "  [0. 0. 0.]\n",
      "  [0. 0. 0.]]]\n",
      "-----------------------------------\n",
      "[10 10 10 10 10 10 10 10 10 10 10 10 10 10 10 10 10 10 10 10 10 10 10 10]\n",
      "[[[10 10 10]\n",
      "  [10 10 10]\n",
      "  [10 10 10]\n",
      "  [10 10 10]]\n",
      "\n",
      " [[10 10 10]\n",
      "  [10 10 10]\n",
      "  [10 10 10]\n",
      "  [10 10 10]]]\n",
      "-----------------------------------\n",
      "CALCULATION:\n",
      "[[[11. 11. 11.]\n",
      "  [11. 11. 11.]\n",
      "  [11. 11. 11.]\n",
      "  [11. 11. 11.]]\n",
      "\n",
      " [[11. 11. 11.]\n",
      "  [11. 11. 11.]\n",
      "  [11. 11. 11.]\n",
      "  [11. 11. 11.]]]\n"
     ]
    }
   ],
   "source": [
    "# np.zeros([d0, d1, ...])\n",
    "# np.zeros((d0, d1, ...))\n",
    "\n",
    "print(np.zeros(10).shape)\n",
    "print(np.zeros(10))\n",
    "print('-'*35)\n",
    "print(np.zeros([2, 3]).shape)\n",
    "print(np.zeros([2, 3]))\n",
    "print('-'*35)\n",
    "print(np.zeros([2, 4, 3]).shape)\n",
    "print(np.zeros([2, 4, 3]))\n",
    "print('-'*35)\n",
    "print(np.array([10]*(2*4*3)))\n",
    "print(np.array([10]*(2*4*3)).reshape([2, 4, 3]))\n",
    "print('-'*35)\n",
    "print('CALCULATION:')\n",
    "print(np.zeros([2, 4, 3]) + np.ones([2, 4, 3]) + np.array([10]*(2*4*3)).reshape([2, 4, 3]))"
   ]
  },
  {
   "cell_type": "code",
   "execution_count": null,
   "metadata": {},
   "outputs": [],
   "source": []
  },
  {
   "cell_type": "markdown",
   "metadata": {},
   "source": [
    "### Matrix"
   ]
  },
  {
   "cell_type": "code",
   "execution_count": 61,
   "metadata": {},
   "outputs": [
    {
     "data": {
      "text/plain": [
       "array([[1., 0., 0., 0., 0.],\n",
       "       [0., 1., 0., 0., 0.],\n",
       "       [0., 0., 1., 0., 0.],\n",
       "       [0., 0., 0., 1., 0.],\n",
       "       [0., 0., 0., 0., 1.]])"
      ]
     },
     "execution_count": 61,
     "metadata": {},
     "output_type": "execute_result"
    }
   ],
   "source": [
    "a = np.eye(5)\n",
    "a"
   ]
  },
  {
   "cell_type": "code",
   "execution_count": 66,
   "metadata": {},
   "outputs": [
    {
     "data": {
      "text/plain": [
       "array([[0.2110898 , 0.55085391, 0.76455366, 0.05378563, 0.20359829],\n",
       "       [0.32463284, 0.00287847, 0.82266753, 0.46632718, 0.79738288],\n",
       "       [0.37711376, 0.68260819, 0.11017256, 0.25603535, 0.08519504],\n",
       "       [0.06953561, 0.54625512, 0.08873769, 0.6140355 , 0.20478341],\n",
       "       [0.93106416, 0.65948722, 0.98456526, 0.23494992, 0.61813144]])"
      ]
     },
     "execution_count": 66,
     "metadata": {},
     "output_type": "execute_result"
    }
   ],
   "source": [
    "b = np.random.rand(5, 5)\n",
    "b"
   ]
  },
  {
   "cell_type": "code",
   "execution_count": 67,
   "metadata": {},
   "outputs": [
    {
     "data": {
      "text/plain": [
       "array([[0.2110898 , 0.55085391, 0.76455366, 0.05378563, 0.20359829],\n",
       "       [0.32463284, 0.00287847, 0.82266753, 0.46632718, 0.79738288],\n",
       "       [0.37711376, 0.68260819, 0.11017256, 0.25603535, 0.08519504],\n",
       "       [0.06953561, 0.54625512, 0.08873769, 0.6140355 , 0.20478341],\n",
       "       [0.93106416, 0.65948722, 0.98456526, 0.23494992, 0.61813144]])"
      ]
     },
     "execution_count": 67,
     "metadata": {},
     "output_type": "execute_result"
    }
   ],
   "source": [
    "np.matmul(a, b)"
   ]
  },
  {
   "cell_type": "code",
   "execution_count": null,
   "metadata": {},
   "outputs": [],
   "source": []
  },
  {
   "cell_type": "code",
   "execution_count": null,
   "metadata": {},
   "outputs": [],
   "source": []
  },
  {
   "cell_type": "code",
   "execution_count": null,
   "metadata": {},
   "outputs": [],
   "source": []
  },
  {
   "cell_type": "code",
   "execution_count": null,
   "metadata": {},
   "outputs": [],
   "source": []
  },
  {
   "cell_type": "code",
   "execution_count": null,
   "metadata": {},
   "outputs": [],
   "source": []
  },
  {
   "cell_type": "code",
   "execution_count": null,
   "metadata": {},
   "outputs": [],
   "source": []
  },
  {
   "cell_type": "code",
   "execution_count": null,
   "metadata": {},
   "outputs": [],
   "source": []
  },
  {
   "cell_type": "code",
   "execution_count": 125,
   "metadata": {},
   "outputs": [
    {
     "data": {
      "text/plain": [
       "array([1.43, 4.22])"
      ]
     },
     "execution_count": 125,
     "metadata": {},
     "output_type": "execute_result"
    }
   ],
   "source": [
    "np.array([1.4344, 4.2234234]).round(2)"
   ]
  },
  {
   "cell_type": "code",
   "execution_count": null,
   "metadata": {},
   "outputs": [],
   "source": []
  },
  {
   "cell_type": "code",
   "execution_count": null,
   "metadata": {},
   "outputs": [],
   "source": []
  }
 ],
 "metadata": {
  "kernelspec": {
   "display_name": "Python 3",
   "language": "python",
   "name": "python3"
  },
  "language_info": {
   "codemirror_mode": {
    "name": "ipython",
    "version": 3
   },
   "file_extension": ".py",
   "mimetype": "text/x-python",
   "name": "python",
   "nbconvert_exporter": "python",
   "pygments_lexer": "ipython3",
   "version": "3.7.3"
  }
 },
 "nbformat": 4,
 "nbformat_minor": 2
}
