{
 "cells": [
  {
   "cell_type": "markdown",
   "metadata": {},
   "source": [
    "### DECORATORS"
   ]
  },
  {
   "cell_type": "markdown",
   "metadata": {},
   "source": [
    "#### In Python, functions are first-class objects. This means that functions can be passed around and used as arguments, just like any other object (string, int, float, list, and so on). \n",
    "\n",
    "- Code Examples: https://realpython.com/primer-on-python-decorators/\n",
    "- YouTube Video: https://www.youtube.com/watch?v=FsAPt_9Bf3U\n",
    "- Motivation: https://www.python.org/dev/peps/pep-0318/#motivation\n",
    "\n",
    "- (READ) Medium Article: https://medium.com/better-programming/decorators-in-python-72a1d578eac4\n",
    "- (RED) Article: https://medium.com/swlh/demystifying-python-decorators-in-10-minutes-ffe092723c6c "
   ]
  },
  {
   "cell_type": "code",
   "execution_count": 2,
   "metadata": {},
   "outputs": [],
   "source": [
    "###########################################\n",
    "### Main Pattern\n",
    "###########################################\n",
    "\n",
    "from functools import wraps\n",
    "\n",
    "def decorator(func):\n",
    "    \n",
    "    @wraps(func)\n",
    "    \n",
    "    def wrapper_decorator(*args, **kwargs):\n",
    "        # Do something before\n",
    "        value = func(*args, **kwargs)\n",
    "        # Do something after\n",
    "        return value\n",
    "    \n",
    "    return wrapper_decorator"
   ]
  },
  {
   "cell_type": "code",
   "execution_count": 4,
   "metadata": {},
   "outputs": [
    {
     "name": "stdout",
     "output_type": "stream",
     "text": [
      "Hello Bob\n",
      "Yo Bobo together we are the awesomest!\n",
      "Yo Bobomomo together we are the awesomest!\n"
     ]
    }
   ],
   "source": [
    "###########################################\n",
    "### First-Class Objects\n",
    "###########################################\n",
    "\n",
    "def say_hello(name):\n",
    "    print(\"Hello {}\".format(name))\n",
    "\n",
    "def be_awesome(name):\n",
    "    print(\"Yo %s together we are the awesomest!\" %name)\n",
    "\n",
    "def greet_bob(greeter_func):\n",
    "    return greeter_func(\"Bobomomo\")\n",
    "\n",
    "say_hello('Bob')\n",
    "be_awesome('Bobo')\n",
    "\n",
    "greet_bob(be_awesome) # Passing a function"
   ]
  },
  {
   "cell_type": "code",
   "execution_count": 7,
   "metadata": {},
   "outputs": [
    {
     "name": "stdout",
     "output_type": "stream",
     "text": [
      "Printing from the parent() function\n",
      "Printing from the first_child() function\n",
      "Printing from the second_child() function\n"
     ]
    }
   ],
   "source": [
    "###########################################\n",
    "### Inner Functions\n",
    "###########################################\n",
    "\n",
    "def parent():\n",
    "    print(\"Printing from the parent() function\")\n",
    "\n",
    "    def first_child():\n",
    "        print(\"Printing from the first_child() function\")\n",
    "\n",
    "    def second_child():\n",
    "        print(\"Printing from the second_child() function\")\n",
    "    \n",
    "    first_child()\n",
    "    second_child()  \n",
    "    \n",
    "parent()"
   ]
  },
  {
   "cell_type": "code",
   "execution_count": 10,
   "metadata": {},
   "outputs": [
    {
     "name": "stdout",
     "output_type": "stream",
     "text": [
      "<function parent.<locals>.first_child at 0x0000019786415BF8>\n",
      "Hi, I am Emma\n"
     ]
    }
   ],
   "source": [
    "###########################################\n",
    "### Returning Functions From Functions\n",
    "###########################################\n",
    "\n",
    "def parent(num):\n",
    "    def first_child():\n",
    "        return \"Hi, I am Emma\"\n",
    "\n",
    "    def second_child():\n",
    "        return \"Call me Liam\"\n",
    "\n",
    "    if num == 1:\n",
    "        return first_child\n",
    "    else:\n",
    "        return second_child\n",
    "\n",
    "first = parent(1)    # returns a function!\n",
    "second = parent(2)   # returns a function!\n",
    "\n",
    "print(first)   # <function __main__.parent.<locals>.first_child()>\n",
    "print(first()) # 'Hi, I am Emma'"
   ]
  },
  {
   "cell_type": "code",
   "execution_count": 11,
   "metadata": {},
   "outputs": [
    {
     "name": "stdout",
     "output_type": "stream",
     "text": [
      "Something is happening before the function is called.\n",
      "Whee!\n",
      "Something is happening after the function is called.\n"
     ]
    }
   ],
   "source": [
    "###########################################\n",
    "### Simple Decorators\n",
    "###########################################\n",
    "\n",
    "def my_decorator(func):\n",
    "    def wrapper():\n",
    "        print(\"Something is happening before the function is called.\")\n",
    "        func()\n",
    "        print(\"Something is happening after the function is called.\")\n",
    "    return wrapper\n",
    "\n",
    "def say_whee():\n",
    "    print(\"Whee!\")\n",
    "\n",
    "say_whee_ = my_decorator(say_whee)\n",
    "say_whee_ # <function __main__.my_decorator.<locals>.wrapper()>\n",
    "say_whee_()\n",
    "\n",
    "# Because wrapper() is a regular Python function, the way a decorator modifies a function can change dynamically. "
   ]
  },
  {
   "cell_type": "code",
   "execution_count": 12,
   "metadata": {},
   "outputs": [
    {
     "name": "stdout",
     "output_type": "stream",
     "text": [
      "It is 8 o'clock\n",
      "Whee!\n"
     ]
    }
   ],
   "source": [
    "# So as not to disturb your neighbors, the following example \n",
    "# will only run the decorated code during the day:\n",
    "\n",
    "from datetime import datetime\n",
    "\n",
    "def not_during_the_night(func):\n",
    "    def wrapper():\n",
    "        if 7 <= datetime.now().hour < 22:\n",
    "            print(\"It is %d o'clock\" %datetime.now().hour)\n",
    "            func()\n",
    "        else:\n",
    "            pass  # Hush, the neighbors are asleep\n",
    "    return wrapper\n",
    "\n",
    "def say_whee():\n",
    "    print(\"Whee!\")\n",
    "\n",
    "say_whee_ = not_during_the_night(say_whee)\n",
    "say_whee_()"
   ]
  },
  {
   "cell_type": "code",
   "execution_count": 3,
   "metadata": {},
   "outputs": [
    {
     "data": {
      "text/plain": [
       "4.0"
      ]
     },
     "execution_count": 3,
     "metadata": {},
     "output_type": "execute_result"
    }
   ],
   "source": [
    "def convert_to_numeric(func): \n",
    "    # define a function within the outer function\n",
    "    def new_func(x):\n",
    "        return func(float(x))\n",
    "    # return the newly defined function\n",
    "    return new_func # # (A)\n",
    "\n",
    "def first_func(x): return x**2 # (A)\n",
    "\n",
    "new_fist_func = convert_to_numeric(first_func)\n",
    "\n",
    "new_fist_func(2)\n",
    "\n",
    "# Well, our convert_to_numeric takes a function (A) as an argument and returns a new function (B). \n",
    "# The new function (B), when called, calls function (A) \n",
    "# but instead of calling it with the passed argument x it calls function (A) with float(x) and \n",
    "# therefore solving our previous TypeError problem."
   ]
  },
  {
   "cell_type": "code",
   "execution_count": 13,
   "metadata": {},
   "outputs": [
    {
     "name": "stdout",
     "output_type": "stream",
     "text": [
      "Something is happening before the function is called.\n",
      "Whee!\n",
      "Something is happening after the function is called.\n"
     ]
    }
   ],
   "source": [
    "###########################################\n",
    "### Syntactic Sugar!\n",
    "###########################################\n",
    "\n",
    "# Python allows you to use decorators in a simpler way \n",
    "# with the @ symbol, sometimes called the “pie” syntax. \n",
    "# @my_decorator is an easier way of saying: say_whee = my_decorator(say_whee). \n",
    "# It’s how you apply a decorator to a function.\n",
    "\n",
    "def my_decorator(func):\n",
    "    def wrapper():\n",
    "        print(\"Something is happening before the function is called.\")\n",
    "        func()\n",
    "        print(\"Something is happening after the function is called.\")\n",
    "    return wrapper\n",
    "\n",
    "@my_decorator\n",
    "def say_whee():\n",
    "    print(\"Whee!\")\n",
    "    \n",
    "say_whee()"
   ]
  },
  {
   "cell_type": "code",
   "execution_count": 16,
   "metadata": {},
   "outputs": [
    {
     "name": "stdout",
     "output_type": "stream",
     "text": [
      "Whee!\n",
      "Whee!\n"
     ]
    }
   ],
   "source": [
    "###########################################\n",
    "### Decorating Functions With Arguments\n",
    "###########################################\n",
    "\n",
    "def do_twice(func):\n",
    "    def wrapper_do_twice():\n",
    "        func()\n",
    "        func()\n",
    "    return wrapper_do_twice\n",
    "\n",
    "@do_twice\n",
    "def say_whee():\n",
    "    print(\"Whee!\")\n",
    "    \n",
    "say_whee()\n",
    "\n",
    "@do_twice\n",
    "def greet(name):\n",
    "    print(\"Hello {}\".format(name))\n",
    "    \n",
    "# greet('Bobo') \n",
    "# TypeError: wrapper_do_twice() takes 0 positional arguments but 1 was given\n",
    "\n",
    "### WHY?\n",
    "# The problem is that the inner function wrapper_do_twice() does not take \n",
    "# any arguments, but name=\"Bobo\" was passed to it. \n",
    "# The solution is to use *args and **kwargs in the inner wrapper function. \n",
    "# Then it will accept an arbitrary number of positional and keyword arguments."
   ]
  },
  {
   "cell_type": "code",
   "execution_count": 20,
   "metadata": {},
   "outputs": [
    {
     "name": "stdout",
     "output_type": "stream",
     "text": [
      "Hello Bobo\n",
      "Hello Bobo\n"
     ]
    }
   ],
   "source": [
    "def do_twice_n(func):\n",
    "    def wrapper_do_twice(*args, **kwargs):\n",
    "        func(*args, **kwargs)\n",
    "        func(*args, **kwargs)\n",
    "    return wrapper_do_twice\n",
    "\n",
    "@do_twice_n\n",
    "def greet(name):\n",
    "    print(\"Hello {}\".format(name))\n",
    "\n",
    "do_twice_n # <function __main__.do_twice_n(func)>\n",
    "greet # <function __main__.do_twice_n.<locals>.wrapper_do_twice(*args, **kwargs)>  !!! Ich rufe wrapper_do_twice auf!\n",
    "\n",
    "# Das ist der Knackpunkt an Decorator - er führt die Funktion im Wrapper aus, die ihm übergeben wurde.\n",
    "# Sobald ich greet ausführe, wird eigentlich wrapper_do_twice aufgerufen!\n",
    "# greet = do_twice(greet) -> und das gibt ja die Funktion wrapper_do_twice wieder\n",
    "\n",
    "greet('Bobo') "
   ]
  },
  {
   "cell_type": "code",
   "execution_count": 19,
   "metadata": {},
   "outputs": [
    {
     "name": "stdout",
     "output_type": "stream",
     "text": [
      "Hello Bobo\n"
     ]
    }
   ],
   "source": [
    "def decorator(func):\n",
    "    def wrapper(*args, **kwargs):\n",
    "        return func(*args, **kwargs)\n",
    "    return wrapper\n",
    "\n",
    "@decorator\n",
    "def greet(name):\n",
    "    return \"Hello {}\".format(name)\n",
    "\n",
    "g = greet('Bobo') \n",
    "print(g)    # Hello Bobo"
   ]
  },
  {
   "cell_type": "code",
   "execution_count": 22,
   "metadata": {},
   "outputs": [
    {
     "name": "stdout",
     "output_type": "stream",
     "text": [
      "wrapper\n"
     ]
    }
   ],
   "source": [
    "###########################################\n",
    "### Who Are You, Really?\n",
    "###########################################\n",
    "\n",
    "def decorator(func):\n",
    "    def wrapper(*args, **kwargs):\n",
    "        return func(*args, **kwargs)\n",
    "    return wrapper\n",
    "\n",
    "@decorator\n",
    "def greet(name):\n",
    "    return \"Hello {}\".format(name)\n",
    "\n",
    "print(greet.__name__)   # 'wrapper' -> Loosing information as it is get confused\n",
    "\n",
    "# Siehe erklärung davor - ich habe ja greet = decorator(greet) gemacht - und das gibt mit ja die Funktion \"wrapper\" wieder\n",
    "\n",
    "# How to solve it? "
   ]
  },
  {
   "cell_type": "code",
   "execution_count": 23,
   "metadata": {},
   "outputs": [
    {
     "name": "stdout",
     "output_type": "stream",
     "text": [
      "greet\n"
     ]
    }
   ],
   "source": [
    "from functools import wraps\n",
    "\n",
    "def decorator(func):\n",
    "    \n",
    "    @wraps(func)    # Preserve information about the original function  \n",
    "    def wrapper(*args, **kwargs):\n",
    "        return func(*args, **kwargs)\n",
    "    return wrapper\n",
    "\n",
    "@decorator\n",
    "def greet(name):\n",
    "    return \"Hello {}\".format(name)\n",
    "\n",
    "print(greet.__name__) # 'greet'\n",
    "\n",
    "# Technical Detail: The @functools.wraps decorator uses the function \n",
    "# functools.update_wrapper() to update special attributes like \n",
    "# __name__ and __doc__ that are used in the introspection."
   ]
  },
  {
   "cell_type": "code",
   "execution_count": 25,
   "metadata": {},
   "outputs": [
    {
     "name": "stdout",
     "output_type": "stream",
     "text": [
      "start 1571902605.644364\n",
      "end 1571902614.2502766\n",
      "run_time 8.605912446975708\n",
      "waste_some_time run for exactly 8.605912446975708 seconds\n"
     ]
    }
   ],
   "source": [
    "###########################################\n",
    "### Timing Functions\n",
    "###########################################\n",
    "\n",
    "from functools import wraps\n",
    "import time\n",
    "\n",
    "def timer(func):\n",
    "    \"\"\"Calcualte time needed to execute the function\"\"\"\n",
    "\n",
    "    @wraps(func)\n",
    "    \n",
    "    def wrapper_decorator(*args, **kwargs):\n",
    "        \n",
    "        start = time.time()\n",
    "        print('start', start)\n",
    "        \n",
    "        value = func(*args, **kwargs)\n",
    "        \n",
    "        end = time.time()\n",
    "        print('end', end)\n",
    "        \n",
    "        run_time = end-start\n",
    "        \n",
    "        print('run_time', run_time)\n",
    "        print('{} run for exactly {} seconds'.format(func.__name__, run_time))\n",
    "        \n",
    "        # return value\n",
    "    \n",
    "    return wrapper_decorator\n",
    "\n",
    "@timer\n",
    "def waste_some_time(num_times):\n",
    "    for _ in range(num_times):\n",
    "        sum([i**2 for i in range(10000)])\n",
    "        \n",
    "waste_some_time(1000)"
   ]
  },
  {
   "cell_type": "code",
   "execution_count": 28,
   "metadata": {},
   "outputs": [
    {
     "name": "stdout",
     "output_type": "stream",
     "text": [
      "args_repr: [\"'Benjamin'\"]\n",
      "kwargs_repr: []\n",
      "Calling 'make_greeting' with signature: ['Benjamin']\n",
      "Function 'make_greeting' returned 'Howdy Benjamin'\n",
      "args_repr: [\"'Richard'\"]\n",
      "kwargs_repr: ['age=112']\n",
      "Calling 'make_greeting' with signature: ['Richard', age=112]\n",
      "Function 'make_greeting' returned 'Whoa Richard! 112 already, you are growing up!'\n"
     ]
    },
    {
     "data": {
      "text/plain": [
       "'Whoa Richard! 112 already, you are growing up!'"
      ]
     },
     "execution_count": 28,
     "metadata": {},
     "output_type": "execute_result"
    }
   ],
   "source": [
    "###########################################\n",
    "### Debugging Code\n",
    "###########################################\n",
    "\n",
    "from functools import wraps\n",
    "\n",
    "def debug(func):\n",
    "    \"\"\"Print the function signature and return value\"\"\"\n",
    "    \n",
    "    @wraps(func)\n",
    "    \n",
    "    def wrapper_debug(*args, **kwargs):\n",
    "        args_repr = [repr(a) for a in args]\n",
    "        print('args_repr:', args_repr)\n",
    "        \n",
    "        kwargs_repr = [\"{}={}\".format(k, v) for k, v in kwargs.items()]        \n",
    "        print('kwargs_repr:', kwargs_repr)\n",
    "        \n",
    "        signature = \", \".join(args_repr + kwargs_repr)         \n",
    "          \n",
    "        print(\"Calling {} with signature: [{}]\".format(repr(func.__name__), signature))\n",
    "        \n",
    "        value = func(*args, **kwargs)\n",
    "        \n",
    "        print(\"Function {} returned {}\".format(repr(func.__name__), repr(value)))   \n",
    "        \n",
    "        return value\n",
    "    return wrapper_debug\n",
    "\n",
    "@debug\n",
    "def make_greeting(name, age=None):\n",
    "    if age is None:\n",
    "        return \"Howdy {}\".format(name)\n",
    "    else:\n",
    "        return \"Whoa {}! {} already, you are growing up!\".format(name, age)\n",
    "    \n",
    "make_greeting(\"Benjamin\")    \n",
    "make_greeting(\"Richard\", age=112)  "
   ]
  },
  {
   "cell_type": "code",
   "execution_count": 50,
   "metadata": {},
   "outputs": [
    {
     "name": "stdout",
     "output_type": "stream",
     "text": [
      "5\n",
      "4\n",
      "3\n",
      "2\n",
      "1\n",
      "Liftoff!\n"
     ]
    }
   ],
   "source": [
    "###########################################\n",
    "### Slowing Down Code\n",
    "###########################################\n",
    "\n",
    "def slow_down(func):\n",
    "    \"\"\"Sleep 1 second before calling the function\"\"\"\n",
    "    \n",
    "    import time\n",
    "    \n",
    "    @wraps(func)\n",
    "    \n",
    "    def wrapper_slow_down(*args, **kwargs):\n",
    "        # print('Sleeping')\n",
    "        time.sleep(1)\n",
    "        return func(*args, **kwargs)\n",
    "    \n",
    "    return wrapper_slow_down\n",
    "\n",
    "@slow_down\n",
    "def countdown(from_number):\n",
    "    if from_number < 1:\n",
    "        print(\"Liftoff!\")\n",
    "    else:\n",
    "        print(from_number)\n",
    "        countdown(from_number - 1)\n",
    "        \n",
    "countdown(5)"
   ]
  },
  {
   "cell_type": "code",
   "execution_count": 51,
   "metadata": {},
   "outputs": [
    {
     "name": "stdout",
     "output_type": "stream",
     "text": [
      "args_repr: ['<__main__.TimeWaster object at 0x00000197868AF240>', '100']\n",
      "kwargs_repr: []\n",
      "Calling '__init__' with signature: [<__main__.TimeWaster object at 0x00000197868AF240>, 100]\n",
      "Function '__init__' returned None\n",
      "start 1571906310.9522693\n",
      "end 1571906311.0459173\n",
      "run_time 0.09364795684814453\n",
      "waste_time run for exactly 0.09364795684814453 seconds\n"
     ]
    }
   ],
   "source": [
    "###########################################\n",
    "### Classes\n",
    "###########################################\n",
    "\n",
    "class TimeWaster:\n",
    "    \n",
    "    @debug\n",
    "    def __init__(self, max_num):\n",
    "        self.max_num = max_num\n",
    "        \n",
    "    @timer\n",
    "    def waste_time(self, num_times):\n",
    "        for _ in range(num_times):\n",
    "            sum([i**2 for i in range(self.max_num)])\n",
    "\n",
    "tw = TimeWaster(100)\n",
    "tw.waste_time(999)"
   ]
  },
  {
   "cell_type": "code",
   "execution_count": 60,
   "metadata": {},
   "outputs": [
    {
     "name": "stdout",
     "output_type": "stream",
     "text": [
      "start 1571906980.9917111\n",
      "args_repr: ['5']\n",
      "kwargs_repr: []\n",
      "Calling 'waste_some_time' with signature: [5]\n",
      "Function 'waste_some_time' returned 333283335000\n",
      "end 1571906982.0174794\n",
      "run_time 1.0257682800292969\n",
      "waste_some_time run for exactly 1.0257682800292969 seconds\n"
     ]
    }
   ],
   "source": [
    "###########################################\n",
    "### Nested Decorators\n",
    "###########################################\n",
    "\n",
    "@timer\n",
    "@slow_down\n",
    "@debug\n",
    "def waste_some_time(num_times):\n",
    "    for _ in range(num_times):\n",
    "        return sum([i**2 for i in range(10000)])\n",
    "    \n",
    "\n",
    "waste_some_time(5)"
   ]
  },
  {
   "cell_type": "code",
   "execution_count": 62,
   "metadata": {},
   "outputs": [
    {
     "name": "stdout",
     "output_type": "stream",
     "text": [
      "Hello World\n",
      "Hello World\n",
      "Hello World\n",
      "Hello World\n"
     ]
    }
   ],
   "source": [
    "###########################################\n",
    "### Decorators With Arguments\n",
    "###########################################\n",
    "\n",
    "def repeat(num_times):\n",
    "    \n",
    "    def decorator_repeat(func):\n",
    "        \n",
    "        @wraps(func)\n",
    "        \n",
    "        def wrapper_repeat(*args, **kwargs):\n",
    "            for _ in range(num_times):\n",
    "                value = func(*args, **kwargs)\n",
    "            return value\n",
    "        \n",
    "        return wrapper_repeat\n",
    "    \n",
    "    return decorator_repeat\n",
    "\n",
    "# This wrapper_repeat() function takes arbitrary arguments and returns the value of the decorated function, # func(). \n",
    "# This wrapper function also contains the loop that calls the decorated function num_times times. \n",
    "# This is no different from the earlier wrapper functions you have seen, except that it is using the \n",
    "# num_times parameter that must be supplied from the outside.\n",
    "\n",
    "# Again, decorator_repeat() looks exactly like the decorator functions you have written earlier, \n",
    "# except that it’s named differently. That’s because we reserve the base name—repeat()—for the \n",
    "# outermost function, which is the one the user will call.\n",
    "\n",
    "# Defining decorator_repeat() as an inner function means that repeat() will refer to a function\n",
    "# object—decorator_repeat. Earlier, we used repeat without parentheses to refer to the function object. \n",
    "# The added parentheses are necessary when defining decorators that take arguments.\n",
    "\n",
    "# The num_times argument is seemingly not used in repeat() itself. But by passing num_times a closure \n",
    "# is created where the value of num_times is stored until it will be used later by wrapper_repeat().\n",
    "\n",
    "@repeat(num_times=4)\n",
    "def greet(name):\n",
    "    print(\"Hello {}\".format(name))\n",
    "    \n",
    "greet('World')"
   ]
  },
  {
   "cell_type": "code",
   "execution_count": 76,
   "metadata": {},
   "outputs": [
    {
     "name": "stdout",
     "output_type": "stream",
     "text": [
      "FUNC Not None\n",
      "Whee!\n",
      "Whee!\n"
     ]
    }
   ],
   "source": [
    "###########################################\n",
    "### Both Please, But Never Mind the Bread\n",
    "###########################################\n",
    "\n",
    "# def name(_func=None, *, kw1=val1, kw2=val2, ...):  # 1\n",
    "#     def decorator_name(func):\n",
    "#         ...  # Create and return a wrapper function.\n",
    "\n",
    "#     if _func is None:\n",
    "#         return decorator_name                      # 2\n",
    "#     else:\n",
    "#         return decorator_name(_func)               # 3\n",
    "\n",
    "\n",
    "# 1. If name has been called without arguments, the decorated function will be passed in as _func. If \n",
    "# it has been called with arguments, then _func will be None, and some of the keyword arguments \n",
    "# may have been changed from their default values. The * in the argument list means that the \n",
    "# remaining arguments can’t be called as positional arguments.\n",
    "\n",
    "# 2. In this case, the decorator was called with arguments. Return a decorator function that can \n",
    "# read and return a function.\n",
    "\n",
    "# 3. In this case, the decorator was called without arguments. Apply the decorator to the function immediately.\n",
    "\n",
    "def repeat(_func=None, *, num_times=2):\n",
    "    \n",
    "    def decorator_repeat(func):\n",
    "        \n",
    "        @wraps(func)\n",
    "        \n",
    "        def wrapper_repeat(*args, **kwargs):\n",
    "            for _ in range(num_times):\n",
    "                value = func(*args, **kwargs)\n",
    "            return value\n",
    "        return wrapper_repeat\n",
    "\n",
    "    if _func is None:\n",
    "        print('FUNC None')\n",
    "        return decorator_repeat\n",
    "    else:\n",
    "        print('FUNC Not None')\n",
    "        return decorator_repeat(_func)\n",
    "    \n",
    "    \n",
    "@repeat\n",
    "def say_whee():\n",
    "    print(\"Whee!\")\n",
    "\n",
    "say_whee()\n",
    "    \n",
    "\n",
    "# @repeat(num_times=3)\n",
    "# def greet(name):\n",
    "#     print(f\"Hello {name}\")\n",
    "\n",
    "# greet('Penny')"
   ]
  },
  {
   "cell_type": "code",
   "execution_count": 77,
   "metadata": {},
   "outputs": [
    {
     "name": "stdout",
     "output_type": "stream",
     "text": [
      "Call 1 of 'say_whee'\n",
      "Whee!\n",
      "Call 2 of 'say_whee'\n",
      "Whee!\n"
     ]
    },
    {
     "data": {
      "text/plain": [
       "2"
      ]
     },
     "execution_count": 77,
     "metadata": {},
     "output_type": "execute_result"
    }
   ],
   "source": [
    "###########################################\n",
    "### Stateful Decorators\n",
    "###########################################\n",
    "\n",
    "# Note: In the beginning of this guide, we talked about pure functions returning a value based \n",
    "# on given arguments. Stateful decorators are quite the opposite, where the return value will \n",
    "# depend on the current state, as well as the given arguments.\n",
    "\n",
    "\n",
    "def count_calls(func):\n",
    "    \n",
    "    @wraps(func)\n",
    "    def wrapper_count_calls(*args, **kwargs):\n",
    "\n",
    "        wrapper_count_calls.num_calls += 1\n",
    "        print(f\"Call {wrapper_count_calls.num_calls} of {func.__name__!r}\")\n",
    "\n",
    "        return func(*args, **kwargs)\n",
    "\n",
    "    wrapper_count_calls.num_calls = 0\n",
    "    return wrapper_count_calls\n",
    "\n",
    "@count_calls\n",
    "def say_whee():\n",
    "    print(\"Whee!\")\n",
    "\n",
    "say_whee()\n",
    "say_whee()\n",
    "say_whee.num_calls"
   ]
  },
  {
   "cell_type": "code",
   "execution_count": 78,
   "metadata": {},
   "outputs": [
    {
     "name": "stdout",
     "output_type": "stream",
     "text": [
      "Current count is 1\n",
      "Current count is 2\n"
     ]
    },
    {
     "data": {
      "text/plain": [
       "2"
      ]
     },
     "execution_count": 78,
     "metadata": {},
     "output_type": "execute_result"
    }
   ],
   "source": [
    "###########################################\n",
    "### Classes as Decorators\n",
    "###########################################\n",
    "\n",
    "class Counter:\n",
    "    \n",
    "    def __init__(self, start=0):\n",
    "        self.count = start\n",
    "\n",
    "    def __call__(self):\n",
    "        # The .__call__() method is executed each time you try to call an instance of the class:\n",
    "        self.count += 1\n",
    "        print(f\"Current count is {self.count}\")\n",
    "\n",
    "\n",
    "counter = Counter()\n",
    "counter()\n",
    "counter()\n",
    "counter.count"
   ]
  },
  {
   "cell_type": "code",
   "execution_count": 84,
   "metadata": {},
   "outputs": [
    {
     "name": "stdout",
     "output_type": "stream",
     "text": [
      "I was inited\n",
      "\n",
      "Call function:\n",
      "Call 1 of 'say_whee'\n",
      "Whee!\n",
      "Call 2 of 'say_whee'\n",
      "Whee!\n"
     ]
    },
    {
     "data": {
      "text/plain": [
       "2"
      ]
     },
     "execution_count": 84,
     "metadata": {},
     "output_type": "execute_result"
    }
   ],
   "source": [
    "# The .__init__() method must store a reference to the function and can do any other necessary \n",
    "# initialization. The .__call__() method will be called instead of the decorated function. It does \n",
    "# essentially the same thing as the wrapper() function in our earlier examples. Note that you need \n",
    "# to use the functools.update_wrapper() function instead of @functools.wraps.\n",
    "\n",
    "import functools\n",
    "\n",
    "class CountCalls:\n",
    "    \n",
    "    def __init__(self, func):\n",
    "        print('I was inited')\n",
    "        \n",
    "        functools.update_wrapper(self, func)\n",
    "        self.func = func\n",
    "        self.num_calls = 0\n",
    "\n",
    "    def __call__(self, *args, **kwargs):\n",
    "        self.num_calls += 1\n",
    "        print(f\"Call {self.num_calls} of {self.func.__name__!r}\")\n",
    "        return self.func(*args, **kwargs)\n",
    "\n",
    "@CountCalls\n",
    "def say_whee():\n",
    "    print(\"Whee!\")\n",
    "\n",
    "print('\\nCall function:')\n",
    "say_whee()\n",
    "say_whee()\n",
    "say_whee.num_calls"
   ]
  },
  {
   "cell_type": "code",
   "execution_count": null,
   "metadata": {},
   "outputs": [],
   "source": []
  },
  {
   "cell_type": "code",
   "execution_count": null,
   "metadata": {},
   "outputs": [],
   "source": []
  },
  {
   "cell_type": "code",
   "execution_count": null,
   "metadata": {},
   "outputs": [],
   "source": []
  },
  {
   "cell_type": "code",
   "execution_count": null,
   "metadata": {},
   "outputs": [],
   "source": []
  },
  {
   "cell_type": "code",
   "execution_count": null,
   "metadata": {},
   "outputs": [],
   "source": []
  }
 ],
 "metadata": {
  "kernelspec": {
   "display_name": "Python 3",
   "language": "python",
   "name": "python3"
  },
  "language_info": {
   "codemirror_mode": {
    "name": "ipython",
    "version": 3
   },
   "file_extension": ".py",
   "mimetype": "text/x-python",
   "name": "python",
   "nbconvert_exporter": "python",
   "pygments_lexer": "ipython3",
   "version": "3.7.4"
  }
 },
 "nbformat": 4,
 "nbformat_minor": 2
}
