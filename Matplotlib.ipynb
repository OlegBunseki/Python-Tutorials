{
 "cells": [
  {
   "cell_type": "code",
   "execution_count": 1,
   "metadata": {},
   "outputs": [],
   "source": [
    "import matplotlib.pyplot as plt\n",
    "\n",
    "# --------------------------------------------------\n",
    "\n",
    "import numpy as np\n",
    "import pandas as pd\n",
    "\n",
    "# --------------------------------------------------\n",
    "\n",
    "# Offizielle Dokumentation:\n",
    "# https://matplotlib.org/api/pyplot_api.html#matplotlib.pyplot.plot\n",
    "\n",
    "# CheatSheet:\n",
    "# (READ): https://www.datasciencecentral.com/group/tutorials/forum/topics/cheat-sheet-data-visualisation-in-python"
   ]
  },
  {
   "cell_type": "code",
   "execution_count": 2,
   "metadata": {},
   "outputs": [],
   "source": [
    "### BACKEND\n",
    "# %matplotlib inline        -> Wird direkt im Juypter Notebook als Grafik angezeigt\n",
    "# %matplotlib notebook      -> Wird als interaktive Grafik dargestellt\n",
    "# %matplotlib tk            -> Tinker als backend benutzen -> wird als separates Fenster geöffnet werden -> VORSICHT, ABSTURZ!"
   ]
  },
  {
   "cell_type": "code",
   "execution_count": 3,
   "metadata": {},
   "outputs": [],
   "source": [
    "# plt.plot()      # line\n",
    "# plt.scatter()\n",
    "# plt.bar()\n",
    "# plt.pie()"
   ]
  },
  {
   "cell_type": "code",
   "execution_count": 4,
   "metadata": {},
   "outputs": [],
   "source": [
    "##########################################################################\n",
    "# LEGEND \n",
    "# plt.plot(x1, x1**2, label='x') \n",
    "# plt.legend(loc='', fontsize=10)\n",
    "#\n",
    "# ===============   =============\n",
    "# Location String   Location Code\n",
    "# ===============   =============\n",
    "#    'best'            0\n",
    "#    'upper right'     1\n",
    "#    'upper left'      2\n",
    "#    'lower left'      3\n",
    "#    'lower right'     4\n",
    "#    'right'           5\n",
    "#    'center left'     6\n",
    "#    'center right'    7\n",
    "#    'lower center'    8\n",
    "#    'upper center'    9\n",
    "#    'center'          10\n",
    "# ===============   =============\n",
    "#\n",
    "##########################################################################\n",
    "\n",
    "##########################################################################\n",
    "# COLORS - plt.plot(x1, x1**2, color='#ff0000')\n",
    "#\n",
    "# =============    ===============================\n",
    "# character        color\n",
    "# =============    ===============================\n",
    "# ``'b'``          blue\n",
    "# ``'g'``          green\n",
    "# ``'r'``          red\n",
    "# ``'c'``          cyan\n",
    "# ``'m'``          magenta\n",
    "# ``'y'``          yellow\n",
    "# ``'k'``          black\n",
    "# ``'w'``          white\n",
    "# =============    ===============================\n",
    "#\n",
    "# for more colors:\n",
    "#    1. see: https://www.w3schools.com/colors/default.asp\n",
    "#    2. google \"Color Picker\"\n",
    "#\n",
    "##########################################################################\n",
    "\n",
    "##########################################################################\n",
    "# MARKERS - plt.plot(x1, x1**2, marker='.')\n",
    "#\n",
    "# =============    ===============================\n",
    "# character        description\n",
    "# =============    ===============================\n",
    "# ``'.'``          point marker\n",
    "# ``','``          pixel marker\n",
    "# ``'o'``          circle marker\n",
    "# ``'v'``          triangle_down marker\n",
    "# ``'^'``          triangle_up marker\n",
    "# ``'<'``          triangle_left marker\n",
    "# ``'>'``          triangle_right marker\n",
    "# ``'1'``          tri_down marker\n",
    "# ``'2'``          tri_up marker\n",
    "# ``'3'``          tri_left marker\n",
    "# ``'4'``          tri_right marker\n",
    "# ``'s'``          square marker\n",
    "# ``'p'``          pentagon marker\n",
    "# ``'*'``          star marker\n",
    "# ``'h'``          hexagon1 marker\n",
    "# ``'H'``          hexagon2 marker\n",
    "# ``'+'``          plus marker\n",
    "# ``'x'``          x marker\n",
    "# ``'D'``          diamond marker\n",
    "# ``'d'``          thin_diamond marker\n",
    "# ``'|'``          vline marker\n",
    "# ``'_'``          hline marker\n",
    "# =============    ===============================\n",
    "#\n",
    "# MORE MARKERS OPTIONS:\n",
    "# - markersize(12)\n",
    "# - markeredgecolor='#000000'\n",
    "# - markeredgewidth=2\n",
    "# - markerfacecolor='#ffffff'\n",
    "#\n",
    "##########################################################################\n",
    "\n",
    "##########################################################################\n",
    "# LINE STYLES - plt.plot(x1, x1**2, linestyle=':')\n",
    "#\n",
    "# =============    ===============================\n",
    "# character        description\n",
    "# =============    ===============================\n",
    "# ``'-'``          solid line style\n",
    "# ``'--'``         dashed line style\n",
    "# ``'-.'``         dash-dot line style\n",
    "# ``':'``          dotted line style\n",
    "# =============    ===============================\n",
    "# \n",
    "# MORE LINE STYLES:\n",
    "# - linewidth()\n",
    "#\n",
    "##########################################################################"
   ]
  },
  {
   "cell_type": "markdown",
   "metadata": {},
   "source": [
    "### Simple Layout"
   ]
  },
  {
   "cell_type": "code",
   "execution_count": 5,
   "metadata": {},
   "outputs": [
    {
     "data": {
      "image/png": "[encoded data removed]",
      "text/plain": [
       "<Figure size 864x432 with 1 Axes>"
      ]
     },
     "metadata": {
      "needs_background": "light"
     },
     "output_type": "display_data"
    }
   ],
   "source": [
    "plt.figure(figsize=(12, 6))\n",
    "\n",
    "plt.plot()\n",
    "\n",
    "plt.xlabel('X')\n",
    "plt.ylabel('Y')\n",
    "\n",
    "plt.title('My Title')\n",
    "\n",
    "plt.xlim(0, 10)\n",
    "plt.ylim(-10, 10)\n",
    "\n",
    "plt.xticks(\n",
    "    np.arange(10, step=0.5), \n",
    "    labels=['A', 'B', 'C', 'D']+list(np.arange(2, 10, step=0.5)), \n",
    "    rotation=45)\n",
    "\n",
    "plt.yticks(\n",
    "    np.arange(-10, 10, step=1), \n",
    "    labels=['A', 'B', 'C', 'D']+list(np.arange(-6, 10, step=1)),\n",
    "    rotation=45)\n",
    "\n",
    "plt.show()"
   ]
  },
  {
   "cell_type": "markdown",
   "metadata": {},
   "source": [
    "### Build Simple Graph"
   ]
  },
  {
   "cell_type": "markdown",
   "metadata": {},
   "source": [
    "#### Build with plt.plot()"
   ]
  },
  {
   "cell_type": "code",
   "execution_count": 7,
   "metadata": {},
   "outputs": [
    {
     "data": {
      "image/png": "[encoded data removed]",
      "text/plain": [
       "<Figure size 864x432 with 1 Axes>"
      ]
     },
     "metadata": {
      "needs_background": "light"
     },
     "output_type": "display_data"
    }
   ],
   "source": [
    "# %matplotlib notebook\n",
    "%matplotlib inline\n",
    "# %matplotlib tk\n",
    "\n",
    "x1 = np.arange(-5, 5.01, 0.5)\n",
    "x2 = np.arange(-3, 7.01, 0.5)\n",
    "x3 = np.arange(-1, 9.01, 0.5)\n",
    "\n",
    "plt.figure(figsize=(12, 6))\n",
    "\n",
    "plt.plot(x1, x1**2, \n",
    "         color='#ff0000', \n",
    "         marker='.', markersize=12, markeredgecolor='#000000', markeredgewidth=2, markerfacecolor='#ffffff',\n",
    "         linestyle=':', linewidth=2, \n",
    "         label='X**2')     \n",
    "\n",
    "plt.plot(x2, (x2-2)**2, \n",
    "         color='#00ff00', \n",
    "         marker='D', markersize=12, markeredgecolor='#000000', markeredgewidth=2, markerfacecolor='#ffffff',\n",
    "         linestyle='-.', linewidth=2,\n",
    "         label='(X-2)**2') \n",
    "\n",
    "plt.plot(x3, (x3-4)**2, \n",
    "         color='#0000ff', \n",
    "         marker='|', markersize=12, markeredgecolor='#000000', markeredgewidth=2, markerfacecolor='#ffffff',\n",
    "         linestyle='--', linewidth=2,\n",
    "         label='(X-4)**2') \n",
    "\n",
    "plt.xlabel('X-Values')\n",
    "plt.ylabel('Y-Values')\n",
    "plt.title('Different x**2 functions')\n",
    "\n",
    "x_axis = (start_x, end_x) = -6, 10\n",
    "y_axis = (start_y, end_y) = -10, 40\n",
    "\n",
    "plt.xlim(x_axis)\n",
    "plt.ylim(y_axis)\n",
    "\n",
    "plt.xticks(np.arange(start_x, end_x, step=1))\n",
    "plt.yticks(np.arange(start_y, end_y, step=5))\n",
    "\n",
    "plt.legend(loc='lower right', fontsize=12)  \n",
    "    \n",
    "plt.show()"
   ]
  },
  {
   "cell_type": "markdown",
   "metadata": {},
   "source": [
    "#### Build with plt.scatter()"
   ]
  },
  {
   "cell_type": "code",
   "execution_count": null,
   "metadata": {},
   "outputs": [],
   "source": [
    "# Similar to plt.plot()\n",
    "# Arguments from plt.plot() are not all applicable (i.e. markersize, linewidth or linestyle)\n",
    "\n",
    "plt.scatter(x1, x1**2, \n",
    "         color='#ff0000', \n",
    "         marker='D', # markersize=12, \n",
    "         # linestyle=':', linewidth=2, \n",
    "         s=25,\n",
    "         label='X**2')  \n",
    "\n",
    "plt.legend()\n",
    "plt.show()"
   ]
  },
  {
   "cell_type": "markdown",
   "metadata": {},
   "source": [
    "#### Build with plt.bar()"
   ]
  },
  {
   "cell_type": "code",
   "execution_count": null,
   "metadata": {},
   "outputs": [],
   "source": [
    "plt.bar(['A', 'B', 'C'], [3, 6, 9])\n",
    "plt.show()"
   ]
  },
  {
   "cell_type": "code",
   "execution_count": null,
   "metadata": {},
   "outputs": [],
   "source": []
  },
  {
   "cell_type": "code",
   "execution_count": null,
   "metadata": {},
   "outputs": [],
   "source": []
  },
  {
   "cell_type": "code",
   "execution_count": null,
   "metadata": {},
   "outputs": [],
   "source": []
  },
  {
   "cell_type": "code",
   "execution_count": null,
   "metadata": {},
   "outputs": [],
   "source": []
  },
  {
   "cell_type": "code",
   "execution_count": null,
   "metadata": {},
   "outputs": [],
   "source": []
  },
  {
   "cell_type": "code",
   "execution_count": null,
   "metadata": {},
   "outputs": [],
   "source": [
    "df = pd.read_csv('..\\MyDatasets\\Titanic\\Database_Titanic.csv', sep=';')\n",
    "df.Age = df.Age.apply(lambda x: str(x).replace(',', '.')).astype(float)\n",
    "df['Ticket price'] = df['Ticket price'].apply(lambda x: str(x).replace(',', '.')).astype(float)"
   ]
  },
  {
   "cell_type": "code",
   "execution_count": null,
   "metadata": {},
   "outputs": [],
   "source": [
    "df.groupby(['Sex'])['Age'].count()"
   ]
  },
  {
   "cell_type": "code",
   "execution_count": null,
   "metadata": {},
   "outputs": [],
   "source": []
  },
  {
   "cell_type": "code",
   "execution_count": null,
   "metadata": {},
   "outputs": [],
   "source": []
  },
  {
   "cell_type": "code",
   "execution_count": null,
   "metadata": {},
   "outputs": [],
   "source": []
  }
 ],
 "metadata": {
  "kernelspec": {
   "display_name": "Python 3",
   "language": "python",
   "name": "python3"
  },
  "language_info": {
   "codemirror_mode": {
    "name": "ipython",
    "version": 3
   },
   "file_extension": ".py",
   "mimetype": "text/x-python",
   "name": "python",
   "nbconvert_exporter": "python",
   "pygments_lexer": "ipython3",
   "version": "3.7.4"
  }
 },
 "nbformat": 4,
 "nbformat_minor": 2
}
