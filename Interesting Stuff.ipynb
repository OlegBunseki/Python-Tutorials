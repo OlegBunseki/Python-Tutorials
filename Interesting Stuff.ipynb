{
 "cells": [
  {
   "cell_type": "markdown",
   "metadata": {},
   "source": [
    "### Probelm 1"
   ]
  },
  {
   "cell_type": "code",
   "execution_count": 1,
   "metadata": {},
   "outputs": [],
   "source": [
    "x = 1\n",
    "y = 2\n",
    "l = [x, y]\n",
    "x += 5\n",
    "\n",
    "a = [1]\n",
    "b = [2]\n",
    "s = [a, b]\n",
    "a.append(5)"
   ]
  },
  {
   "cell_type": "code",
   "execution_count": 5,
   "metadata": {},
   "outputs": [
    {
     "name": "stdout",
     "output_type": "stream",
     "text": [
      "[1, 2]\n",
      "x equals to: 6\n",
      "\n",
      "[[1, 5], [2]]\n"
     ]
    }
   ],
   "source": [
    "print(l)\n",
    "print('x equals to:', x)\n",
    "print()\n",
    "print(s)"
   ]
  },
  {
   "cell_type": "markdown",
   "metadata": {},
   "source": [
    "Explanation: \n",
    "- Difference between mutable and immutable objects in Python.\n",
    "- Mutable objects like lists, sets or dictionaries can be changed (mutated) in place. \n",
    "- Immutable objects like ints, strings and tuples cannot — a“change” of such an object results in a creation of a new object.\n",
    "- Since x is immutable, the operation x+=5 does not alter the original object, but creates a new one. \n",
    "- The first element of the list still points to the original object, therefore its value remains the same.\n",
    "- In case of a mutable object a, a.append(5) changes the original object, therefore list s “sees” the change."
   ]
  },
  {
   "cell_type": "markdown",
   "metadata": {},
   "source": [
    "### Probelm 2"
   ]
  },
  {
   "cell_type": "code",
   "execution_count": 24,
   "metadata": {},
   "outputs": [],
   "source": [
    "def f(x, s=set()):\n",
    "    s.add(x)\n",
    "    return s"
   ]
  },
  {
   "cell_type": "code",
   "execution_count": 25,
   "metadata": {},
   "outputs": [
    {
     "name": "stdout",
     "output_type": "stream",
     "text": [
      "{7}\n",
      "{4, 5, 6}\n",
      "{2, 7}\n"
     ]
    }
   ],
   "source": [
    "print(f(7))\n",
    "print(f(6, {4, 5}))\n",
    "print(f(2))"
   ]
  },
  {
   "cell_type": "markdown",
   "metadata": {},
   "source": [
    "Explanation:\n",
    "- The first two outputs make total sense: first the value of 7 is added to the default empty set resulting in {7}, then the value of 6 is added to a set of {4, 5} resulting in {4, 5, 6}.\n",
    "- But then a weird thing happens: the value of 2 is added not to the default empty set, but to a set of {7}. Why? \n",
    "- The default value of the optional parameter s is evaluated only once — only during the first call s will be initialized as an empty set. \n",
    "- Since s is mutable after calling f(7) it is modified in place. \n",
    "- The second call f(6, {4, 5}) does not affect the default parameter — the provided set {4, 5} shadows it, in other words {4, 5} is a different variable. \n",
    "- The third call f(2) uses the same s variable which was used in the first call, but s is not re-initialized as an empty set — it’s previous value of {7} is used."
   ]
  },
  {
   "cell_type": "markdown",
   "metadata": {},
   "source": [
    "### Probelm 3"
   ]
  },
  {
   "cell_type": "code",
   "execution_count": 27,
   "metadata": {},
   "outputs": [],
   "source": [
    "def f():\n",
    "    l = [1]\n",
    "    def inner(x):\n",
    "        l.append(x)\n",
    "        return l\n",
    "    return inner\n",
    "\n",
    "def g():\n",
    "    y = 1\n",
    "    def inner(x):\n",
    "        y += x\n",
    "        return y\n",
    "    return inner"
   ]
  },
  {
   "cell_type": "code",
   "execution_count": 29,
   "metadata": {},
   "outputs": [
    {
     "name": "stdout",
     "output_type": "stream",
     "text": [
      "[1, 2]\n"
     ]
    }
   ],
   "source": [
    "f_inner = f()\n",
    "print(f_inner(2))"
   ]
  },
  {
   "cell_type": "code",
   "execution_count": 30,
   "metadata": {},
   "outputs": [
    {
     "ename": "UnboundLocalError",
     "evalue": "local variable 'y' referenced before assignment",
     "output_type": "error",
     "traceback": [
      "\u001b[1;31m---------------------------------------------------------------------------\u001b[0m",
      "\u001b[1;31mUnboundLocalError\u001b[0m                         Traceback (most recent call last)",
      "\u001b[1;32m<ipython-input-30-c2a64ef12ba0>\u001b[0m in \u001b[0;36m<module>\u001b[1;34m\u001b[0m\n\u001b[0;32m      1\u001b[0m \u001b[0mg_inner\u001b[0m \u001b[1;33m=\u001b[0m \u001b[0mg\u001b[0m\u001b[1;33m(\u001b[0m\u001b[1;33m)\u001b[0m\u001b[1;33m\u001b[0m\u001b[1;33m\u001b[0m\u001b[0m\n\u001b[1;32m----> 2\u001b[1;33m \u001b[0mprint\u001b[0m\u001b[1;33m(\u001b[0m\u001b[0mg_inner\u001b[0m\u001b[1;33m(\u001b[0m\u001b[1;36m2\u001b[0m\u001b[1;33m)\u001b[0m\u001b[1;33m)\u001b[0m\u001b[1;33m\u001b[0m\u001b[1;33m\u001b[0m\u001b[0m\n\u001b[0m",
      "\u001b[1;32m<ipython-input-27-c57e77dcf710>\u001b[0m in \u001b[0;36minner\u001b[1;34m(x)\u001b[0m\n\u001b[0;32m      8\u001b[0m     \u001b[0my\u001b[0m \u001b[1;33m=\u001b[0m \u001b[1;36m1\u001b[0m\u001b[1;33m\u001b[0m\u001b[1;33m\u001b[0m\u001b[0m\n\u001b[0;32m      9\u001b[0m     \u001b[1;32mdef\u001b[0m \u001b[0minner\u001b[0m\u001b[1;33m(\u001b[0m\u001b[0mx\u001b[0m\u001b[1;33m)\u001b[0m\u001b[1;33m:\u001b[0m\u001b[1;33m\u001b[0m\u001b[1;33m\u001b[0m\u001b[0m\n\u001b[1;32m---> 10\u001b[1;33m         \u001b[0my\u001b[0m \u001b[1;33m+=\u001b[0m \u001b[0mx\u001b[0m\u001b[1;33m\u001b[0m\u001b[1;33m\u001b[0m\u001b[0m\n\u001b[0m\u001b[0;32m     11\u001b[0m         \u001b[1;32mreturn\u001b[0m \u001b[0my\u001b[0m\u001b[1;33m\u001b[0m\u001b[1;33m\u001b[0m\u001b[0m\n\u001b[0;32m     12\u001b[0m     \u001b[1;32mreturn\u001b[0m \u001b[0minner\u001b[0m\u001b[1;33m\u001b[0m\u001b[1;33m\u001b[0m\u001b[0m\n",
      "\u001b[1;31mUnboundLocalError\u001b[0m: local variable 'y' referenced before assignment"
     ]
    }
   ],
   "source": [
    "g_inner = g()\n",
    "print(g_inner(2)) # UnboundLocalError: local variable 'y' referenced before assignment"
   ]
  },
  {
   "cell_type": "markdown",
   "metadata": {},
   "source": [
    "Explanation:\n",
    "- In this problem we deal with closures — the fact that inner functions remember how their enclosing namespaces looked at the time of definition. \n",
    "- Or at least they should — the second function keeps a poker face and acts as if it never heard of its outer scope.\n",
    "- Why is that? \n",
    "- When we execute l.append(x) the mutable object created at the definition time is modified, but variable l still points to the same address in the memory. \n",
    "- However an attempt to alter the immutable variable in the second function y += x causes y to point to a different address in the memory than before — the original y will no longer be remembered therefore resulting in UnboundLocalError."
   ]
  },
  {
   "cell_type": "markdown",
   "metadata": {},
   "source": [
    "- Do not use mutable default arguments.\n",
    "- Do not try to change immutable closure variables in inner functions."
   ]
  },
  {
   "cell_type": "code",
   "execution_count": null,
   "metadata": {},
   "outputs": [],
   "source": []
  }
 ],
 "metadata": {
  "kernelspec": {
   "display_name": "Python 3",
   "language": "python",
   "name": "python3"
  },
  "language_info": {
   "codemirror_mode": {
    "name": "ipython",
    "version": 3
   },
   "file_extension": ".py",
   "mimetype": "text/x-python",
   "name": "python",
   "nbconvert_exporter": "python",
   "pygments_lexer": "ipython3",
   "version": "3.7.3"
  }
 },
 "nbformat": 4,
 "nbformat_minor": 4
}
